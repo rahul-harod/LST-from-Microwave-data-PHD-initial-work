{
 "cells": [
  {
   "cell_type": "code",
   "execution_count": 41,
   "id": "d7726e46",
   "metadata": {
    "ExecuteTime": {
     "end_time": "2021-06-30T06:32:49.809542Z",
     "start_time": "2021-06-30T06:32:49.799569Z"
    }
   },
   "outputs": [],
   "source": [
    "import numpy as np\n",
    "import pandas as pd\n",
    "from sklearn.svm import SVR\n",
    "from sklearn.pipeline import make_pipeline\n",
    "from sklearn.preprocessing import StandardScaler\n",
    "from sklearn.model_selection import train_test_split\n",
    "from sklearn.metrics import r2_score\n",
    "import matplotlib.pyplot as plt"
   ]
  },
  {
   "cell_type": "code",
   "execution_count": 71,
   "id": "7d8e454f",
   "metadata": {
    "ExecuteTime": {
     "end_time": "2021-06-30T07:01:18.118471Z",
     "start_time": "2021-06-30T07:01:18.092059Z"
    }
   },
   "outputs": [],
   "source": [
    "data=pd.read_csv('E:/rahul/processed_data/18VGHZdata.csv')\n",
    "x=np.array(data['BT_18V'])\n",
    "y=np.array(data['EMISSIVTY_18V'])"
   ]
  },
  {
   "cell_type": "code",
   "execution_count": null,
   "id": "f1b19b80",
   "metadata": {
    "ExecuteTime": {
     "end_time": "2021-06-30T06:23:58.227107Z",
     "start_time": "2021-06-30T06:23:58.223118Z"
    }
   },
   "outputs": [],
   "source": []
  },
  {
   "cell_type": "code",
   "execution_count": 72,
   "id": "83cd369f",
   "metadata": {
    "ExecuteTime": {
     "end_time": "2021-06-30T07:01:20.930326Z",
     "start_time": "2021-06-30T07:01:20.921352Z"
    }
   },
   "outputs": [
    {
     "data": {
      "text/plain": [
       "array([299. , 301.7, 300.5, ..., 301.6, 301.7, 301.8])"
      ]
     },
     "execution_count": 72,
     "metadata": {},
     "output_type": "execute_result"
    }
   ],
   "source": [
    "x"
   ]
  },
  {
   "cell_type": "code",
   "execution_count": 73,
   "id": "5637ad33",
   "metadata": {
    "ExecuteTime": {
     "end_time": "2021-06-30T07:01:22.728209Z",
     "start_time": "2021-06-30T07:01:22.602337Z"
    }
   },
   "outputs": [
    {
     "data": {
      "text/plain": [
       "<matplotlib.collections.PathCollection at 0x1ddd510ab20>"
      ]
     },
     "execution_count": 73,
     "metadata": {},
     "output_type": "execute_result"
    },
    {
     "data": {
      "image/png": "[encoded data removed]",
      "text/plain": [
       "<Figure size 432x288 with 1 Axes>"
      ]
     },
     "metadata": {
      "needs_background": "light"
     },
     "output_type": "display_data"
    }
   ],
   "source": [
    "plt.scatter(x,y)"
   ]
  },
  {
   "cell_type": "code",
   "execution_count": 74,
   "id": "2725216e",
   "metadata": {
    "ExecuteTime": {
     "end_time": "2021-06-30T07:01:23.867375Z",
     "start_time": "2021-06-30T07:01:23.861390Z"
    }
   },
   "outputs": [],
   "source": [
    "X_train, X_test, Y_train, Y_test = train_test_split(x, y, test_size=0.30, random_state=42)"
   ]
  },
  {
   "cell_type": "code",
   "execution_count": 75,
   "id": "e06f7ab3",
   "metadata": {
    "ExecuteTime": {
     "end_time": "2021-06-30T07:01:24.932584Z",
     "start_time": "2021-06-30T07:01:24.920493Z"
    }
   },
   "outputs": [],
   "source": [
    "X_train=X_train.reshape(-1,1)\n",
    "Y_train=Y_train.reshape(-1,1)"
   ]
  },
  {
   "cell_type": "code",
   "execution_count": 76,
   "id": "7360b131",
   "metadata": {
    "ExecuteTime": {
     "end_time": "2021-06-30T07:01:25.664958Z",
     "start_time": "2021-06-30T07:01:25.642913Z"
    }
   },
   "outputs": [],
   "source": [
    "sc_X=StandardScaler()  \n",
    "sc_Y=StandardScaler()  \n",
    "X_train_sc=sc_X.fit_transform(X_train)\n",
    "Y_train_sc=sc_Y.fit_transform(Y_train)"
   ]
  },
  {
   "cell_type": "code",
   "execution_count": 77,
   "id": "d04b7c5b",
   "metadata": {
    "ExecuteTime": {
     "end_time": "2021-06-30T07:01:26.571705Z",
     "start_time": "2021-06-30T07:01:26.561663Z"
    }
   },
   "outputs": [
    {
     "data": {
      "text/plain": [
       "array([[-0.57943292],\n",
       "       [-0.10268029],\n",
       "       [ 1.52831553],\n",
       "       ...,\n",
       "       [ 1.10174739],\n",
       "       [-0.93072432],\n",
       "       [ 0.39916458]])"
      ]
     },
     "execution_count": 77,
     "metadata": {},
     "output_type": "execute_result"
    }
   ],
   "source": [
    "X_train_sc"
   ]
  },
  {
   "cell_type": "code",
   "execution_count": 78,
   "id": "fad6453e",
   "metadata": {
    "ExecuteTime": {
     "end_time": "2021-06-30T07:01:28.493767Z",
     "start_time": "2021-06-30T07:01:27.840581Z"
    }
   },
   "outputs": [
    {
     "name": "stderr",
     "output_type": "stream",
     "text": [
      "C:\\ProgramData\\Anaconda3\\lib\\site-packages\\sklearn\\utils\\validation.py:72: DataConversionWarning: A column-vector y was passed when a 1d array was expected. Please change the shape of y to (n_samples, ), for example using ravel().\n",
      "  return f(**kwargs)\n"
     ]
    },
    {
     "data": {
      "text/plain": [
       "SVR()"
      ]
     },
     "execution_count": 78,
     "metadata": {},
     "output_type": "execute_result"
    }
   ],
   "source": [
    "regressor=SVR(kernel='rbf')\n",
    "regressor.fit(X_train_sc,Y_train_sc)"
   ]
  },
  {
   "cell_type": "code",
   "execution_count": 79,
   "id": "5926a560",
   "metadata": {
    "ExecuteTime": {
     "end_time": "2021-06-30T07:01:29.632901Z",
     "start_time": "2021-06-30T07:01:29.510557Z"
    }
   },
   "outputs": [],
   "source": [
    "Y_pred=sc_Y.inverse_transform(regressor.predict(sc_X.transform(X_test.reshape(-1,1))))"
   ]
  },
  {
   "cell_type": "code",
   "execution_count": null,
   "id": "9bb4de86",
   "metadata": {
    "ExecuteTime": {
     "end_time": "2021-06-30T06:39:33.180690Z",
     "start_time": "2021-06-30T06:39:33.174707Z"
    }
   },
   "outputs": [],
   "source": []
  },
  {
   "cell_type": "code",
   "execution_count": 80,
   "id": "571f9851",
   "metadata": {
    "ExecuteTime": {
     "end_time": "2021-06-30T07:01:30.838252Z",
     "start_time": "2021-06-30T07:01:30.832270Z"
    }
   },
   "outputs": [
    {
     "data": {
      "text/plain": [
       "0.007453880192231699"
      ]
     },
     "execution_count": 80,
     "metadata": {},
     "output_type": "execute_result"
    }
   ],
   "source": [
    "r2_score(Y_test,Y_pred)"
   ]
  },
  {
   "cell_type": "code",
   "execution_count": 81,
   "id": "e08ab130",
   "metadata": {
    "ExecuteTime": {
     "end_time": "2021-06-30T07:01:32.910363Z",
     "start_time": "2021-06-30T07:01:32.888259Z"
    }
   },
   "outputs": [
    {
     "data": {
      "text/html": [
       "<div>\n",
       "<style scoped>\n",
       "    .dataframe tbody tr th:only-of-type {\n",
       "        vertical-align: middle;\n",
       "    }\n",
       "\n",
       "    .dataframe tbody tr th {\n",
       "        vertical-align: top;\n",
       "    }\n",
       "\n",
       "    .dataframe thead th {\n",
       "        text-align: right;\n",
       "    }\n",
       "</style>\n",
       "<table border=\"1\" class=\"dataframe\">\n",
       "  <thead>\n",
       "    <tr style=\"text-align: right;\">\n",
       "      <th></th>\n",
       "      <th>emiss</th>\n",
       "      <th>pred</th>\n",
       "      <th>diff</th>\n",
       "    </tr>\n",
       "  </thead>\n",
       "  <tbody>\n",
       "    <tr>\n",
       "      <th>0</th>\n",
       "      <td>0.945710</td>\n",
       "      <td>0.946170</td>\n",
       "      <td>-0.000459</td>\n",
       "    </tr>\n",
       "    <tr>\n",
       "      <th>1</th>\n",
       "      <td>0.952689</td>\n",
       "      <td>0.946150</td>\n",
       "      <td>0.006539</td>\n",
       "    </tr>\n",
       "    <tr>\n",
       "      <th>2</th>\n",
       "      <td>0.953814</td>\n",
       "      <td>0.944269</td>\n",
       "      <td>0.009545</td>\n",
       "    </tr>\n",
       "    <tr>\n",
       "      <th>3</th>\n",
       "      <td>0.938107</td>\n",
       "      <td>0.946327</td>\n",
       "      <td>-0.008219</td>\n",
       "    </tr>\n",
       "    <tr>\n",
       "      <th>4</th>\n",
       "      <td>0.941832</td>\n",
       "      <td>0.944080</td>\n",
       "      <td>-0.002247</td>\n",
       "    </tr>\n",
       "    <tr>\n",
       "      <th>...</th>\n",
       "      <td>...</td>\n",
       "      <td>...</td>\n",
       "      <td>...</td>\n",
       "    </tr>\n",
       "    <tr>\n",
       "      <th>2229</th>\n",
       "      <td>0.956938</td>\n",
       "      <td>0.946099</td>\n",
       "      <td>0.010839</td>\n",
       "    </tr>\n",
       "    <tr>\n",
       "      <th>2230</th>\n",
       "      <td>0.945416</td>\n",
       "      <td>0.946968</td>\n",
       "      <td>-0.001552</td>\n",
       "    </tr>\n",
       "    <tr>\n",
       "      <th>2231</th>\n",
       "      <td>0.959539</td>\n",
       "      <td>0.946896</td>\n",
       "      <td>0.012643</td>\n",
       "    </tr>\n",
       "    <tr>\n",
       "      <th>2232</th>\n",
       "      <td>0.951267</td>\n",
       "      <td>0.944051</td>\n",
       "      <td>0.007216</td>\n",
       "    </tr>\n",
       "    <tr>\n",
       "      <th>2233</th>\n",
       "      <td>0.927671</td>\n",
       "      <td>0.944170</td>\n",
       "      <td>-0.016499</td>\n",
       "    </tr>\n",
       "  </tbody>\n",
       "</table>\n",
       "<p>2234 rows × 3 columns</p>\n",
       "</div>"
      ],
      "text/plain": [
       "         emiss      pred      diff\n",
       "0     0.945710  0.946170 -0.000459\n",
       "1     0.952689  0.946150  0.006539\n",
       "2     0.953814  0.944269  0.009545\n",
       "3     0.938107  0.946327 -0.008219\n",
       "4     0.941832  0.944080 -0.002247\n",
       "...        ...       ...       ...\n",
       "2229  0.956938  0.946099  0.010839\n",
       "2230  0.945416  0.946968 -0.001552\n",
       "2231  0.959539  0.946896  0.012643\n",
       "2232  0.951267  0.944051  0.007216\n",
       "2233  0.927671  0.944170 -0.016499\n",
       "\n",
       "[2234 rows x 3 columns]"
      ]
     },
     "execution_count": 81,
     "metadata": {},
     "output_type": "execute_result"
    }
   ],
   "source": [
    "df=pd.DataFrame({})\n",
    "df['emiss']=Y_test\n",
    "df['pred']=Y_pred\n",
    "df['diff']=Y_test-Y_pred\n",
    "df"
   ]
  },
  {
   "cell_type": "code",
   "execution_count": 82,
   "id": "f8de3c3e",
   "metadata": {
    "ExecuteTime": {
     "end_time": "2021-06-30T07:01:50.163025Z",
     "start_time": "2021-06-30T07:01:50.142196Z"
    }
   },
   "outputs": [
    {
     "data": {
      "text/html": [
       "<div>\n",
       "<style scoped>\n",
       "    .dataframe tbody tr th:only-of-type {\n",
       "        vertical-align: middle;\n",
       "    }\n",
       "\n",
       "    .dataframe tbody tr th {\n",
       "        vertical-align: top;\n",
       "    }\n",
       "\n",
       "    .dataframe thead th {\n",
       "        text-align: right;\n",
       "    }\n",
       "</style>\n",
       "<table border=\"1\" class=\"dataframe\">\n",
       "  <thead>\n",
       "    <tr style=\"text-align: right;\">\n",
       "      <th></th>\n",
       "      <th>emiss</th>\n",
       "      <th>pred</th>\n",
       "      <th>diff</th>\n",
       "    </tr>\n",
       "  </thead>\n",
       "  <tbody>\n",
       "    <tr>\n",
       "      <th>count</th>\n",
       "      <td>2234.000000</td>\n",
       "      <td>2234.000000</td>\n",
       "      <td>2234.000000</td>\n",
       "    </tr>\n",
       "    <tr>\n",
       "      <th>mean</th>\n",
       "      <td>0.947518</td>\n",
       "      <td>0.946009</td>\n",
       "      <td>0.001509</td>\n",
       "    </tr>\n",
       "    <tr>\n",
       "      <th>std</th>\n",
       "      <td>0.010418</td>\n",
       "      <td>0.001392</td>\n",
       "      <td>0.010269</td>\n",
       "    </tr>\n",
       "    <tr>\n",
       "      <th>min</th>\n",
       "      <td>0.909637</td>\n",
       "      <td>0.933116</td>\n",
       "      <td>-0.034368</td>\n",
       "    </tr>\n",
       "    <tr>\n",
       "      <th>25%</th>\n",
       "      <td>0.940506</td>\n",
       "      <td>0.945023</td>\n",
       "      <td>-0.005370</td>\n",
       "    </tr>\n",
       "    <tr>\n",
       "      <th>50%</th>\n",
       "      <td>0.945955</td>\n",
       "      <td>0.946170</td>\n",
       "      <td>-0.000178</td>\n",
       "    </tr>\n",
       "    <tr>\n",
       "      <th>75%</th>\n",
       "      <td>0.952716</td>\n",
       "      <td>0.946817</td>\n",
       "      <td>0.006436</td>\n",
       "    </tr>\n",
       "    <tr>\n",
       "      <th>max</th>\n",
       "      <td>0.989985</td>\n",
       "      <td>0.954290</td>\n",
       "      <td>0.046407</td>\n",
       "    </tr>\n",
       "  </tbody>\n",
       "</table>\n",
       "</div>"
      ],
      "text/plain": [
       "             emiss         pred         diff\n",
       "count  2234.000000  2234.000000  2234.000000\n",
       "mean      0.947518     0.946009     0.001509\n",
       "std       0.010418     0.001392     0.010269\n",
       "min       0.909637     0.933116    -0.034368\n",
       "25%       0.940506     0.945023    -0.005370\n",
       "50%       0.945955     0.946170    -0.000178\n",
       "75%       0.952716     0.946817     0.006436\n",
       "max       0.989985     0.954290     0.046407"
      ]
     },
     "execution_count": 82,
     "metadata": {},
     "output_type": "execute_result"
    }
   ],
   "source": [
    "df.describe()"
   ]
  },
  {
   "cell_type": "code",
   "execution_count": 86,
   "id": "aec60a42",
   "metadata": {
    "ExecuteTime": {
     "end_time": "2021-06-30T07:08:27.895523Z",
     "start_time": "2021-06-30T07:08:27.786815Z"
    }
   },
   "outputs": [
    {
     "data": {
      "text/plain": [
       "<matplotlib.collections.PathCollection at 0x1ddd5414820>"
      ]
     },
     "execution_count": 86,
     "metadata": {},
     "output_type": "execute_result"
    },
    {
     "data": {
      "image/png": "[encoded data removed]",
      "text/plain": [
       "<Figure size 432x288 with 1 Axes>"
      ]
     },
     "metadata": {
      "needs_background": "light"
     },
     "output_type": "display_data"
    }
   ],
   "source": [
    "plt.scatter(df.index.values,df['diff'])"
   ]
  },
  {
   "cell_type": "code",
   "execution_count": 89,
   "id": "22286997",
   "metadata": {
    "ExecuteTime": {
     "end_time": "2021-06-30T07:21:14.709045Z",
     "start_time": "2021-06-30T07:21:14.555456Z"
    }
   },
   "outputs": [
    {
     "data": {
      "text/plain": [
       "<matplotlib.colorbar.Colorbar at 0x1ddd580b310>"
      ]
     },
     "execution_count": 89,
     "metadata": {},
     "output_type": "execute_result"
    },
    {
     "data": {
      "image/png": "[encoded data removed]",
      "text/plain": [
       "<Figure size 432x288 with 2 Axes>"
      ]
     },
     "metadata": {
      "needs_background": "light"
     },
     "output_type": "display_data"
    }
   ],
   "source": [
    "plt.hist2d(df.index.values,df['diff'], (50, 50), cmap=plt.cm.jet)\n",
    "plt.colorbar()"
   ]
  },
  {
   "cell_type": "code",
   "execution_count": null,
   "id": "22673a89",
   "metadata": {},
   "outputs": [],
   "source": []
  }
 ],
 "metadata": {
  "kernelspec": {
   "display_name": "Python 3",
   "language": "python",
   "name": "python3"
  },
  "language_info": {
   "codemirror_mode": {
    "name": "ipython",
    "version": 3
   },
   "file_extension": ".py",
   "mimetype": "text/x-python",
   "name": "python",
   "nbconvert_exporter": "python",
   "pygments_lexer": "ipython3",
   "version": "3.8.8"
  },
  "varInspector": {
   "cols": {
    "lenName": 16,
    "lenType": 16,
    "lenVar": 40
   },
   "kernels_config": {
    "python": {
     "delete_cmd_postfix": "",
     "delete_cmd_prefix": "del ",
     "library": "var_list.py",
     "varRefreshCmd": "print(var_dic_list())"
    },
    "r": {
     "delete_cmd_postfix": ") ",
     "delete_cmd_prefix": "rm(",
     "library": "var_list.r",
     "varRefreshCmd": "cat(var_dic_list()) "
    }
   },
   "types_to_exclude": [
    "module",
    "function",
    "builtin_function_or_method",
    "instance",
    "_Feature"
   ],
   "window_display": false
  }
 },
 "nbformat": 4,
 "nbformat_minor": 5
}
