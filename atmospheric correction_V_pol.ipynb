{
 "cells": [
  {
   "cell_type": "code",
   "execution_count": 1,
   "id": "bf034e72",
   "metadata": {},
   "outputs": [],
   "source": [
    "import numpy as np\n",
    "import matplotlib as plt\n",
    "from osgeo import gdal\n",
    "import pandas as pd\n",
    "import os\n",
    "\n"
   ]
  },
  {
   "cell_type": "code",
   "execution_count": 33,
   "id": "ad077143",
   "metadata": {},
   "outputs": [
    {
     "data": {
      "text/html": [
       "<div>\n",
       "<style scoped>\n",
       "    .dataframe tbody tr th:only-of-type {\n",
       "        vertical-align: middle;\n",
       "    }\n",
       "\n",
       "    .dataframe tbody tr th {\n",
       "        vertical-align: top;\n",
       "    }\n",
       "\n",
       "    .dataframe thead th {\n",
       "        text-align: right;\n",
       "    }\n",
       "</style>\n",
       "<table border=\"1\" class=\"dataframe\">\n",
       "  <thead>\n",
       "    <tr style=\"text-align: right;\">\n",
       "      <th></th>\n",
       "      <th>Unnamed: 0</th>\n",
       "      <th>DOY</th>\n",
       "      <th>wavelen_um</th>\n",
       "      <th>Transmissivity</th>\n",
       "      <th>Upwelling_BT(K)</th>\n",
       "      <th>Downwelling_BT(K)</th>\n",
       "    </tr>\n",
       "  </thead>\n",
       "  <tbody>\n",
       "    <tr>\n",
       "      <th>0</th>\n",
       "      <td>0</td>\n",
       "      <td>10</td>\n",
       "      <td>3400.0</td>\n",
       "      <td>0.692064</td>\n",
       "      <td>62.6690</td>\n",
       "      <td>72.6199</td>\n",
       "    </tr>\n",
       "    <tr>\n",
       "      <th>1</th>\n",
       "      <td>1</td>\n",
       "      <td>10</td>\n",
       "      <td>8200.0</td>\n",
       "      <td>0.707603</td>\n",
       "      <td>156.0130</td>\n",
       "      <td>193.6840</td>\n",
       "    </tr>\n",
       "    <tr>\n",
       "      <th>3</th>\n",
       "      <td>3</td>\n",
       "      <td>10</td>\n",
       "      <td>16000.0</td>\n",
       "      <td>0.920671</td>\n",
       "      <td>31.4334</td>\n",
       "      <td>35.0340</td>\n",
       "    </tr>\n",
       "    <tr>\n",
       "      <th>4</th>\n",
       "      <td>4</td>\n",
       "      <td>10</td>\n",
       "      <td>28200.0</td>\n",
       "      <td>0.937878</td>\n",
       "      <td>21.7138</td>\n",
       "      <td>24.2554</td>\n",
       "    </tr>\n",
       "    <tr>\n",
       "      <th>5</th>\n",
       "      <td>5</td>\n",
       "      <td>10</td>\n",
       "      <td>43300.0</td>\n",
       "      <td>0.941592</td>\n",
       "      <td>20.8122</td>\n",
       "      <td>23.2796</td>\n",
       "    </tr>\n",
       "  </tbody>\n",
       "</table>\n",
       "</div>"
      ],
      "text/plain": [
       "   Unnamed: 0  DOY  wavelen_um  Transmissivity  Upwelling_BT(K)  \\\n",
       "0           0   10      3400.0        0.692064          62.6690   \n",
       "1           1   10      8200.0        0.707603         156.0130   \n",
       "3           3   10     16000.0        0.920671          31.4334   \n",
       "4           4   10     28200.0        0.937878          21.7138   \n",
       "5           5   10     43300.0        0.941592          20.8122   \n",
       "\n",
       "   Downwelling_BT(K)  \n",
       "0            72.6199  \n",
       "1           193.6840  \n",
       "3            35.0340  \n",
       "4            24.2554  \n",
       "5            23.2796  "
      ]
     },
     "execution_count": 33,
     "metadata": {},
     "output_type": "execute_result"
    }
   ],
   "source": [
    "wavelen_dict={6:43300.0,10:28200.0,18:16000.0,36:8200.0,89:3400.0}\n",
    "\n",
    "corr=pd.read_csv(r\"E:23sept/LUT_OUTPUT/North_east_JUNE_1_10.csv\")\n",
    "# remove 23GHZ(12600um)\n",
    "corr=corr[corr['wavelen_um']!=12600]\n",
    "corr.head()"
   ]
  },
  {
   "cell_type": "code",
   "execution_count": 34,
   "id": "30cb1a23",
   "metadata": {},
   "outputs": [
    {
     "name": "stdout",
     "output_type": "stream",
     "text": [
      "39\n",
      "10\n"
     ]
    }
   ],
   "source": [
    "b='AMSER-E_monthly_emissivity_Mayl200610.7'\n",
    "print(len(b))\n",
    "print(b[35:37])"
   ]
  },
  {
   "cell_type": "code",
   "execution_count": 35,
   "id": "5f662341",
   "metadata": {},
   "outputs": [],
   "source": [
    "LST_path=r'E:23sept/LST/june_LST/'\n",
    "lst_dict={}\n",
    "LST_list=[]\n",
    "doy_num=151\n",
    "for root, dirs, files in os.walk(LST_path):\n",
    "    for name in files:\n",
    "        LST_list.append(LST_path+name)\n",
    "for i in range(len(LST_list)):\n",
    "    lst_dict[i+1+doy_num]=LST_list[i]\n",
    "   \n",
    "\n",
    "emiss_path = r'E:23sept/Emissivity/june_emiss/'\n",
    "emiss_dict={}\n",
    "for root, dirs, files in os.walk(emiss_path):\n",
    "    for name in files:\n",
    "        if 'V.tif' in name:\n",
    "            W=int(name[35:37].strip('.'))\n",
    "#             emiss_list.append(emiss_path+name)\n",
    "            emiss_dict[W]=emiss_path+name"
   ]
  },
  {
   "cell_type": "code",
   "execution_count": 36,
   "id": "3c35a2c5",
   "metadata": {},
   "outputs": [
    {
     "name": "stdout",
     "output_type": "stream",
     "text": [
      "{152: 'E:23sept/LST/june_LST/MYD11C1.A2006152.006.2015292174138.hdf.tif.tif', 153: 'E:23sept/LST/june_LST/MYD11C1.A2006153.006.2015292142521.hdf.tif.tif', 154: 'E:23sept/LST/june_LST/MYD11C1.A2006154.006.2015292142544.hdf.tif.tif', 155: 'E:23sept/LST/june_LST/MYD11C1.A2006155.006.2015292142520.hdf.tif.tif', 156: 'E:23sept/LST/june_LST/MYD11C1.A2006156.006.2015292142522.hdf.tif.tif', 157: 'E:23sept/LST/june_LST/MYD11C1.A2006157.006.2015292142525.hdf.tif.tif', 158: 'E:23sept/LST/june_LST/MYD11C1.A2006158.006.2015292152053.hdf.tif.tif', 159: 'E:23sept/LST/june_LST/MYD11C1.A2006159.006.2015292174142.hdf.tif.tif', 160: 'E:23sept/LST/june_LST/MYD11C1.A2006160.006.2015292174142.hdf.tif.tif', 161: 'E:23sept/LST/june_LST/MYD11C1.A2006161.006.2015292184846.hdf.tif.tif'} \n",
      "\n",
      "{10: 'E:23sept/Emissivity/june_emiss/AMSER-E_monthly_emissivity_June200610.7 V.tif.tif', 18: 'E:23sept/Emissivity/june_emiss/AMSER-E_monthly_emissivity_June200618.7 V.tif.tif', 36: 'E:23sept/Emissivity/june_emiss/AMSER-E_monthly_emissivity_June200636.5 V.tif.tif', 6: 'E:23sept/Emissivity/june_emiss/AMSER-E_monthly_emissivity_June20066.9  V.tif.tif', 89: 'E:23sept/Emissivity/june_emiss/AMSER-E_monthly_emissivity_June200689.0 V.tif.tif'}\n"
     ]
    }
   ],
   "source": [
    "print(lst_dict,'\\n')\n",
    "print(emiss_dict)"
   ]
  },
  {
   "cell_type": "code",
   "execution_count": 37,
   "id": "3e5339e9",
   "metadata": {},
   "outputs": [],
   "source": [
    "LST_error_path=r'E:/23sept/LST_error/'"
   ]
  },
  {
   "cell_type": "code",
   "execution_count": 38,
   "id": "af08f1be",
   "metadata": {},
   "outputs": [],
   "source": [
    "def WriteImage(outpath,image,proj,geo):\n",
    "    ds=None\n",
    "    driver=gdal.GetDriverByName(\"GTiff\")\n",
    "    ds=driver.Create(outpath,image.shape[1],image.shape[0], 1,gdal.GDT_Float32)\n",
    "    ds.SetProjection(proj)\n",
    "    ds.SetGeoTransform(geo)\n",
    "    ds.GetRasterBand(1).WriteArray(image)\n",
    "    return ds"
   ]
  },
  {
   "cell_type": "code",
   "execution_count": 29,
   "id": "88719b85",
   "metadata": {},
   "outputs": [],
   "source": [
    "# BT_path=r\"E:23sept/Resampled_BT_clipped/april_BT//\"\n",
    "# for root, dirs, files in os.walk(BT_path):\n",
    "#     for name in files:\n",
    "#         if ('V_Res_1' in name) or ('89_0V_Res_4' in name):\n",
    "#             BTfilePath=BT_path+name\n",
    "#             print(name)\n",
    "#             BT_DOY=int(name[30:32])+120\n",
    "#             print(BT_DOY)\n",
    "#             wavelen=int(name[57:59])\n",
    "#             print(wavelen)"
   ]
  },
  {
   "cell_type": "code",
   "execution_count": 39,
   "id": "acd816cb",
   "metadata": {},
   "outputs": [],
   "source": [
    "df=pd.DataFrame(columns=['DOY','Wavelenght','MODIS_LST','LST_corrected','LST_raw'])"
   ]
  },
  {
   "cell_type": "code",
   "execution_count": 40,
   "id": "2a87058b",
   "metadata": {
    "scrolled": false
   },
   "outputs": [],
   "source": [
    "# BT data\n",
    "BT_path=r\"E:23sept/Resampled_BT_clipped/june_BT//\"\n",
    "for root, dirs, files in os.walk(BT_path):\n",
    "    for name in files:\n",
    "        if ('V_Res_1' in name) or ('89_0V_Res_4' in name):\n",
    "        \n",
    "            BTfilePath=BT_path+name\n",
    "#             print(BTfilePath)\n",
    "#             BT_DOY=int(name[30:32])+90\n",
    "            BT_DOY=int(name[30:32])\n",
    "            wavelen=int(name[57:59])\n",
    "\n",
    "#             print(wavelen)\n",
    "            BT=gdal.Open(BTfilePath)\n",
    "            proj=BT.GetProjection()\n",
    "            geotrans=BT.GetGeoTransform()\n",
    "            BT_raw=BT.ReadAsArray().astype(\"float64\")\n",
    "            \n",
    "            new_df=corr[(corr['DOY']==BT_DOY) & (corr['wavelen_um']==wavelen_dict[wavelen])]\n",
    "#             print(new_df)\n",
    "            upwell=np.array(new_df['Upwelling_BT(K)'])\n",
    "            downwell=np.array(new_df['Downwelling_BT(K)'])\n",
    "            trans=np.array(new_df['Transmissivity'])\n",
    "#             print(upwell,downwell,trans)\n",
    "            emissFile=emiss_dict[wavelen]\n",
    "            emiss=gdal.Open(emissFile)\n",
    "            emiss=emiss.ReadAsArray().astype('float64')\n",
    "            emiss[emiss<0.5]=np.nan\n",
    "#             emiss[emiss>0.99999]=np.nan\n",
    "            \n",
    "            estimated_LST=(BT_raw-upwell-(1-emiss)*((downwell+2.725)*trans))/(emiss*trans)\n",
    "            raw_BT_LST=BT_raw/emiss\n",
    "            \n",
    "            MOD_LSTpath=lst_dict[BT_DOY+doy_num]\n",
    "            MOD_LST=gdal.Open(MOD_LSTpath)\n",
    "            MOD_LST=MOD_LST.ReadAsArray().astype('float64')\n",
    "            \n",
    "            error=estimated_LST-MOD_LST\n",
    "#             storeLST  in csv\n",
    "            f=pd.DataFrame({})\n",
    "            f['MODIS_LST']=(MOD_LST[44:55,58:69]).flatten()\n",
    "            f['LST_corrected']=(estimated_LST[44:55,58:69]).flatten()\n",
    "            f['LST_raw']=(raw_BT_LST[44:55,58:69]).flatten()\n",
    "            f['DOY']=BT_DOY+doy_num\n",
    "            f['Wavelenght']=wavelen\n",
    "            \n",
    "            df=df.append(f,ignore_index=True)\n",
    "#             print(f)\n",
    "            f=None            \n",
    "#             outpath=LST_error_path+'LST_error_June_'+str(BT_DOY)+\"_\"+name[56:62]+'.tif'\n",
    "#             VE=WriteImage(outpath,error,proj,geotrans)\n",
    "            \n",
    "#             VE=None\n",
    "            \n",
    "            \n",
    "        "
   ]
  },
  {
   "cell_type": "code",
   "execution_count": 41,
   "id": "e21aff00",
   "metadata": {},
   "outputs": [],
   "source": [
    "df.to_csv(r'E:23sept/Error_csv/North_east_June.csv')"
   ]
  },
  {
   "cell_type": "code",
   "execution_count": 11,
   "id": "7384d418",
   "metadata": {},
   "outputs": [
    {
     "data": {
      "text/plain": [
       "36"
      ]
     },
     "execution_count": 11,
     "metadata": {},
     "output_type": "execute_result"
    }
   ],
   "source": [
    "len('AMSER-E_monthly_emissivity_April2006')"
   ]
  },
  {
   "cell_type": "code",
   "execution_count": 69,
   "id": "0cf8fdd4",
   "metadata": {},
   "outputs": [
    {
     "data": {
      "text/html": [
       "<div>\n",
       "<style scoped>\n",
       "    .dataframe tbody tr th:only-of-type {\n",
       "        vertical-align: middle;\n",
       "    }\n",
       "\n",
       "    .dataframe tbody tr th {\n",
       "        vertical-align: top;\n",
       "    }\n",
       "\n",
       "    .dataframe thead th {\n",
       "        text-align: right;\n",
       "    }\n",
       "</style>\n",
       "<table border=\"1\" class=\"dataframe\">\n",
       "  <thead>\n",
       "    <tr style=\"text-align: right;\">\n",
       "      <th></th>\n",
       "      <th>DOY</th>\n",
       "      <th>MODIS_LST</th>\n",
       "      <th>LST_corrected</th>\n",
       "      <th>LST_raw</th>\n",
       "      <th>Wavelenght</th>\n",
       "    </tr>\n",
       "  </thead>\n",
       "  <tbody>\n",
       "    <tr>\n",
       "      <th>0</th>\n",
       "      <td>121</td>\n",
       "      <td>316.333984</td>\n",
       "      <td>NaN</td>\n",
       "      <td>NaN</td>\n",
       "      <td>6.0</td>\n",
       "    </tr>\n",
       "    <tr>\n",
       "      <th>1</th>\n",
       "      <td>121</td>\n",
       "      <td>316.747437</td>\n",
       "      <td>NaN</td>\n",
       "      <td>NaN</td>\n",
       "      <td>6.0</td>\n",
       "    </tr>\n",
       "    <tr>\n",
       "      <th>2</th>\n",
       "      <td>121</td>\n",
       "      <td>318.998016</td>\n",
       "      <td>NaN</td>\n",
       "      <td>NaN</td>\n",
       "      <td>6.0</td>\n",
       "    </tr>\n",
       "    <tr>\n",
       "      <th>3</th>\n",
       "      <td>121</td>\n",
       "      <td>318.735046</td>\n",
       "      <td>NaN</td>\n",
       "      <td>NaN</td>\n",
       "      <td>6.0</td>\n",
       "    </tr>\n",
       "    <tr>\n",
       "      <th>4</th>\n",
       "      <td>121</td>\n",
       "      <td>319.401794</td>\n",
       "      <td>NaN</td>\n",
       "      <td>NaN</td>\n",
       "      <td>6.0</td>\n",
       "    </tr>\n",
       "    <tr>\n",
       "      <th>...</th>\n",
       "      <td>...</td>\n",
       "      <td>...</td>\n",
       "      <td>...</td>\n",
       "      <td>...</td>\n",
       "      <td>...</td>\n",
       "    </tr>\n",
       "    <tr>\n",
       "      <th>6045</th>\n",
       "      <td>130</td>\n",
       "      <td>NaN</td>\n",
       "      <td>297.302362</td>\n",
       "      <td>271.780621</td>\n",
       "      <td>89.0</td>\n",
       "    </tr>\n",
       "    <tr>\n",
       "      <th>6046</th>\n",
       "      <td>130</td>\n",
       "      <td>NaN</td>\n",
       "      <td>272.089086</td>\n",
       "      <td>254.419044</td>\n",
       "      <td>89.0</td>\n",
       "    </tr>\n",
       "    <tr>\n",
       "      <th>6047</th>\n",
       "      <td>130</td>\n",
       "      <td>NaN</td>\n",
       "      <td>304.438175</td>\n",
       "      <td>277.346819</td>\n",
       "      <td>89.0</td>\n",
       "    </tr>\n",
       "    <tr>\n",
       "      <th>6048</th>\n",
       "      <td>130</td>\n",
       "      <td>NaN</td>\n",
       "      <td>NaN</td>\n",
       "      <td>NaN</td>\n",
       "      <td>89.0</td>\n",
       "    </tr>\n",
       "    <tr>\n",
       "      <th>6049</th>\n",
       "      <td>130</td>\n",
       "      <td>NaN</td>\n",
       "      <td>NaN</td>\n",
       "      <td>NaN</td>\n",
       "      <td>89.0</td>\n",
       "    </tr>\n",
       "  </tbody>\n",
       "</table>\n",
       "<p>6050 rows × 5 columns</p>\n",
       "</div>"
      ],
      "text/plain": [
       "      DOY   MODIS_LST  LST_corrected     LST_raw  Wavelenght\n",
       "0     121  316.333984            NaN         NaN         6.0\n",
       "1     121  316.747437            NaN         NaN         6.0\n",
       "2     121  318.998016            NaN         NaN         6.0\n",
       "3     121  318.735046            NaN         NaN         6.0\n",
       "4     121  319.401794            NaN         NaN         6.0\n",
       "...   ...         ...            ...         ...         ...\n",
       "6045  130         NaN     297.302362  271.780621        89.0\n",
       "6046  130         NaN     272.089086  254.419044        89.0\n",
       "6047  130         NaN     304.438175  277.346819        89.0\n",
       "6048  130         NaN            NaN         NaN        89.0\n",
       "6049  130         NaN            NaN         NaN        89.0\n",
       "\n",
       "[6050 rows x 5 columns]"
      ]
     },
     "execution_count": 69,
     "metadata": {},
     "output_type": "execute_result"
    }
   ],
   "source": [
    "df"
   ]
  },
  {
   "cell_type": "code",
   "execution_count": 12,
   "id": "7f7220ab",
   "metadata": {},
   "outputs": [
    {
     "data": {
      "text/plain": [
       "{10: 'E:23sept/april_emiss/AMSER-E_monthly_emissivity_April200610.7 V.tif.tif',\n",
       " 18: 'E:23sept/april_emiss/AMSER-E_monthly_emissivity_April200618.7 V.tif.tif',\n",
       " 36: 'E:23sept/april_emiss/AMSER-E_monthly_emissivity_April200636.5 V.tif.tif',\n",
       " 6: 'E:23sept/april_emiss/AMSER-E_monthly_emissivity_April20066.9  V.tif.tif',\n",
       " 89: 'E:23sept/april_emiss/AMSER-E_monthly_emissivity_April200689.0 V.tif.tif'}"
      ]
     },
     "execution_count": 12,
     "metadata": {},
     "output_type": "execute_result"
    }
   ],
   "source": [
    "emiss_dict"
   ]
  },
  {
   "cell_type": "code",
   "execution_count": 13,
   "id": "58e4cfe0",
   "metadata": {},
   "outputs": [
    {
     "data": {
      "text/plain": [
       "array([-1,  0,  1])"
      ]
     },
     "execution_count": 13,
     "metadata": {},
     "output_type": "execute_result"
    }
   ],
   "source": [
    "a=np.array([1,2,3])\n",
    "b=np.array([2])\n",
    "a-b"
   ]
  },
  {
   "cell_type": "code",
   "execution_count": null,
   "id": "3e09779d",
   "metadata": {},
   "outputs": [],
   "source": []
  }
 ],
 "metadata": {
  "kernelspec": {
   "display_name": "py38",
   "language": "python",
   "name": "py38"
  },
  "language_info": {
   "codemirror_mode": {
    "name": "ipython",
    "version": 3
   },
   "file_extension": ".py",
   "mimetype": "text/x-python",
   "name": "python",
   "nbconvert_exporter": "python",
   "pygments_lexer": "ipython3",
   "version": "3.8.12"
  }
 },
 "nbformat": 4,
 "nbformat_minor": 5
}
