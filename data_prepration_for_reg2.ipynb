{
 "cells": [
  {
   "cell_type": "code",
   "execution_count": 1,
   "id": "151384f0",
   "metadata": {
    "ExecuteTime": {
     "end_time": "2021-06-29T20:10:43.961881Z",
     "start_time": "2021-06-29T20:10:43.372720Z"
    }
   },
   "outputs": [],
   "source": [
    "import os\n",
    "import numpy as np\n",
    "import pandas as pd\n",
    "import matplotlib.pyplot as plt\n",
    "from osgeo import gdal"
   ]
  },
  {
   "cell_type": "code",
   "execution_count": 2,
   "id": "8ef0a5ac",
   "metadata": {
    "ExecuteTime": {
     "end_time": "2021-06-29T20:11:08.712011Z",
     "start_time": "2021-06-29T20:11:08.700043Z"
    }
   },
   "outputs": [],
   "source": [
    "\n",
    "folder=r'E:/rahul/processed_data/BT_18V'\n",
    "BT_PATH=[]\n",
    "for root, dirs, files in os.walk(folder):\n",
    "    for names in files:\n",
    "        full_path=os.path.join(root,names)\n",
    "        BT_PATH.append(full_path)\n",
    "        \n",
    "Emiss_PATH=[]\n",
    "folder=r'E:/rahul/processed_data/Derived_emissivity_18GHzV'\n",
    "for root, dirs, files in os.walk(folder):\n",
    "    for names in files:\n",
    "        full_path=os.path.join(root,names)\n",
    "        Emiss_PATH.append(full_path)"
   ]
  },
  {
   "cell_type": "code",
   "execution_count": 3,
   "id": "577b98b4",
   "metadata": {
    "ExecuteTime": {
     "end_time": "2021-06-29T20:11:13.383722Z",
     "start_time": "2021-06-29T20:11:13.199070Z"
    }
   },
   "outputs": [],
   "source": [
    "BT=[]\n",
    "EMISS=[]\n",
    "for i in range(30):\n",
    "    BT_10V=gdal.Open(BT_PATH[i])\n",
    "    BT_10V=(BT_10V.ReadAsArray().astype('float64'))/10\n",
    "    BT_10V[BT_10V<=100.0]=np.nan\n",
    "    BT_10V[BT_10V>=500.0]=np.nan\n",
    "    BT.append((BT_10V[48:65,26:52]).reshape(-1))\n",
    "    \n",
    "    EM_10V=gdal.Open(Emiss_PATH[i])\n",
    "    EM_10V=EM_10V.ReadAsArray()\n",
    "    EMISS.append((EM_10V[48:65,26:52]).reshape(-1))"
   ]
  },
  {
   "cell_type": "code",
   "execution_count": 4,
   "id": "f073b007",
   "metadata": {
    "ExecuteTime": {
     "end_time": "2021-06-29T20:11:31.352250Z",
     "start_time": "2021-06-29T20:11:31.318187Z"
    }
   },
   "outputs": [],
   "source": [
    "df=pd.DataFrame(columns=[\"BT_18V\",\"EMISSIVTY_18V\"])\n",
    "for i in range(len(BT)):\n",
    "    df1=pd.DataFrame({\"BT_18V\":BT[i],\"EMISSIVTY_18V\":EMISS[i]})\n",
    "    df=df.append(df1,ignore_index=True)"
   ]
  },
  {
   "cell_type": "code",
   "execution_count": 5,
   "id": "52b4a38b",
   "metadata": {
    "ExecuteTime": {
     "end_time": "2021-06-29T20:11:33.821766Z",
     "start_time": "2021-06-29T20:11:33.749254Z"
    }
   },
   "outputs": [],
   "source": [
    "df.dropna(inplace=True)\n",
    "df.reset_index(drop=True, inplace=True)"
   ]
  },
  {
   "cell_type": "code",
   "execution_count": 6,
   "id": "452731e3",
   "metadata": {
    "ExecuteTime": {
     "end_time": "2021-06-29T20:11:34.866058Z",
     "start_time": "2021-06-29T20:11:34.840466Z"
    }
   },
   "outputs": [
    {
     "data": {
      "text/html": [
       "<div>\n",
       "<style scoped>\n",
       "    .dataframe tbody tr th:only-of-type {\n",
       "        vertical-align: middle;\n",
       "    }\n",
       "\n",
       "    .dataframe tbody tr th {\n",
       "        vertical-align: top;\n",
       "    }\n",
       "\n",
       "    .dataframe thead th {\n",
       "        text-align: right;\n",
       "    }\n",
       "</style>\n",
       "<table border=\"1\" class=\"dataframe\">\n",
       "  <thead>\n",
       "    <tr style=\"text-align: right;\">\n",
       "      <th></th>\n",
       "      <th>BT_18V</th>\n",
       "      <th>EMISSIVTY_18V</th>\n",
       "    </tr>\n",
       "  </thead>\n",
       "  <tbody>\n",
       "    <tr>\n",
       "      <th>0</th>\n",
       "      <td>299.0</td>\n",
       "      <td>0.988770</td>\n",
       "    </tr>\n",
       "    <tr>\n",
       "      <th>1</th>\n",
       "      <td>301.7</td>\n",
       "      <td>0.941682</td>\n",
       "    </tr>\n",
       "    <tr>\n",
       "      <th>2</th>\n",
       "      <td>300.5</td>\n",
       "      <td>0.937347</td>\n",
       "    </tr>\n",
       "    <tr>\n",
       "      <th>3</th>\n",
       "      <td>301.9</td>\n",
       "      <td>0.934016</td>\n",
       "    </tr>\n",
       "    <tr>\n",
       "      <th>4</th>\n",
       "      <td>302.9</td>\n",
       "      <td>0.936391</td>\n",
       "    </tr>\n",
       "    <tr>\n",
       "      <th>...</th>\n",
       "      <td>...</td>\n",
       "      <td>...</td>\n",
       "    </tr>\n",
       "    <tr>\n",
       "      <th>7440</th>\n",
       "      <td>301.5</td>\n",
       "      <td>0.952231</td>\n",
       "    </tr>\n",
       "    <tr>\n",
       "      <th>7441</th>\n",
       "      <td>301.2</td>\n",
       "      <td>0.945379</td>\n",
       "    </tr>\n",
       "    <tr>\n",
       "      <th>7442</th>\n",
       "      <td>301.6</td>\n",
       "      <td>0.944287</td>\n",
       "    </tr>\n",
       "    <tr>\n",
       "      <th>7443</th>\n",
       "      <td>301.7</td>\n",
       "      <td>0.948215</td>\n",
       "    </tr>\n",
       "    <tr>\n",
       "      <th>7444</th>\n",
       "      <td>301.8</td>\n",
       "      <td>0.946616</td>\n",
       "    </tr>\n",
       "  </tbody>\n",
       "</table>\n",
       "<p>7445 rows × 2 columns</p>\n",
       "</div>"
      ],
      "text/plain": [
       "      BT_18V  EMISSIVTY_18V\n",
       "0      299.0       0.988770\n",
       "1      301.7       0.941682\n",
       "2      300.5       0.937347\n",
       "3      301.9       0.934016\n",
       "4      302.9       0.936391\n",
       "...      ...            ...\n",
       "7440   301.5       0.952231\n",
       "7441   301.2       0.945379\n",
       "7442   301.6       0.944287\n",
       "7443   301.7       0.948215\n",
       "7444   301.8       0.946616\n",
       "\n",
       "[7445 rows x 2 columns]"
      ]
     },
     "execution_count": 6,
     "metadata": {},
     "output_type": "execute_result"
    }
   ],
   "source": [
    "df"
   ]
  },
  {
   "cell_type": "code",
   "execution_count": 7,
   "id": "cd27369f",
   "metadata": {
    "ExecuteTime": {
     "end_time": "2021-06-29T20:11:48.525641Z",
     "start_time": "2021-06-29T20:11:48.499563Z"
    }
   },
   "outputs": [],
   "source": [
    "df.to_csv('E:/rahul/processed_data/18VGHZdata.csv')"
   ]
  },
  {
   "cell_type": "code",
   "execution_count": null,
   "id": "0a026ebd",
   "metadata": {},
   "outputs": [],
   "source": []
  }
 ],
 "metadata": {
  "kernelspec": {
   "display_name": "Python 3",
   "language": "python",
   "name": "python3"
  },
  "language_info": {
   "codemirror_mode": {
    "name": "ipython",
    "version": 3
   },
   "file_extension": ".py",
   "mimetype": "text/x-python",
   "name": "python",
   "nbconvert_exporter": "python",
   "pygments_lexer": "ipython3",
   "version": "3.8.8"
  },
  "varInspector": {
   "cols": {
    "lenName": 16,
    "lenType": 16,
    "lenVar": 40
   },
   "kernels_config": {
    "python": {
     "delete_cmd_postfix": "",
     "delete_cmd_prefix": "del ",
     "library": "var_list.py",
     "varRefreshCmd": "print(var_dic_list())"
    },
    "r": {
     "delete_cmd_postfix": ") ",
     "delete_cmd_prefix": "rm(",
     "library": "var_list.r",
     "varRefreshCmd": "cat(var_dic_list()) "
    }
   },
   "types_to_exclude": [
    "module",
    "function",
    "builtin_function_or_method",
    "instance",
    "_Feature"
   ],
   "window_display": false
  }
 },
 "nbformat": 4,
 "nbformat_minor": 5
}
