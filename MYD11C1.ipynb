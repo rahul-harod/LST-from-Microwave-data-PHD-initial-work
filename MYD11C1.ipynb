{
 "cells": [
  {
   "cell_type": "code",
   "execution_count": 1,
   "id": "0c4c4b9c",
   "metadata": {
    "ExecuteTime": {
     "end_time": "2021-07-05T08:48:56.821120Z",
     "start_time": "2021-07-05T08:48:56.260386Z"
    }
   },
   "outputs": [],
   "source": [
    "import os\n",
    "import glob\n",
    "import matplotlib.pyplot as plt\n",
    "from osgeo import gdal\n",
    "import numpy as np\n",
    "import pandas as pd"
   ]
  },
  {
   "cell_type": "code",
   "execution_count": 2,
   "id": "9080dba7",
   "metadata": {
    "ExecuteTime": {
     "end_time": "2021-07-05T08:48:57.118261Z",
     "start_time": "2021-07-05T08:48:57.089005Z"
    }
   },
   "outputs": [],
   "source": [
    "path=r\"E:\\2011_197_onwards\""
   ]
  },
  {
   "cell_type": "code",
   "execution_count": 3,
   "id": "4c3c6320",
   "metadata": {
    "ExecuteTime": {
     "end_time": "2021-07-05T08:48:57.961025Z",
     "start_time": "2021-07-05T08:48:57.949057Z"
    }
   },
   "outputs": [],
   "source": [
    "projection='GEOGCS[\"Unknown datum based upon the Clarke 1866 ellipsoid\",DATUM[\"Not specified (based on Clarke 1866 spheroid)\",SPHEROID[\"Clarke 1866\",6378206.4,294.978698213898,AUTHORITY[\"EPSG\",\"7008\"]]],PRIMEM[\"Greenwich\",0],UNIT[\"degree\",0.0174532925199433,AUTHORITY[\"EPSG\",\"9122\"]],AXIS[\"Latitude\",NORTH],AXIS[\"Longitude\",EAST]]'\n",
    "geotrans=(-180.0, 0.05, 0.0, 90.0, 0.0, -0.05)"
   ]
  },
  {
   "cell_type": "code",
   "execution_count": 4,
   "id": "ae3f7770",
   "metadata": {
    "ExecuteTime": {
     "end_time": "2021-07-05T08:48:58.728071Z",
     "start_time": "2021-07-05T08:48:58.709122Z"
    }
   },
   "outputs": [],
   "source": [
    "def WriteImage(outpath,image,proj,geo):\n",
    "    ds=None\n",
    "    driver=gdal.GetDriverByName(\"GTiff\")\n",
    "    ds=driver.Create(outpath,image.shape[1],image.shape[0], 1,gdal.GDT_Float32)\n",
    "    ds.SetProjection(proj)\n",
    "    ds.SetGeoTransform(geo)\n",
    "    ds.GetRasterBand(1).WriteArray(image)\n",
    "    return ds"
   ]
  },
  {
   "cell_type": "code",
   "execution_count": 5,
   "id": "2ddfc8a6",
   "metadata": {
    "ExecuteTime": {
     "end_time": "2021-07-05T08:48:59.962222Z",
     "start_time": "2021-07-05T08:48:59.949256Z"
    }
   },
   "outputs": [],
   "source": [
    "def Day_LST():\n",
    "    f1='HDF4_EOS:EOS_GRID:\"E:\\\\2011_197_onwards\\\\'\n",
    "    f2='\":MODIS_CMG_3MIN_LST:LST_Day_CMG'\n",
    "    for root, dirs, files in os.walk(path):\n",
    "        for name in files:\n",
    "            filepath=f1+name+f2\n",
    "            print(filepath)\n",
    "            data=gdal.Open(filepath)\n",
    "            lst=data.ReadAsArray().astype(\"float64\")\n",
    "            lst[lst<7500]=np.nan\n",
    "            lst[lst>65535]=np.nan\n",
    "            lst=lst*0.02\n",
    "            print(np.nanmin(lst),np.nanmax(lst))\n",
    "    #         output_proj=r\"E:\\\\rahul\\MODIS_Resample_LST\\new_proj\" + name +'.tif'\n",
    "            output_resample=r\"E:\\2011_197_onwards_LST\\ \" + name +'.tif'\n",
    "            VE=WriteImage(\" \",lst,projection,geotrans)\n",
    "            t=gdal.Warp(output_resample,VE,\n",
    "                         xRes=0.05,yRes=0.05,\n",
    "                          resampleAlg='bilinear'\n",
    "                         )\n",
    "            VE=None\n",
    "            t=None"
   ]
  },
  {
   "cell_type": "code",
   "execution_count": 6,
   "id": "e73eaf3c",
   "metadata": {
    "ExecuteTime": {
     "end_time": "2021-07-05T08:53:40.805587Z",
     "start_time": "2021-07-05T08:49:00.950482Z"
    }
   },
   "outputs": [
    {
     "name": "stdout",
     "output_type": "stream",
     "text": [
      "HDF4_EOS:EOS_GRID:\"E:\\2011_197_onwards\\MYD11C1.A2011197.006.2016077041914.hdf\":MODIS_CMG_3MIN_LST:LST_Day_CMG\n",
      "195.38 344.86\n",
      "HDF4_EOS:EOS_GRID:\"E:\\2011_197_onwards\\MYD11C1.A2011198.006.2016077042624.hdf\":MODIS_CMG_3MIN_LST:LST_Day_CMG\n",
      "193.28 345.06\n",
      "HDF4_EOS:EOS_GRID:\"E:\\2011_197_onwards\\MYD11C1.A2011199.006.2016077042626.hdf\":MODIS_CMG_3MIN_LST:LST_Day_CMG\n",
      "191.9 344.88\n",
      "HDF4_EOS:EOS_GRID:\"E:\\2011_197_onwards\\MYD11C1.A2011200.006.2016077043213.hdf\":MODIS_CMG_3MIN_LST:LST_Day_CMG\n",
      "191.3 347.44\n",
      "HDF4_EOS:EOS_GRID:\"E:\\2011_197_onwards\\MYD11C1.A2011201.006.2016077040648.hdf\":MODIS_CMG_3MIN_LST:LST_Day_CMG\n",
      "189.1 344.5\n",
      "HDF4_EOS:EOS_GRID:\"E:\\2011_197_onwards\\MYD11C1.A2011202.006.2016077041117.hdf\":MODIS_CMG_3MIN_LST:LST_Day_CMG\n",
      "193.16 342.74\n",
      "HDF4_EOS:EOS_GRID:\"E:\\2011_197_onwards\\MYD11C1.A2011203.006.2016077041431.hdf\":MODIS_CMG_3MIN_LST:LST_Day_CMG\n",
      "196.68 345.58\n",
      "HDF4_EOS:EOS_GRID:\"E:\\2011_197_onwards\\MYD11C1.A2011204.006.2016077042000.hdf\":MODIS_CMG_3MIN_LST:LST_Day_CMG\n",
      "197.62 344.46\n",
      "HDF4_EOS:EOS_GRID:\"E:\\2011_197_onwards\\MYD11C1.A2011205.006.2016077042001.hdf\":MODIS_CMG_3MIN_LST:LST_Day_CMG\n",
      "193.34 346.8\n",
      "HDF4_EOS:EOS_GRID:\"E:\\2011_197_onwards\\MYD11C1.A2011206.006.2016077042653.hdf\":MODIS_CMG_3MIN_LST:LST_Day_CMG\n",
      "189.34 344.5\n",
      "HDF4_EOS:EOS_GRID:\"E:\\2011_197_onwards\\MYD11C1.A2011207.006.2016077042725.hdf\":MODIS_CMG_3MIN_LST:LST_Day_CMG\n",
      "191.14000000000001 346.76\n",
      "HDF4_EOS:EOS_GRID:\"E:\\2011_197_onwards\\MYD11C1.A2011208.006.2016077043223.hdf\":MODIS_CMG_3MIN_LST:LST_Day_CMG\n",
      "194.54 345.38\n",
      "HDF4_EOS:EOS_GRID:\"E:\\2011_197_onwards\\MYD11C1.A2011209.006.2016077040812.hdf\":MODIS_CMG_3MIN_LST:LST_Day_CMG\n",
      "191.52 343.18\n",
      "HDF4_EOS:EOS_GRID:\"E:\\2011_197_onwards\\MYD11C1.A2011210.006.2016077041133.hdf\":MODIS_CMG_3MIN_LST:LST_Day_CMG\n",
      "191.14000000000001 343.98\n",
      "HDF4_EOS:EOS_GRID:\"E:\\2011_197_onwards\\MYD11C1.A2011211.006.2016077041441.hdf\":MODIS_CMG_3MIN_LST:LST_Day_CMG\n",
      "191.36 344.04\n",
      "HDF4_EOS:EOS_GRID:\"E:\\2011_197_onwards\\MYD11C1.A2011212.006.2016077042007.hdf\":MODIS_CMG_3MIN_LST:LST_Day_CMG\n",
      "190.22 344.26\n",
      "HDF4_EOS:EOS_GRID:\"E:\\2011_197_onwards\\MYD11C1.A2011213.006.2016077042021.hdf\":MODIS_CMG_3MIN_LST:LST_Day_CMG\n",
      "189.32 344.8\n",
      "HDF4_EOS:EOS_GRID:\"E:\\2011_197_onwards\\MYD11C1.A2011214.006.2016077042743.hdf\":MODIS_CMG_3MIN_LST:LST_Day_CMG\n",
      "195.84 345.92\n",
      "HDF4_EOS:EOS_GRID:\"E:\\2011_197_onwards\\MYD11C1.A2011215.006.2016077042744.hdf\":MODIS_CMG_3MIN_LST:LST_Day_CMG\n",
      "196.8 343.78000000000003\n",
      "HDF4_EOS:EOS_GRID:\"E:\\2011_197_onwards\\MYD11C1.A2011216.006.2016077043222.hdf\":MODIS_CMG_3MIN_LST:LST_Day_CMG\n",
      "190.86 343.7\n",
      "HDF4_EOS:EOS_GRID:\"E:\\2011_197_onwards\\MYD11C1.A2011217.006.2016077040819.hdf\":MODIS_CMG_3MIN_LST:LST_Day_CMG\n",
      "198.5 343.7\n",
      "HDF4_EOS:EOS_GRID:\"E:\\2011_197_onwards\\MYD11C1.A2011218.006.2016077041134.hdf\":MODIS_CMG_3MIN_LST:LST_Day_CMG\n",
      "194.12 342.84000000000003\n",
      "HDF4_EOS:EOS_GRID:\"E:\\2011_197_onwards\\MYD11C1.A2011219.006.2016077041533.hdf\":MODIS_CMG_3MIN_LST:LST_Day_CMG\n",
      "196.8 342.58\n",
      "HDF4_EOS:EOS_GRID:\"E:\\2011_197_onwards\\MYD11C1.A2011220.006.2016077042023.hdf\":MODIS_CMG_3MIN_LST:LST_Day_CMG\n",
      "190.44 345.38\n",
      "HDF4_EOS:EOS_GRID:\"E:\\2011_197_onwards\\MYD11C1.A2011221.006.2016077042034.hdf\":MODIS_CMG_3MIN_LST:LST_Day_CMG\n",
      "192.8 342.74\n",
      "HDF4_EOS:EOS_GRID:\"E:\\2011_197_onwards\\MYD11C1.A2011222.006.2016077042745.hdf\":MODIS_CMG_3MIN_LST:LST_Day_CMG\n",
      "196.88 344.44\n",
      "HDF4_EOS:EOS_GRID:\"E:\\2011_197_onwards\\MYD11C1.A2011223.006.2016077042752.hdf\":MODIS_CMG_3MIN_LST:LST_Day_CMG\n",
      "194.24 344.04\n",
      "HDF4_EOS:EOS_GRID:\"E:\\2011_197_onwards\\MYD11C1.A2011224.006.2016077043244.hdf\":MODIS_CMG_3MIN_LST:LST_Day_CMG\n",
      "193.6 351.28000000000003\n",
      "HDF4_EOS:EOS_GRID:\"E:\\2011_197_onwards\\MYD11C1.A2011225.006.2016077040815.hdf\":MODIS_CMG_3MIN_LST:LST_Day_CMG\n",
      "193.22 343.92\n",
      "HDF4_EOS:EOS_GRID:\"E:\\2011_197_onwards\\MYD11C1.A2011226.006.2016077041137.hdf\":MODIS_CMG_3MIN_LST:LST_Day_CMG\n",
      "192.0 346.58\n",
      "HDF4_EOS:EOS_GRID:\"E:\\2011_197_onwards\\MYD11C1.A2011227.006.2016077041533.hdf\":MODIS_CMG_3MIN_LST:LST_Day_CMG\n",
      "191.64000000000001 343.92\n",
      "HDF4_EOS:EOS_GRID:\"E:\\2011_197_onwards\\MYD11C1.A2011228.006.2016077042034.hdf\":MODIS_CMG_3MIN_LST:LST_Day_CMG\n",
      "188.86 345.3\n",
      "HDF4_EOS:EOS_GRID:\"E:\\2011_197_onwards\\MYD11C1.A2011229.006.2016077042046.hdf\":MODIS_CMG_3MIN_LST:LST_Day_CMG\n",
      "187.94 344.68\n",
      "HDF4_EOS:EOS_GRID:\"E:\\2011_197_onwards\\MYD11C1.A2011230.006.2016077042757.hdf\":MODIS_CMG_3MIN_LST:LST_Day_CMG\n",
      "189.34 347.06\n",
      "HDF4_EOS:EOS_GRID:\"E:\\2011_197_onwards\\MYD11C1.A2011231.006.2016077042757.hdf\":MODIS_CMG_3MIN_LST:LST_Day_CMG\n",
      "189.78 344.22\n",
      "HDF4_EOS:EOS_GRID:\"E:\\2011_197_onwards\\MYD11C1.A2011232.006.2016077043319.hdf\":MODIS_CMG_3MIN_LST:LST_Day_CMG\n",
      "186.06 346.32\n",
      "HDF4_EOS:EOS_GRID:\"E:\\2011_197_onwards\\MYD11C1.A2011233.006.2016077040816.hdf\":MODIS_CMG_3MIN_LST:LST_Day_CMG\n",
      "185.28 345.18\n",
      "HDF4_EOS:EOS_GRID:\"E:\\2011_197_onwards\\MYD11C1.A2011234.006.2016077041136.hdf\":MODIS_CMG_3MIN_LST:LST_Day_CMG\n",
      "185.26 342.46\n",
      "HDF4_EOS:EOS_GRID:\"E:\\2011_197_onwards\\MYD11C1.A2011235.006.2016077041539.hdf\":MODIS_CMG_3MIN_LST:LST_Day_CMG\n",
      "187.66 346.1\n",
      "HDF4_EOS:EOS_GRID:\"E:\\2011_197_onwards\\MYD11C1.A2011236.006.2016077042158.hdf\":MODIS_CMG_3MIN_LST:LST_Day_CMG\n",
      "191.82 343.02\n",
      "HDF4_EOS:EOS_GRID:\"E:\\2011_197_onwards\\MYD11C1.A2011237.006.2016077042204.hdf\":MODIS_CMG_3MIN_LST:LST_Day_CMG\n",
      "191.44 343.90000000000003\n",
      "HDF4_EOS:EOS_GRID:\"E:\\2011_197_onwards\\MYD11C1.A2011238.006.2016077042825.hdf\":MODIS_CMG_3MIN_LST:LST_Day_CMG\n",
      "190.46 342.46\n",
      "HDF4_EOS:EOS_GRID:\"E:\\2011_197_onwards\\MYD11C1.A2011239.006.2016077042853.hdf\":MODIS_CMG_3MIN_LST:LST_Day_CMG\n",
      "186.32 342.98\n",
      "HDF4_EOS:EOS_GRID:\"E:\\2011_197_onwards\\MYD11C1.A2011240.006.2016077043330.hdf\":MODIS_CMG_3MIN_LST:LST_Day_CMG\n",
      "189.64000000000001 342.34000000000003\n",
      "HDF4_EOS:EOS_GRID:\"E:\\2011_197_onwards\\MYD11C1.A2011241.006.2016077040820.hdf\":MODIS_CMG_3MIN_LST:LST_Day_CMG\n",
      "196.76 341.72\n",
      "HDF4_EOS:EOS_GRID:\"E:\\2011_197_onwards\\MYD11C1.A2011242.006.2016077041237.hdf\":MODIS_CMG_3MIN_LST:LST_Day_CMG\n",
      "196.22 341.08\n",
      "HDF4_EOS:EOS_GRID:\"E:\\2011_197_onwards\\MYD11C1.A2011243.006.2016077041555.hdf\":MODIS_CMG_3MIN_LST:LST_Day_CMG\n",
      "192.56 343.06\n",
      "HDF4_EOS:EOS_GRID:\"E:\\2011_197_onwards\\MYD11C1.A2011244.006.2016077042131.hdf\":MODIS_CMG_3MIN_LST:LST_Day_CMG\n",
      "194.44 341.40000000000003\n",
      "HDF4_EOS:EOS_GRID:\"E:\\2011_197_onwards\\MYD11C1.A2011245.006.2016077042148.hdf\":MODIS_CMG_3MIN_LST:LST_Day_CMG\n",
      "196.68 340.56\n",
      "HDF4_EOS:EOS_GRID:\"E:\\2011_197_onwards\\MYD11C1.A2011246.006.2016077042911.hdf\":MODIS_CMG_3MIN_LST:LST_Day_CMG\n",
      "194.1 343.96\n",
      "HDF4_EOS:EOS_GRID:\"E:\\2011_197_onwards\\MYD11C1.A2011247.006.2016077042911.hdf\":MODIS_CMG_3MIN_LST:LST_Day_CMG\n",
      "193.98000000000002 341.5\n",
      "HDF4_EOS:EOS_GRID:\"E:\\2011_197_onwards\\MYD11C1.A2011248.006.2016077043332.hdf\":MODIS_CMG_3MIN_LST:LST_Day_CMG\n",
      "191.98000000000002 343.8\n",
      "HDF4_EOS:EOS_GRID:\"E:\\2011_197_onwards\\MYD11C1.A2011249.006.2016077040819.hdf\":MODIS_CMG_3MIN_LST:LST_Day_CMG\n",
      "192.14000000000001 342.86\n",
      "HDF4_EOS:EOS_GRID:\"E:\\2011_197_onwards\\MYD11C1.A2011250.006.2016077041238.hdf\":MODIS_CMG_3MIN_LST:LST_Day_CMG\n",
      "194.08 344.0\n",
      "HDF4_EOS:EOS_GRID:\"E:\\2011_197_onwards\\MYD11C1.A2011251.006.2016077041553.hdf\":MODIS_CMG_3MIN_LST:LST_Day_CMG\n",
      "192.58 341.58\n",
      "HDF4_EOS:EOS_GRID:\"E:\\2011_197_onwards\\MYD11C1.A2011252.006.2016077042152.hdf\":MODIS_CMG_3MIN_LST:LST_Day_CMG\n",
      "190.76 341.32\n",
      "HDF4_EOS:EOS_GRID:\"E:\\2011_197_onwards\\MYD11C1.A2011253.006.2016077042155.hdf\":MODIS_CMG_3MIN_LST:LST_Day_CMG\n",
      "191.28 341.54\n",
      "HDF4_EOS:EOS_GRID:\"E:\\2011_197_onwards\\MYD11C1.A2011254.006.2016077042915.hdf\":MODIS_CMG_3MIN_LST:LST_Day_CMG\n",
      "192.9 340.86\n",
      "HDF4_EOS:EOS_GRID:\"E:\\2011_197_onwards\\MYD11C1.A2011255.006.2016077042920.hdf\":MODIS_CMG_3MIN_LST:LST_Day_CMG\n",
      "190.76 341.78000000000003\n",
      "HDF4_EOS:EOS_GRID:\"E:\\2011_197_onwards\\MYD11C1.A2011256.006.2016077043347.hdf\":MODIS_CMG_3MIN_LST:LST_Day_CMG\n",
      "191.9 340.86\n",
      "HDF4_EOS:EOS_GRID:\"E:\\2011_197_onwards\\MYD11C1.A2011257.006.2016077040820.hdf\":MODIS_CMG_3MIN_LST:LST_Day_CMG\n",
      "191.76 340.24\n",
      "HDF4_EOS:EOS_GRID:\"E:\\2011_197_onwards\\MYD11C1.A2011258.006.2016077041236.hdf\":MODIS_CMG_3MIN_LST:LST_Day_CMG\n",
      "190.22 340.56\n",
      "HDF4_EOS:EOS_GRID:\"E:\\2011_197_onwards\\MYD11C1.A2011259.006.2016077041600.hdf\":MODIS_CMG_3MIN_LST:LST_Day_CMG\n",
      "186.02 339.84000000000003\n",
      "HDF4_EOS:EOS_GRID:\"E:\\2011_197_onwards\\MYD11C1.A2011260.006.2016077042201.hdf\":MODIS_CMG_3MIN_LST:LST_Day_CMG\n",
      "185.78 342.16\n",
      "HDF4_EOS:EOS_GRID:\"E:\\2011_197_onwards\\MYD11C1.A2011261.006.2016077042211.hdf\":MODIS_CMG_3MIN_LST:LST_Day_CMG\n"
     ]
    },
    {
     "name": "stdout",
     "output_type": "stream",
     "text": [
      "186.4 339.52\n",
      "HDF4_EOS:EOS_GRID:\"E:\\2011_197_onwards\\MYD11C1.A2011262.006.2016077042928.hdf\":MODIS_CMG_3MIN_LST:LST_Day_CMG\n",
      "186.62 340.44\n",
      "HDF4_EOS:EOS_GRID:\"E:\\2011_197_onwards\\MYD11C1.A2011263.006.2016077042924.hdf\":MODIS_CMG_3MIN_LST:LST_Day_CMG\n",
      "186.72 340.24\n",
      "HDF4_EOS:EOS_GRID:\"E:\\2011_197_onwards\\MYD11C1.A2011264.006.2016077043345.hdf\":MODIS_CMG_3MIN_LST:LST_Day_CMG\n",
      "186.82 340.44\n",
      "HDF4_EOS:EOS_GRID:\"E:\\2011_197_onwards\\MYD11C1.A2011265.006.2016077040927.hdf\":MODIS_CMG_3MIN_LST:LST_Day_CMG\n",
      "186.24 343.54\n",
      "HDF4_EOS:EOS_GRID:\"E:\\2011_197_onwards\\MYD11C1.A2011266.006.2016077041243.hdf\":MODIS_CMG_3MIN_LST:LST_Day_CMG\n",
      "189.36 343.68\n",
      "HDF4_EOS:EOS_GRID:\"E:\\2011_197_onwards\\MYD11C1.A2011267.006.2016077041609.hdf\":MODIS_CMG_3MIN_LST:LST_Day_CMG\n",
      "190.3 339.64\n",
      "HDF4_EOS:EOS_GRID:\"E:\\2011_197_onwards\\MYD11C1.A2011268.006.2016077042301.hdf\":MODIS_CMG_3MIN_LST:LST_Day_CMG\n",
      "184.34 339.64\n",
      "HDF4_EOS:EOS_GRID:\"E:\\2011_197_onwards\\MYD11C1.A2011269.006.2016077042313.hdf\":MODIS_CMG_3MIN_LST:LST_Day_CMG\n",
      "188.56 348.98\n",
      "HDF4_EOS:EOS_GRID:\"E:\\2011_197_onwards\\MYD11C1.A2011270.006.2016077042952.hdf\":MODIS_CMG_3MIN_LST:LST_Day_CMG\n",
      "201.92000000000002 340.82\n",
      "HDF4_EOS:EOS_GRID:\"E:\\2011_197_onwards\\MYD11C1.A2011271.006.2016077043024.hdf\":MODIS_CMG_3MIN_LST:LST_Day_CMG\n",
      "201.32 341.84000000000003\n",
      "HDF4_EOS:EOS_GRID:\"E:\\2011_197_onwards\\MYD11C1.A2011272.006.2016077043350.hdf\":MODIS_CMG_3MIN_LST:LST_Day_CMG\n",
      "202.44 341.7\n",
      "HDF4_EOS:EOS_GRID:\"E:\\2011_197_onwards\\MYD11C1.A2011273.006.2016077040944.hdf\":MODIS_CMG_3MIN_LST:LST_Day_CMG\n",
      "202.34 341.02\n",
      "HDF4_EOS:EOS_GRID:\"E:\\2011_197_onwards\\MYD11C1.A2011274.006.2016077041259.hdf\":MODIS_CMG_3MIN_LST:LST_Day_CMG\n",
      "199.1 340.76\n",
      "HDF4_EOS:EOS_GRID:\"E:\\2011_197_onwards\\MYD11C1.A2011275.006.2016077041617.hdf\":MODIS_CMG_3MIN_LST:LST_Day_CMG\n",
      "198.28 338.42\n",
      "HDF4_EOS:EOS_GRID:\"E:\\2011_197_onwards\\MYD11C1.A2011276.006.2016077042319.hdf\":MODIS_CMG_3MIN_LST:LST_Day_CMG\n",
      "199.14000000000001 343.90000000000003\n",
      "HDF4_EOS:EOS_GRID:\"E:\\2011_197_onwards\\MYD11C1.A2011277.006.2016077042318.hdf\":MODIS_CMG_3MIN_LST:LST_Day_CMG\n",
      "196.14000000000001 338.68\n",
      "HDF4_EOS:EOS_GRID:\"E:\\2011_197_onwards\\MYD11C1.A2011278.006.2016077043036.hdf\":MODIS_CMG_3MIN_LST:LST_Day_CMG\n",
      "207.98000000000002 339.46\n",
      "HDF4_EOS:EOS_GRID:\"E:\\2011_197_onwards\\MYD11C1.A2011279.006.2016077043034.hdf\":MODIS_CMG_3MIN_LST:LST_Day_CMG\n",
      "207.72 340.26\n",
      "HDF4_EOS:EOS_GRID:\"E:\\2011_197_onwards\\MYD11C1.A2011280.006.2016077043355.hdf\":MODIS_CMG_3MIN_LST:LST_Day_CMG\n",
      "205.84 350.90000000000003\n",
      "HDF4_EOS:EOS_GRID:\"E:\\2011_197_onwards\\MYD11C1.A2011281.006.2016077040942.hdf\":MODIS_CMG_3MIN_LST:LST_Day_CMG\n",
      "207.3 338.12\n",
      "HDF4_EOS:EOS_GRID:\"E:\\2011_197_onwards\\MYD11C1.A2011282.006.2016077041258.hdf\":MODIS_CMG_3MIN_LST:LST_Day_CMG\n",
      "206.06 338.78000000000003\n",
      "HDF4_EOS:EOS_GRID:\"E:\\2011_197_onwards\\MYD11C1.A2011283.006.2016077041704.hdf\":MODIS_CMG_3MIN_LST:LST_Day_CMG\n",
      "204.48000000000002 338.58\n",
      "HDF4_EOS:EOS_GRID:\"E:\\2011_197_onwards\\MYD11C1.A2011284.006.2016077042326.hdf\":MODIS_CMG_3MIN_LST:LST_Day_CMG\n",
      "202.0 337.42\n",
      "HDF4_EOS:EOS_GRID:\"E:\\2011_197_onwards\\MYD11C1.A2011285.006.2016077042325.hdf\":MODIS_CMG_3MIN_LST:LST_Day_CMG\n",
      "203.08 339.84000000000003\n",
      "HDF4_EOS:EOS_GRID:\"E:\\2011_197_onwards\\MYD11C1.A2011286.006.2016077043036.hdf\":MODIS_CMG_3MIN_LST:LST_Day_CMG\n",
      "213.70000000000002 336.22\n",
      "HDF4_EOS:EOS_GRID:\"E:\\2011_197_onwards\\MYD11C1.A2011287.006.2016077043044.hdf\":MODIS_CMG_3MIN_LST:LST_Day_CMG\n",
      "209.94 339.8\n",
      "HDF4_EOS:EOS_GRID:\"E:\\2011_197_onwards\\MYD11C1.A2011288.006.2016077043413.hdf\":MODIS_CMG_3MIN_LST:LST_Day_CMG\n",
      "206.78 338.22\n",
      "HDF4_EOS:EOS_GRID:\"E:\\2011_197_onwards\\MYD11C1.A2011289.006.2016077140043.hdf\":MODIS_CMG_3MIN_LST:LST_Day_CMG\n",
      "207.18 339.12\n",
      "HDF4_EOS:EOS_GRID:\"E:\\2011_197_onwards\\MYD11C1.A2011290.006.2016077140043.hdf\":MODIS_CMG_3MIN_LST:LST_Day_CMG\n",
      "209.8 340.24\n",
      "HDF4_EOS:EOS_GRID:\"E:\\2011_197_onwards\\MYD11C1.A2011291.006.2016077041702.hdf\":MODIS_CMG_3MIN_LST:LST_Day_CMG\n",
      "215.9 340.2\n",
      "HDF4_EOS:EOS_GRID:\"E:\\2011_197_onwards\\MYD11C1.A2011292.006.2016077042401.hdf\":MODIS_CMG_3MIN_LST:LST_Day_CMG\n",
      "216.38 338.6\n",
      "HDF4_EOS:EOS_GRID:\"E:\\2011_197_onwards\\MYD11C1.A2011293.006.2016077140041.hdf\":MODIS_CMG_3MIN_LST:LST_Day_CMG\n",
      "215.58 338.6\n",
      "HDF4_EOS:EOS_GRID:\"E:\\2011_197_onwards\\MYD11C1.A2011294.006.2016077140042.hdf\":MODIS_CMG_3MIN_LST:LST_Day_CMG\n",
      "217.38 341.28000000000003\n",
      "HDF4_EOS:EOS_GRID:\"E:\\2011_197_onwards\\MYD11C1.A2011295.006.2016077043051.hdf\":MODIS_CMG_3MIN_LST:LST_Day_CMG\n",
      "216.36 337.72\n",
      "HDF4_EOS:EOS_GRID:\"E:\\2011_197_onwards\\MYD11C1.A2011296.006.2016077140041.hdf\":MODIS_CMG_3MIN_LST:LST_Day_CMG\n",
      "213.72 338.82\n",
      "HDF4_EOS:EOS_GRID:\"E:\\2011_197_onwards\\MYD11C1.A2011297.006.2016077040945.hdf\":MODIS_CMG_3MIN_LST:LST_Day_CMG\n",
      "215.08 336.44\n",
      "HDF4_EOS:EOS_GRID:\"E:\\2011_197_onwards\\MYD11C1.A2011298.006.2016077041307.hdf\":MODIS_CMG_3MIN_LST:LST_Day_CMG\n",
      "216.42000000000002 339.8\n",
      "HDF4_EOS:EOS_GRID:\"E:\\2011_197_onwards\\MYD11C1.A2011299.006.2016077140043.hdf\":MODIS_CMG_3MIN_LST:LST_Day_CMG\n",
      "214.62 335.6\n",
      "HDF4_EOS:EOS_GRID:\"E:\\2011_197_onwards\\MYD11C1.A2011300.006.2016077042338.hdf\":MODIS_CMG_3MIN_LST:LST_Day_CMG\n",
      "214.5 339.56\n",
      "HDF4_EOS:EOS_GRID:\"E:\\2011_197_onwards\\MYD11C1.A2011301.006.2016077042426.hdf\":MODIS_CMG_3MIN_LST:LST_Day_CMG\n",
      "216.4 340.06\n",
      "HDF4_EOS:EOS_GRID:\"E:\\2011_197_onwards\\MYD11C1.A2011302.006.2016077043058.hdf\":MODIS_CMG_3MIN_LST:LST_Day_CMG\n",
      "219.08 338.34000000000003\n",
      "HDF4_EOS:EOS_GRID:\"E:\\2011_197_onwards\\MYD11C1.A2011303.006.2016077043116.hdf\":MODIS_CMG_3MIN_LST:LST_Day_CMG\n",
      "215.96 340.96\n",
      "HDF4_EOS:EOS_GRID:\"E:\\2011_197_onwards\\MYD11C1.A2011304.006.2016077043441.hdf\":MODIS_CMG_3MIN_LST:LST_Day_CMG\n",
      "212.28 336.34000000000003\n",
      "HDF4_EOS:EOS_GRID:\"E:\\2011_197_onwards\\MYD11C1.A2011305.006.2016077140346.hdf\":MODIS_CMG_3MIN_LST:LST_Day_CMG\n",
      "210.54 340.02\n",
      "HDF4_EOS:EOS_GRID:\"E:\\2011_197_onwards\\MYD11C1.A2011306.006.2016077140353.hdf\":MODIS_CMG_3MIN_LST:LST_Day_CMG\n",
      "215.74 340.68\n",
      "HDF4_EOS:EOS_GRID:\"E:\\2011_197_onwards\\MYD11C1.A2011307.006.2016077140349.hdf\":MODIS_CMG_3MIN_LST:LST_Day_CMG\n",
      "214.56 340.40000000000003\n",
      "HDF4_EOS:EOS_GRID:\"E:\\2011_197_onwards\\MYD11C1.A2011308.006.2016077140351.hdf\":MODIS_CMG_3MIN_LST:LST_Day_CMG\n",
      "219.28 340.92\n",
      "HDF4_EOS:EOS_GRID:\"E:\\2011_197_onwards\\MYD11C1.A2011309.006.2016077140350.hdf\":MODIS_CMG_3MIN_LST:LST_Day_CMG\n",
      "221.0 341.36\n",
      "HDF4_EOS:EOS_GRID:\"E:\\2011_197_onwards\\MYD11C1.A2011310.006.2016077061048.hdf\":MODIS_CMG_3MIN_LST:LST_Day_CMG\n",
      "218.28 340.24\n",
      "HDF4_EOS:EOS_GRID:\"E:\\2011_197_onwards\\MYD11C1.A2011311.006.2016077062906.hdf\":MODIS_CMG_3MIN_LST:LST_Day_CMG\n",
      "212.44 341.76\n",
      "HDF4_EOS:EOS_GRID:\"E:\\2011_197_onwards\\MYD11C1.A2011312.006.2016077073919.hdf\":MODIS_CMG_3MIN_LST:LST_Day_CMG\n",
      "216.0 339.96\n",
      "HDF4_EOS:EOS_GRID:\"E:\\2011_197_onwards\\MYD11C1.A2011313.006.2016077080526.hdf\":MODIS_CMG_3MIN_LST:LST_Day_CMG\n",
      "217.54 337.6\n",
      "HDF4_EOS:EOS_GRID:\"E:\\2011_197_onwards\\MYD11C1.A2011314.006.2016077140346.hdf\":MODIS_CMG_3MIN_LST:LST_Day_CMG\n",
      "219.92000000000002 341.08\n",
      "HDF4_EOS:EOS_GRID:\"E:\\2011_197_onwards\\MYD11C1.A2011315.006.2016077094038.hdf\":MODIS_CMG_3MIN_LST:LST_Day_CMG\n",
      "216.4 337.36\n",
      "HDF4_EOS:EOS_GRID:\"E:\\2011_197_onwards\\MYD11C1.A2011316.006.2016077104006.hdf\":MODIS_CMG_3MIN_LST:LST_Day_CMG\n",
      "212.54 339.86\n",
      "HDF4_EOS:EOS_GRID:\"E:\\2011_197_onwards\\MYD11C1.A2011317.006.2016077140347.hdf\":MODIS_CMG_3MIN_LST:LST_Day_CMG\n",
      "216.04 339.76\n",
      "HDF4_EOS:EOS_GRID:\"E:\\2011_197_onwards\\MYD11C1.A2011318.006.2016077121754.hdf\":MODIS_CMG_3MIN_LST:LST_Day_CMG\n",
      "216.0 342.8\n",
      "HDF4_EOS:EOS_GRID:\"E:\\2011_197_onwards\\MYD11C1.A2011319.006.2016077123513.hdf\":MODIS_CMG_3MIN_LST:LST_Day_CMG\n",
      "217.66 339.28000000000003\n",
      "HDF4_EOS:EOS_GRID:\"E:\\2011_197_onwards\\MYD11C1.A2011320.006.2016077140351.hdf\":MODIS_CMG_3MIN_LST:LST_Day_CMG\n",
      "226.0 339.88\n",
      "HDF4_EOS:EOS_GRID:\"E:\\2011_197_onwards\\MYD11C1.A2011321.006.2016078174746.hdf\":MODIS_CMG_3MIN_LST:LST_Day_CMG\n",
      "215.38 340.24\n",
      "HDF4_EOS:EOS_GRID:\"E:\\2011_197_onwards\\MYD11C1.A2011322.006.2016078174753.hdf\":MODIS_CMG_3MIN_LST:LST_Day_CMG\n",
      "224.44 342.32\n",
      "HDF4_EOS:EOS_GRID:\"E:\\2011_197_onwards\\MYD11C1.A2011323.006.2016077161351.hdf\":MODIS_CMG_3MIN_LST:LST_Day_CMG\n",
      "221.88 339.3\n",
      "HDF4_EOS:EOS_GRID:\"E:\\2011_197_onwards\\MYD11C1.A2011324.006.2016078174745.hdf\":MODIS_CMG_3MIN_LST:LST_Day_CMG\n",
      "220.36 336.44\n",
      "HDF4_EOS:EOS_GRID:\"E:\\2011_197_onwards\\MYD11C1.A2011325.006.2016078174748.hdf\":MODIS_CMG_3MIN_LST:LST_Day_CMG\n",
      "221.28 341.12\n",
      "HDF4_EOS:EOS_GRID:\"E:\\2011_197_onwards\\MYD11C1.A2011326.006.2016077192732.hdf\":MODIS_CMG_3MIN_LST:LST_Day_CMG\n"
     ]
    },
    {
     "name": "stdout",
     "output_type": "stream",
     "text": [
      "221.14000000000001 335.52\n",
      "HDF4_EOS:EOS_GRID:\"E:\\2011_197_onwards\\MYD11C1.A2011327.006.2016077193513.hdf\":MODIS_CMG_3MIN_LST:LST_Day_CMG\n",
      "219.26 340.68\n",
      "HDF4_EOS:EOS_GRID:\"E:\\2011_197_onwards\\MYD11C1.A2011328.006.2016077210141.hdf\":MODIS_CMG_3MIN_LST:LST_Day_CMG\n",
      "215.56 339.7\n",
      "HDF4_EOS:EOS_GRID:\"E:\\2011_197_onwards\\MYD11C1.A2011329.006.2016077213050.hdf\":MODIS_CMG_3MIN_LST:LST_Day_CMG\n",
      "213.22 339.96\n",
      "HDF4_EOS:EOS_GRID:\"E:\\2011_197_onwards\\MYD11C1.A2011330.006.2016077224248.hdf\":MODIS_CMG_3MIN_LST:LST_Day_CMG\n",
      "209.20000000000002 340.98\n",
      "HDF4_EOS:EOS_GRID:\"E:\\2011_197_onwards\\MYD11C1.A2011331.006.2016077232440.hdf\":MODIS_CMG_3MIN_LST:LST_Day_CMG\n",
      "210.44 337.94\n",
      "HDF4_EOS:EOS_GRID:\"E:\\2011_197_onwards\\MYD11C1.A2011332.006.2016078002651.hdf\":MODIS_CMG_3MIN_LST:LST_Day_CMG\n",
      "207.34 339.78000000000003\n",
      "HDF4_EOS:EOS_GRID:\"E:\\2011_197_onwards\\MYD11C1.A2011333.006.2016078011429.hdf\":MODIS_CMG_3MIN_LST:LST_Day_CMG\n",
      "209.22 339.96\n",
      "HDF4_EOS:EOS_GRID:\"E:\\2011_197_onwards\\MYD11C1.A2011334.006.2016078023326.hdf\":MODIS_CMG_3MIN_LST:LST_Day_CMG\n",
      "206.14000000000001 339.58\n",
      "HDF4_EOS:EOS_GRID:\"E:\\2011_197_onwards\\MYD11C1.A2011335.006.2016078025801.hdf\":MODIS_CMG_3MIN_LST:LST_Day_CMG\n",
      "205.9 342.22\n",
      "HDF4_EOS:EOS_GRID:\"E:\\2011_197_onwards\\MYD11C1.A2011336.006.2016078042925.hdf\":MODIS_CMG_3MIN_LST:LST_Day_CMG\n",
      "204.48000000000002 340.94\n",
      "HDF4_EOS:EOS_GRID:\"E:\\2011_197_onwards\\MYD11C1.A2011337.006.2016078180121.hdf\":MODIS_CMG_3MIN_LST:LST_Day_CMG\n",
      "202.88 340.6\n",
      "HDF4_EOS:EOS_GRID:\"E:\\2011_197_onwards\\MYD11C1.A2011338.006.2016078180044.hdf\":MODIS_CMG_3MIN_LST:LST_Day_CMG\n",
      "203.38 340.24\n",
      "HDF4_EOS:EOS_GRID:\"E:\\2011_197_onwards\\MYD11C1.A2011339.006.2016078065135.hdf\":MODIS_CMG_3MIN_LST:LST_Day_CMG\n",
      "201.28 339.96\n",
      "HDF4_EOS:EOS_GRID:\"E:\\2011_197_onwards\\MYD11C1.A2011340.006.2016078180054.hdf\":MODIS_CMG_3MIN_LST:LST_Day_CMG\n",
      "200.06 341.2\n",
      "HDF4_EOS:EOS_GRID:\"E:\\2011_197_onwards\\MYD11C1.A2011341.006.2016078180054.hdf\":MODIS_CMG_3MIN_LST:LST_Day_CMG\n",
      "199.18 340.22\n",
      "HDF4_EOS:EOS_GRID:\"E:\\2011_197_onwards\\MYD11C1.A2011342.006.2016078093148.hdf\":MODIS_CMG_3MIN_LST:LST_Day_CMG\n",
      "199.48000000000002 338.02\n",
      "HDF4_EOS:EOS_GRID:\"E:\\2011_197_onwards\\MYD11C1.A2011343.006.2016078101616.hdf\":MODIS_CMG_3MIN_LST:LST_Day_CMG\n",
      "206.8 340.28000000000003\n",
      "HDF4_EOS:EOS_GRID:\"E:\\2011_197_onwards\\MYD11C1.A2011344.006.2016078111553.hdf\":MODIS_CMG_3MIN_LST:LST_Day_CMG\n",
      "204.28 340.16\n",
      "HDF4_EOS:EOS_GRID:\"E:\\2011_197_onwards\\MYD11C1.A2011345.006.2016078180324.hdf\":MODIS_CMG_3MIN_LST:LST_Day_CMG\n",
      "212.64000000000001 342.04\n",
      "HDF4_EOS:EOS_GRID:\"E:\\2011_197_onwards\\MYD11C1.A2011346.006.2016078124459.hdf\":MODIS_CMG_3MIN_LST:LST_Day_CMG\n",
      "211.6 339.42\n",
      "HDF4_EOS:EOS_GRID:\"E:\\2011_197_onwards\\MYD11C1.A2011347.006.2016078180318.hdf\":MODIS_CMG_3MIN_LST:LST_Day_CMG\n",
      "211.70000000000002 336.2\n",
      "HDF4_EOS:EOS_GRID:\"E:\\2011_197_onwards\\MYD11C1.A2011348.006.2016078142103.hdf\":MODIS_CMG_3MIN_LST:LST_Day_CMG\n",
      "220.78 338.44\n",
      "HDF4_EOS:EOS_GRID:\"E:\\2011_197_onwards\\MYD11C1.A2011349.006.2016078150810.hdf\":MODIS_CMG_3MIN_LST:LST_Day_CMG\n",
      "209.62 343.7\n",
      "HDF4_EOS:EOS_GRID:\"E:\\2011_197_onwards\\MYD11C1.A2011350.006.2016078155206.hdf\":MODIS_CMG_3MIN_LST:LST_Day_CMG\n",
      "210.26 340.72\n",
      "HDF4_EOS:EOS_GRID:\"E:\\2011_197_onwards\\MYD11C1.A2011351.006.2016078180322.hdf\":MODIS_CMG_3MIN_LST:LST_Day_CMG\n",
      "210.86 343.44\n",
      "HDF4_EOS:EOS_GRID:\"E:\\2011_197_onwards\\MYD11C1.A2011352.006.2016078174236.hdf\":MODIS_CMG_3MIN_LST:LST_Day_CMG\n",
      "221.96 341.7\n",
      "HDF4_EOS:EOS_GRID:\"E:\\2011_197_onwards\\MYD11C1.A2011353.006.2016079070830.hdf\":MODIS_CMG_3MIN_LST:LST_Day_CMG\n",
      "219.86 342.36\n",
      "HDF4_EOS:EOS_GRID:\"E:\\2011_197_onwards\\MYD11C1.A2011354.006.2016079070833.hdf\":MODIS_CMG_3MIN_LST:LST_Day_CMG\n",
      "212.68 342.94\n",
      "HDF4_EOS:EOS_GRID:\"E:\\2011_197_onwards\\MYD11C1.A2011355.006.2016078204454.hdf\":MODIS_CMG_3MIN_LST:LST_Day_CMG\n",
      "211.0 345.1\n",
      "HDF4_EOS:EOS_GRID:\"E:\\2011_197_onwards\\MYD11C1.A2011356.006.2016078214707.hdf\":MODIS_CMG_3MIN_LST:LST_Day_CMG\n",
      "212.78 341.04\n",
      "HDF4_EOS:EOS_GRID:\"E:\\2011_197_onwards\\MYD11C1.A2011357.006.2016078225722.hdf\":MODIS_CMG_3MIN_LST:LST_Day_CMG\n",
      "208.02 345.38\n",
      "HDF4_EOS:EOS_GRID:\"E:\\2011_197_onwards\\MYD11C1.A2011358.006.2016078235420.hdf\":MODIS_CMG_3MIN_LST:LST_Day_CMG\n",
      "206.32 342.82\n",
      "HDF4_EOS:EOS_GRID:\"E:\\2011_197_onwards\\MYD11C1.A2011359.006.2016079010514.hdf\":MODIS_CMG_3MIN_LST:LST_Day_CMG\n",
      "205.4 343.28000000000003\n",
      "HDF4_EOS:EOS_GRID:\"E:\\2011_197_onwards\\MYD11C1.A2011360.006.2016079015556.hdf\":MODIS_CMG_3MIN_LST:LST_Day_CMG\n",
      "202.54 340.46\n",
      "HDF4_EOS:EOS_GRID:\"E:\\2011_197_onwards\\MYD11C1.A2011361.006.2016083041425.hdf\":MODIS_CMG_3MIN_LST:LST_Day_CMG\n",
      "207.44 340.78000000000003\n",
      "HDF4_EOS:EOS_GRID:\"E:\\2011_197_onwards\\MYD11C1.A2011362.006.2016083041426.hdf\":MODIS_CMG_3MIN_LST:LST_Day_CMG\n",
      "210.38 345.1\n",
      "HDF4_EOS:EOS_GRID:\"E:\\2011_197_onwards\\MYD11C1.A2011363.006.2016083041425.hdf\":MODIS_CMG_3MIN_LST:LST_Day_CMG\n",
      "208.70000000000002 343.90000000000003\n",
      "HDF4_EOS:EOS_GRID:\"E:\\2011_197_onwards\\MYD11C1.A2011364.006.2016083041427.hdf\":MODIS_CMG_3MIN_LST:LST_Day_CMG\n",
      "209.88 343.58\n",
      "HDF4_EOS:EOS_GRID:\"E:\\2011_197_onwards\\MYD11C1.A2011365.006.2016083041427.hdf\":MODIS_CMG_3MIN_LST:LST_Day_CMG\n",
      "203.14000000000001 341.08\n",
      "HDF4_EOS:EOS_GRID:\"E:\\2011_197_onwards\\MYD11C1.A2012001.006.2016106144950.hdf\":MODIS_CMG_3MIN_LST:LST_Day_CMG\n",
      "209.84 342.08\n",
      "HDF4_EOS:EOS_GRID:\"E:\\2011_197_onwards\\MYD11C1.A2012002.006.2016106144950.hdf\":MODIS_CMG_3MIN_LST:LST_Day_CMG\n",
      "211.96 343.78000000000003\n",
      "HDF4_EOS:EOS_GRID:\"E:\\2011_197_onwards\\MYD11C1.A2012003.006.2016106144947.hdf\":MODIS_CMG_3MIN_LST:LST_Day_CMG\n",
      "214.74 343.64\n",
      "HDF4_EOS:EOS_GRID:\"E:\\2011_197_onwards\\MYD11C1.A2012004.006.2016106144951.hdf\":MODIS_CMG_3MIN_LST:LST_Day_CMG\n",
      "216.04 340.14\n",
      "HDF4_EOS:EOS_GRID:\"E:\\2011_197_onwards\\MYD11C1.A2012005.006.2016106144952.hdf\":MODIS_CMG_3MIN_LST:LST_Day_CMG\n",
      "215.14000000000001 344.52\n",
      "HDF4_EOS:EOS_GRID:\"E:\\2011_197_onwards\\MYD11C1.A2012006.006.2016106144950.hdf\":MODIS_CMG_3MIN_LST:LST_Day_CMG\n",
      "209.52 343.82\n",
      "HDF4_EOS:EOS_GRID:\"E:\\2011_197_onwards\\MYD11C1.A2012007.006.2016106144949.hdf\":MODIS_CMG_3MIN_LST:LST_Day_CMG\n",
      "218.46 346.72\n",
      "HDF4_EOS:EOS_GRID:\"E:\\2011_197_onwards\\MYD11C1.A2012008.006.2016106144950.hdf\":MODIS_CMG_3MIN_LST:LST_Day_CMG\n",
      "210.9 345.94\n",
      "HDF4_EOS:EOS_GRID:\"E:\\2011_197_onwards\\MYD11C1.A2012009.006.2016106145116.hdf\":MODIS_CMG_3MIN_LST:LST_Day_CMG\n",
      "217.18 343.82\n",
      "HDF4_EOS:EOS_GRID:\"E:\\2011_197_onwards\\MYD11C1.A2012010.006.2016106145117.hdf\":MODIS_CMG_3MIN_LST:LST_Day_CMG\n",
      "210.34 346.72\n",
      "HDF4_EOS:EOS_GRID:\"E:\\2011_197_onwards\\MYD11C1.A2012011.006.2016106145115.hdf\":MODIS_CMG_3MIN_LST:LST_Day_CMG\n",
      "214.4 341.26\n",
      "HDF4_EOS:EOS_GRID:\"E:\\2011_197_onwards\\MYD11C1.A2012012.006.2016106145115.hdf\":MODIS_CMG_3MIN_LST:LST_Day_CMG\n",
      "214.24 338.72\n"
     ]
    }
   ],
   "source": [
    "Day_LST()"
   ]
  },
  {
   "cell_type": "code",
   "execution_count": 20,
   "id": "b5507117",
   "metadata": {
    "ExecuteTime": {
     "end_time": "2021-07-04T09:56:55.711578Z",
     "start_time": "2021-07-04T09:56:55.695621Z"
    }
   },
   "outputs": [],
   "source": [
    "def Night_LST():\n",
    "    f1='HDF4_EOS:EOS_GRID:\"E:\\\\rahul\\MYD11C1\\\\'\n",
    "    f2='\":MODIS_CMG_3MIN_LST:LST_Night_CMG'\n",
    "    for root, dirs, files in os.walk(path):\n",
    "        for name in files:\n",
    "            filepath=f1+name+f2\n",
    "            print(filepath)\n",
    "            data=gdal.Open(filepath)\n",
    "            lst=data.ReadAsArray().astype(\"float64\")\n",
    "            lst[lst<7500]=np.nan\n",
    "            lst[lst>65535]=np.nan\n",
    "            lst=lst*0.02\n",
    "            print(np.nanmin(lst),np.nanmax(lst))\n",
    "    #         output_proj=r\"E:\\\\rahul\\MODIS_Resample_LST\\new_proj\" + name +'.tif'\n",
    "            output_resample=r\"E:\\rahul\\New folder\\night_LST\\ \" + name +'.tif'\n",
    "            VE=WriteImage(\" \",lst,projection,geotrans)\n",
    "            t=gdal.Warp(output_resample,VE,\n",
    "                         xRes=0.05,yRes=0.05,\n",
    "                          resampleAlg='bilinear'\n",
    "                         )\n",
    "            VE=None\n",
    "            t=None"
   ]
  },
  {
   "cell_type": "code",
   "execution_count": 18,
   "id": "994fe68f",
   "metadata": {
    "ExecuteTime": {
     "end_time": "2021-07-04T09:53:24.087028Z",
     "start_time": "2021-07-04T09:53:24.071224Z"
    }
   },
   "outputs": [],
   "source": [
    "def BBE_Emissivity():\n",
    "    f1='HDF4_EOS:EOS_GRID:\"E:\\\\rahul\\MYD11C1\\\\'\n",
    "    f29='\":MODIS_CMG_3MIN_LST:Emis_29'\n",
    "    f31='\":MODIS_CMG_3MIN_LST:Emis_31'\n",
    "    f32='\":MODIS_CMG_3MIN_LST:Emis_32'\n",
    "    for root, dirs, files in os.walk(path):\n",
    "        for name in files:\n",
    "            filepath29=f1+name+f29\n",
    "            filepath31=f1+name+f31\n",
    "            filepath32=f1+name+f32\n",
    "            print(filepath29)\n",
    "            print(filepath31)\n",
    "            print(filepath32)\n",
    "            data29=gdal.Open(filepath29)\n",
    "            data29=data29.ReadAsArray().astype(\"float64\")\n",
    "            data29[data29<1.0]=np.nan\n",
    "            data29[data29>255.0]=np.nan\n",
    "            data29=data29*0.002+0.49\n",
    "\n",
    "            data31=gdal.Open(filepath31)\n",
    "            data31=data31.ReadAsArray().astype(\"float64\")\n",
    "            data31[data31<1.0]=np.nan\n",
    "            data31[data31>255.0]=np.nan\n",
    "            data31=data31*0.002+0.49\n",
    "\n",
    "            data32=gdal.Open(filepath32)\n",
    "            data32=data32.ReadAsArray().astype(\"float64\")\n",
    "            data32[data32<1.0]=np.nan\n",
    "            data32[data32>255.0]=np.nan\n",
    "            data32=data32*0.002+0.49\n",
    "\n",
    "            BBE=0.221*data29+0.3859*data31+0.4029*data32\n",
    "            output_resample=r\"E:\\rahul\\New folder\\BB_Emis_day\\ \" + name +'.tif'\n",
    "            VE=WriteImage(\" \",lst,projection,geotrans)\n",
    "            t=gdal.Warp(output_resample,VE,\n",
    "                         xRes=0.05,yRes=0.05,\n",
    "                          resampleAlg='bilinear'\n",
    "                         )\n",
    "            VE=None\n",
    "            t=None"
   ]
  },
  {
   "cell_type": "code",
   "execution_count": null,
   "id": "0f6df51b",
   "metadata": {},
   "outputs": [],
   "source": []
  },
  {
   "cell_type": "markdown",
   "id": "943671de",
   "metadata": {},
   "source": [
    "# one file assesment"
   ]
  },
  {
   "cell_type": "code",
   "execution_count": 7,
   "id": "b8dca387",
   "metadata": {
    "ExecuteTime": {
     "end_time": "2021-06-30T13:17:20.367912Z",
     "start_time": "2021-06-30T13:17:20.354948Z"
    }
   },
   "outputs": [],
   "source": [
    "data=gdal.Open(r'HDF4_EOS:EOS_GRID:\"E:\\rahul\\MODIS LST\\MYD11C1.A2006149.006.2015292001259.hdf\":MODIS_CMG_3MIN_LST:LST_Day_CMG')"
   ]
  },
  {
   "cell_type": "code",
   "execution_count": 20,
   "id": "f97470c2",
   "metadata": {
    "ExecuteTime": {
     "end_time": "2021-06-30T13:22:48.836601Z",
     "start_time": "2021-06-30T13:22:48.669124Z"
    }
   },
   "outputs": [],
   "source": [
    "s=data.ReadAsArray().astype(\"float64\")\n",
    "s[s<7500]=np.nan\n",
    "s[s>65535]=np.nan"
   ]
  },
  {
   "cell_type": "code",
   "execution_count": 28,
   "id": "736998be",
   "metadata": {
    "ExecuteTime": {
     "end_time": "2021-06-30T13:29:05.227488Z",
     "start_time": "2021-06-30T13:29:05.211848Z"
    }
   },
   "outputs": [
    {
     "data": {
      "text/plain": [
       "'GEOGCS[\"Unknown datum based upon the Clarke 1866 ellipsoid\",DATUM[\"Not specified (based on Clarke 1866 spheroid)\",SPHEROID[\"Clarke 1866\",6378206.4,294.978698213898,AUTHORITY[\"EPSG\",\"7008\"]]],PRIMEM[\"Greenwich\",0],UNIT[\"degree\",0.0174532925199433,AUTHORITY[\"EPSG\",\"9122\"]],AXIS[\"Latitude\",NORTH],AXIS[\"Longitude\",EAST]]'"
      ]
     },
     "execution_count": 28,
     "metadata": {},
     "output_type": "execute_result"
    }
   ],
   "source": [
    "data.GetProjection()"
   ]
  },
  {
   "cell_type": "code",
   "execution_count": 21,
   "id": "4c3b44fe",
   "metadata": {
    "ExecuteTime": {
     "end_time": "2021-06-30T13:22:52.478351Z",
     "start_time": "2021-06-30T13:22:52.403357Z"
    }
   },
   "outputs": [],
   "source": [
    "s=s*0.02"
   ]
  },
  {
   "cell_type": "code",
   "execution_count": 23,
   "id": "01df6286",
   "metadata": {
    "ExecuteTime": {
     "end_time": "2021-06-30T13:23:12.446149Z",
     "start_time": "2021-06-30T13:23:10.696006Z"
    }
   },
   "outputs": [
    {
     "data": {
      "text/plain": [
       "<matplotlib.image.AxesImage at 0x216a7bd5490>"
      ]
     },
     "execution_count": 23,
     "metadata": {},
     "output_type": "execute_result"
    },
    {
     "data": {
      "image/png": "[encoded data removed]",
      "text/plain": [
       "<Figure size 432x288 with 1 Axes>"
      ]
     },
     "metadata": {
      "needs_background": "light"
     },
     "output_type": "display_data"
    }
   ],
   "source": [
    "plt.imshow(s)"
   ]
  },
  {
   "cell_type": "code",
   "execution_count": 7,
   "id": "139e0ff1",
   "metadata": {
    "ExecuteTime": {
     "end_time": "2021-07-04T06:49:08.212443Z",
     "start_time": "2021-07-04T06:49:08.192498Z"
    }
   },
   "outputs": [],
   "source": [
    "p=gdal.Open(r'E:\\rahul\\MYD11C1\\MYD11C1.A2010287.061.2021180172505.hdf')"
   ]
  },
  {
   "cell_type": "code",
   "execution_count": 11,
   "id": "31a940f7",
   "metadata": {
    "ExecuteTime": {
     "end_time": "2021-07-04T06:49:33.461629Z",
     "start_time": "2021-07-04T06:49:33.446825Z"
    }
   },
   "outputs": [
    {
     "data": {
      "text/plain": [
       "[('HDF4_EOS:EOS_GRID:\"E:\\\\rahul\\\\MYD11C1\\\\MYD11C1.A2010287.061.2021180172505.hdf\":MODIS_CMG_3MIN_LST:LST_Day_CMG',\n",
       "  '[3600x7200] LST_Day_CMG MODIS_CMG_3MIN_LST (16-bit unsigned integer)'),\n",
       " ('HDF4_EOS:EOS_GRID:\"E:\\\\rahul\\\\MYD11C1\\\\MYD11C1.A2010287.061.2021180172505.hdf\":MODIS_CMG_3MIN_LST:QC_Day',\n",
       "  '[3600x7200] QC_Day MODIS_CMG_3MIN_LST (8-bit unsigned integer)'),\n",
       " ('HDF4_EOS:EOS_GRID:\"E:\\\\rahul\\\\MYD11C1\\\\MYD11C1.A2010287.061.2021180172505.hdf\":MODIS_CMG_3MIN_LST:Day_view_time',\n",
       "  '[3600x7200] Day_view_time MODIS_CMG_3MIN_LST (8-bit unsigned integer)'),\n",
       " ('HDF4_EOS:EOS_GRID:\"E:\\\\rahul\\\\MYD11C1\\\\MYD11C1.A2010287.061.2021180172505.hdf\":MODIS_CMG_3MIN_LST:Day_view_angl',\n",
       "  '[3600x7200] Day_view_angl MODIS_CMG_3MIN_LST (8-bit unsigned integer)'),\n",
       " ('HDF4_EOS:EOS_GRID:\"E:\\\\rahul\\\\MYD11C1\\\\MYD11C1.A2010287.061.2021180172505.hdf\":MODIS_CMG_3MIN_LST:LST_Night_CMG',\n",
       "  '[3600x7200] LST_Night_CMG MODIS_CMG_3MIN_LST (16-bit unsigned integer)'),\n",
       " ('HDF4_EOS:EOS_GRID:\"E:\\\\rahul\\\\MYD11C1\\\\MYD11C1.A2010287.061.2021180172505.hdf\":MODIS_CMG_3MIN_LST:QC_Night',\n",
       "  '[3600x7200] QC_Night MODIS_CMG_3MIN_LST (8-bit unsigned integer)'),\n",
       " ('HDF4_EOS:EOS_GRID:\"E:\\\\rahul\\\\MYD11C1\\\\MYD11C1.A2010287.061.2021180172505.hdf\":MODIS_CMG_3MIN_LST:Night_view_time',\n",
       "  '[3600x7200] Night_view_time MODIS_CMG_3MIN_LST (8-bit unsigned integer)'),\n",
       " ('HDF4_EOS:EOS_GRID:\"E:\\\\rahul\\\\MYD11C1\\\\MYD11C1.A2010287.061.2021180172505.hdf\":MODIS_CMG_3MIN_LST:Night_view_angl',\n",
       "  '[3600x7200] Night_view_angl MODIS_CMG_3MIN_LST (8-bit unsigned integer)'),\n",
       " ('HDF4_EOS:EOS_GRID:\"E:\\\\rahul\\\\MYD11C1\\\\MYD11C1.A2010287.061.2021180172505.hdf\":MODIS_CMG_3MIN_LST:Emis_20',\n",
       "  '[3600x7200] Emis_20 MODIS_CMG_3MIN_LST (8-bit unsigned integer)'),\n",
       " ('HDF4_EOS:EOS_GRID:\"E:\\\\rahul\\\\MYD11C1\\\\MYD11C1.A2010287.061.2021180172505.hdf\":MODIS_CMG_3MIN_LST:Emis_22',\n",
       "  '[3600x7200] Emis_22 MODIS_CMG_3MIN_LST (8-bit unsigned integer)'),\n",
       " ('HDF4_EOS:EOS_GRID:\"E:\\\\rahul\\\\MYD11C1\\\\MYD11C1.A2010287.061.2021180172505.hdf\":MODIS_CMG_3MIN_LST:Emis_23',\n",
       "  '[3600x7200] Emis_23 MODIS_CMG_3MIN_LST (8-bit unsigned integer)'),\n",
       " ('HDF4_EOS:EOS_GRID:\"E:\\\\rahul\\\\MYD11C1\\\\MYD11C1.A2010287.061.2021180172505.hdf\":MODIS_CMG_3MIN_LST:Emis_29',\n",
       "  '[3600x7200] Emis_29 MODIS_CMG_3MIN_LST (8-bit unsigned integer)'),\n",
       " ('HDF4_EOS:EOS_GRID:\"E:\\\\rahul\\\\MYD11C1\\\\MYD11C1.A2010287.061.2021180172505.hdf\":MODIS_CMG_3MIN_LST:Emis_31',\n",
       "  '[3600x7200] Emis_31 MODIS_CMG_3MIN_LST (8-bit unsigned integer)'),\n",
       " ('HDF4_EOS:EOS_GRID:\"E:\\\\rahul\\\\MYD11C1\\\\MYD11C1.A2010287.061.2021180172505.hdf\":MODIS_CMG_3MIN_LST:Emis_32',\n",
       "  '[3600x7200] Emis_32 MODIS_CMG_3MIN_LST (8-bit unsigned integer)'),\n",
       " ('HDF4_EOS:EOS_GRID:\"E:\\\\rahul\\\\MYD11C1\\\\MYD11C1.A2010287.061.2021180172505.hdf\":MODIS_CMG_3MIN_LST:Emis_20_night',\n",
       "  '[3600x7200] Emis_20_night MODIS_CMG_3MIN_LST (8-bit unsigned integer)'),\n",
       " ('HDF4_EOS:EOS_GRID:\"E:\\\\rahul\\\\MYD11C1\\\\MYD11C1.A2010287.061.2021180172505.hdf\":MODIS_CMG_3MIN_LST:Emis_22_night',\n",
       "  '[3600x7200] Emis_22_night MODIS_CMG_3MIN_LST (8-bit unsigned integer)'),\n",
       " ('HDF4_EOS:EOS_GRID:\"E:\\\\rahul\\\\MYD11C1\\\\MYD11C1.A2010287.061.2021180172505.hdf\":MODIS_CMG_3MIN_LST:Emis_23_night',\n",
       "  '[3600x7200] Emis_23_night MODIS_CMG_3MIN_LST (8-bit unsigned integer)'),\n",
       " ('HDF4_EOS:EOS_GRID:\"E:\\\\rahul\\\\MYD11C1\\\\MYD11C1.A2010287.061.2021180172505.hdf\":MODIS_CMG_3MIN_LST:Emis_29_night',\n",
       "  '[3600x7200] Emis_29_night MODIS_CMG_3MIN_LST (8-bit unsigned integer)'),\n",
       " ('HDF4_EOS:EOS_GRID:\"E:\\\\rahul\\\\MYD11C1\\\\MYD11C1.A2010287.061.2021180172505.hdf\":MODIS_CMG_3MIN_LST:QC_Emis',\n",
       "  '[3600x7200] QC_Emis MODIS_CMG_3MIN_LST (8-bit unsigned integer)'),\n",
       " ('HDF4_EOS:EOS_GRID:\"E:\\\\rahul\\\\MYD11C1\\\\MYD11C1.A2010287.061.2021180172505.hdf\":MODIS_CMG_3MIN_LST:QC_Emis_night',\n",
       "  '[3600x7200] QC_Emis_night MODIS_CMG_3MIN_LST (8-bit unsigned integer)'),\n",
       " ('HDF4_EOS:EOS_GRID:\"E:\\\\rahul\\\\MYD11C1\\\\MYD11C1.A2010287.061.2021180172505.hdf\":MODIS_CMG_3MIN_LST:Percent_land_in_grid',\n",
       "  '[3600x7200] Percent_land_in_grid MODIS_CMG_3MIN_LST (8-bit unsigned integer)')]"
      ]
     },
     "execution_count": 11,
     "metadata": {},
     "output_type": "execute_result"
    }
   ],
   "source": [
    "p.GetSubDatasets()"
   ]
  },
  {
   "cell_type": "code",
   "execution_count": null,
   "id": "d1309d0b",
   "metadata": {},
   "outputs": [],
   "source": []
  }
 ],
 "metadata": {
  "kernelspec": {
   "display_name": "Python 3",
   "language": "python",
   "name": "python3"
  },
  "language_info": {
   "codemirror_mode": {
    "name": "ipython",
    "version": 3
   },
   "file_extension": ".py",
   "mimetype": "text/x-python",
   "name": "python",
   "nbconvert_exporter": "python",
   "pygments_lexer": "ipython3",
   "version": "3.8.8"
  },
  "varInspector": {
   "cols": {
    "lenName": 16,
    "lenType": 16,
    "lenVar": 40
   },
   "kernels_config": {
    "python": {
     "delete_cmd_postfix": "",
     "delete_cmd_prefix": "del ",
     "library": "var_list.py",
     "varRefreshCmd": "print(var_dic_list())"
    },
    "r": {
     "delete_cmd_postfix": ") ",
     "delete_cmd_prefix": "rm(",
     "library": "var_list.r",
     "varRefreshCmd": "cat(var_dic_list()) "
    }
   },
   "types_to_exclude": [
    "module",
    "function",
    "builtin_function_or_method",
    "instance",
    "_Feature"
   ],
   "window_display": false
  }
 },
 "nbformat": 4,
 "nbformat_minor": 5
}
