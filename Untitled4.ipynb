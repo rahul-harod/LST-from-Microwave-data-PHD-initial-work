{
 "cells": [
  {
   "cell_type": "code",
   "execution_count": 1,
   "id": "bd2aa50b",
   "metadata": {
    "ExecuteTime": {
     "end_time": "2021-06-21T18:36:50.805588Z",
     "start_time": "2021-06-21T18:36:50.206213Z"
    }
   },
   "outputs": [],
   "source": [
    "import numpy as np\n",
    "import pandas as pd\n",
    "import matplotlib.pyplot as plt\n",
    "from osgeo import gdal"
   ]
  },
  {
   "cell_type": "code",
   "execution_count": 9,
   "id": "523ad375",
   "metadata": {
    "ExecuteTime": {
     "end_time": "2021-06-21T18:44:23.213658Z",
     "start_time": "2021-06-21T18:44:23.191719Z"
    }
   },
   "outputs": [],
   "source": [
    "file=gdal.Open(r'E:\\rahul\\MODIS LST\\MYD11C1.A2006101.006.2015291050641.hdf')"
   ]
  },
  {
   "cell_type": "code",
   "execution_count": 12,
   "id": "70146622",
   "metadata": {
    "ExecuteTime": {
     "end_time": "2021-06-21T19:30:08.790579Z",
     "start_time": "2021-06-21T19:30:08.778610Z"
    }
   },
   "outputs": [],
   "source": [
    "d=file.GetSubDatasets()[0]"
   ]
  },
  {
   "cell_type": "code",
   "execution_count": 13,
   "id": "c910ad27",
   "metadata": {
    "ExecuteTime": {
     "end_time": "2021-06-21T19:30:14.259283Z",
     "start_time": "2021-06-21T19:30:14.243324Z"
    }
   },
   "outputs": [
    {
     "data": {
      "text/plain": [
       "('HDF4_EOS:EOS_GRID:\"E:\\\\rahul\\\\MODIS LST\\\\MYD11C1.A2006101.006.2015291050641.hdf\":MODIS_CMG_3MIN_LST:LST_Day_CMG',\n",
       " '[3600x7200] LST_Day_CMG MODIS_CMG_3MIN_LST (16-bit unsigned integer)')"
      ]
     },
     "execution_count": 13,
     "metadata": {},
     "output_type": "execute_result"
    }
   ],
   "source": [
    "d"
   ]
  },
  {
   "cell_type": "code",
   "execution_count": null,
   "id": "b695d1c7",
   "metadata": {},
   "outputs": [],
   "source": []
  }
 ],
 "metadata": {
  "kernelspec": {
   "display_name": "Python 3",
   "language": "python",
   "name": "python3"
  },
  "language_info": {
   "codemirror_mode": {
    "name": "ipython",
    "version": 3
   },
   "file_extension": ".py",
   "mimetype": "text/x-python",
   "name": "python",
   "nbconvert_exporter": "python",
   "pygments_lexer": "ipython3",
   "version": "3.8.8"
  },
  "varInspector": {
   "cols": {
    "lenName": 16,
    "lenType": 16,
    "lenVar": 40
   },
   "kernels_config": {
    "python": {
     "delete_cmd_postfix": "",
     "delete_cmd_prefix": "del ",
     "library": "var_list.py",
     "varRefreshCmd": "print(var_dic_list())"
    },
    "r": {
     "delete_cmd_postfix": ") ",
     "delete_cmd_prefix": "rm(",
     "library": "var_list.r",
     "varRefreshCmd": "cat(var_dic_list()) "
    }
   },
   "types_to_exclude": [
    "module",
    "function",
    "builtin_function_or_method",
    "instance",
    "_Feature"
   ],
   "window_display": false
  }
 },
 "nbformat": 4,
 "nbformat_minor": 5
}
