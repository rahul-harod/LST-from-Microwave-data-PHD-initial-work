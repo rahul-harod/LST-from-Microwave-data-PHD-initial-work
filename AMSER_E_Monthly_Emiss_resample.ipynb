{
 "cells": [
  {
   "cell_type": "code",
   "execution_count": 33,
   "id": "0c4c4b9c",
   "metadata": {
    "ExecuteTime": {
     "end_time": "2021-06-30T11:24:50.571100Z",
     "start_time": "2021-06-30T11:24:50.555679Z"
    }
   },
   "outputs": [],
   "source": [
    "import os\n",
    "import glob\n",
    "import matplotlib.pyplot as plt\n",
    "from osgeo import gdal\n",
    "import numpy as np\n",
    "import pandas as pd"
   ]
  },
  {
   "cell_type": "code",
   "execution_count": 44,
   "id": "9080dba7",
   "metadata": {
    "ExecuteTime": {
     "end_time": "2021-06-30T11:26:24.884163Z",
     "start_time": "2021-06-30T11:26:24.867206Z"
    }
   },
   "outputs": [],
   "source": [
    "path=r\"E:\\rahul\\AMSER-E monthly emissivity\\Monthly_emiss_June2006/\""
   ]
  },
  {
   "cell_type": "code",
   "execution_count": 45,
   "id": "f384d99b",
   "metadata": {
    "ExecuteTime": {
     "end_time": "2021-06-30T11:26:25.587041Z",
     "start_time": "2021-06-30T11:26:25.577066Z"
    }
   },
   "outputs": [
    {
     "name": "stdout",
     "output_type": "stream",
     "text": [
      "('HDF4_SDS:UNKNOWN:\"E:\\\\rahul\\\\AMSER-E monthly emissivity\\\\CREST-AMSR-E-Emissivity-Monthly-200606-V1.hdf\":0', '[720x1440] 6.9  V (64-bit floating-point)')\n",
      "('HDF4_SDS:UNKNOWN:\"E:\\\\rahul\\\\AMSER-E monthly emissivity\\\\CREST-AMSR-E-Emissivity-Monthly-200606-V1.hdf\":1', '[720x1440] 6.9  H (64-bit floating-point)')\n",
      "('HDF4_SDS:UNKNOWN:\"E:\\\\rahul\\\\AMSER-E monthly emissivity\\\\CREST-AMSR-E-Emissivity-Monthly-200606-V1.hdf\":2', '[720x1440] 10.7 V (64-bit floating-point)')\n",
      "('HDF4_SDS:UNKNOWN:\"E:\\\\rahul\\\\AMSER-E monthly emissivity\\\\CREST-AMSR-E-Emissivity-Monthly-200606-V1.hdf\":3', '[720x1440] 10.7 H (64-bit floating-point)')\n",
      "('HDF4_SDS:UNKNOWN:\"E:\\\\rahul\\\\AMSER-E monthly emissivity\\\\CREST-AMSR-E-Emissivity-Monthly-200606-V1.hdf\":4', '[720x1440] 18.7 V (64-bit floating-point)')\n",
      "('HDF4_SDS:UNKNOWN:\"E:\\\\rahul\\\\AMSER-E monthly emissivity\\\\CREST-AMSR-E-Emissivity-Monthly-200606-V1.hdf\":5', '[720x1440] 18.7 H (64-bit floating-point)')\n",
      "('HDF4_SDS:UNKNOWN:\"E:\\\\rahul\\\\AMSER-E monthly emissivity\\\\CREST-AMSR-E-Emissivity-Monthly-200606-V1.hdf\":6', '[720x1440] 23.8 V (64-bit floating-point)')\n",
      "('HDF4_SDS:UNKNOWN:\"E:\\\\rahul\\\\AMSER-E monthly emissivity\\\\CREST-AMSR-E-Emissivity-Monthly-200606-V1.hdf\":7', '[720x1440] 23.8 H (64-bit floating-point)')\n",
      "('HDF4_SDS:UNKNOWN:\"E:\\\\rahul\\\\AMSER-E monthly emissivity\\\\CREST-AMSR-E-Emissivity-Monthly-200606-V1.hdf\":8', '[720x1440] 36.5 V (64-bit floating-point)')\n",
      "('HDF4_SDS:UNKNOWN:\"E:\\\\rahul\\\\AMSER-E monthly emissivity\\\\CREST-AMSR-E-Emissivity-Monthly-200606-V1.hdf\":9', '[720x1440] 36.5 H (64-bit floating-point)')\n",
      "('HDF4_SDS:UNKNOWN:\"E:\\\\rahul\\\\AMSER-E monthly emissivity\\\\CREST-AMSR-E-Emissivity-Monthly-200606-V1.hdf\":10', '[720x1440] 89.0 V (64-bit floating-point)')\n",
      "('HDF4_SDS:UNKNOWN:\"E:\\\\rahul\\\\AMSER-E monthly emissivity\\\\CREST-AMSR-E-Emissivity-Monthly-200606-V1.hdf\":11', '[720x1440] 89.0 H (64-bit floating-point)')\n"
     ]
    }
   ],
   "source": [
    "p=gdal.Open(r'E:\\rahul\\AMSER-E monthly emissivity\\CREST-AMSR-E-Emissivity-Monthly-200606-V1.hdf')\n",
    "subdata=p.GetSubDatasets()\n",
    "for i in range(len(subdata)):\n",
    "    print(subdata[i])"
   ]
  },
  {
   "cell_type": "code",
   "execution_count": 46,
   "id": "4c3c6320",
   "metadata": {
    "ExecuteTime": {
     "end_time": "2021-06-30T11:26:27.090989Z",
     "start_time": "2021-06-30T11:26:27.082014Z"
    }
   },
   "outputs": [
    {
     "name": "stdout",
     "output_type": "stream",
     "text": [
      "GEOGCS[\"Unknown datum based upon the Clarke 1866 ellipsoid\",DATUM[\"Not specified (based on Clarke 1866 spheroid)\",SPHEROID[\"Clarke 1866\",6378206.4,294.978698213898,AUTHORITY[\"EPSG\",\"7008\"]]],PRIMEM[\"Greenwich\",0],UNIT[\"degree\",0.0174532925199433,AUTHORITY[\"EPSG\",\"9122\"]],AXIS[\"Latitude\",NORTH],AXIS[\"Longitude\",EAST]]\n",
      "(-180.0, 0.25, 0.0, 90.0, 0.0, -0.25)\n"
     ]
    }
   ],
   "source": [
    "# p=gdal.Open('HDF4_EOS:EOS_GRID:\"E:\\\\\\\\a\\\\MYD11C1.A2006091.006.2015286220745.hdf\":MODIS_CMG_3MIN_LST:LST_Day_CMG')\n",
    "projection='GEOGCS[\"Unknown datum based upon the Clarke 1866 ellipsoid\",DATUM[\"Not specified (based on Clarke 1866 spheroid)\",SPHEROID[\"Clarke 1866\",6378206.4,294.978698213898,AUTHORITY[\"EPSG\",\"7008\"]]],PRIMEM[\"Greenwich\",0],UNIT[\"degree\",0.0174532925199433,AUTHORITY[\"EPSG\",\"9122\"]],AXIS[\"Latitude\",NORTH],AXIS[\"Longitude\",EAST]]'\n",
    "geotrans=(-180.0, 0.25, 0.0, 90.0, 0.0, -0.25)\n",
    "print((projection))\n",
    "print(geotrans)"
   ]
  },
  {
   "cell_type": "code",
   "execution_count": 47,
   "id": "ae3f7770",
   "metadata": {
    "ExecuteTime": {
     "end_time": "2021-06-30T11:26:28.432863Z",
     "start_time": "2021-06-30T11:26:28.416049Z"
    }
   },
   "outputs": [],
   "source": [
    "def WriteImage(outpath,image,proj,geo):\n",
    "    ds=None\n",
    "    driver=gdal.GetDriverByName(\"GTiff\")\n",
    "    ds=driver.Create(outpath,image.shape[1],image.shape[0], 1,gdal.GDT_Float32)\n",
    "    ds.SetProjection(proj)\n",
    "    ds.SetGeoTransform(geo)\n",
    "    ds.GetRasterBand(1).WriteArray(image)\n",
    "    return ds"
   ]
  },
  {
   "cell_type": "code",
   "execution_count": 48,
   "id": "997eb638",
   "metadata": {
    "ExecuteTime": {
     "end_time": "2021-06-30T11:26:43.758841Z",
     "start_time": "2021-06-30T11:26:43.436991Z"
    }
   },
   "outputs": [
    {
     "name": "stdout",
     "output_type": "stream",
     "text": [
      "[[-9.99000000e+02 -9.99000000e+02 -9.99000000e+02 ... -9.99000000e+02\n",
      "  -9.99000000e+02 -9.99000000e+02]\n",
      " [-9.99000000e+02 -9.99000000e+02 -9.99000000e+02 ... -9.99000000e+02\n",
      "  -9.99000000e+02 -9.99000000e+02]\n",
      " [-9.99000000e+02 -9.99000000e+02 -9.99000000e+02 ... -9.99000000e+02\n",
      "  -9.99000000e+02 -9.99000000e+02]\n",
      " ...\n",
      " [ 9.48550000e-01  9.48550000e-01  9.48550000e-01 ...  9.85428571e-01\n",
      "   9.85428571e-01  9.85428571e-01]\n",
      " [ 9.65728571e-01  9.65728571e-01  9.65728571e-01 ...  9.65728571e-01\n",
      "   9.65728571e-01  9.65728571e-01]\n",
      " [-9.99000000e+02 -9.99000000e+02 -9.99000000e+02 ... -9.99000000e+02\n",
      "  -9.99000000e+02 -9.99000000e+02]]\n",
      "E:\\rahul\\AMSER-E monthly emissivity\\Monthly_emiss_June2006/AMSER-E_monthly_emissivity_June20066.9  V.tif\n",
      "[[-9.99000000e+02 -9.99000000e+02 -9.99000000e+02 ... -9.99000000e+02\n",
      "  -9.99000000e+02 -9.99000000e+02]\n",
      " [-9.99000000e+02 -9.99000000e+02 -9.99000000e+02 ... -9.99000000e+02\n",
      "  -9.99000000e+02 -9.99000000e+02]\n",
      " [-9.99000000e+02 -9.99000000e+02 -9.99000000e+02 ... -9.99000000e+02\n",
      "  -9.99000000e+02 -9.99000000e+02]\n",
      " ...\n",
      " [ 7.73325000e-01  7.73325000e-01  7.73325000e-01 ...  8.10814286e-01\n",
      "   8.10814286e-01  8.10814286e-01]\n",
      " [ 7.87585714e-01  7.87585714e-01  7.87585714e-01 ...  7.87585714e-01\n",
      "   7.87585714e-01  7.87585714e-01]\n",
      " [-9.99000000e+02 -9.99000000e+02 -9.99000000e+02 ... -9.99000000e+02\n",
      "  -9.99000000e+02 -9.99000000e+02]]\n",
      "E:\\rahul\\AMSER-E monthly emissivity\\Monthly_emiss_June2006/AMSER-E_monthly_emissivity_June20066.9  H.tif\n",
      "[[-9.99000000e+02 -9.99000000e+02 -9.99000000e+02 ... -9.99000000e+02\n",
      "  -9.99000000e+02 -9.99000000e+02]\n",
      " [-9.99000000e+02 -9.99000000e+02 -9.99000000e+02 ... -9.99000000e+02\n",
      "  -9.99000000e+02 -9.99000000e+02]\n",
      " [-9.99000000e+02 -9.99000000e+02 -9.99000000e+02 ... -9.99000000e+02\n",
      "  -9.99000000e+02 -9.99000000e+02]\n",
      " ...\n",
      " [ 9.42775000e-01  9.42775000e-01  9.42775000e-01 ...  9.77671429e-01\n",
      "   9.77671429e-01  9.77671429e-01]\n",
      " [ 9.60200000e-01  9.60200000e-01  9.60200000e-01 ...  9.60200000e-01\n",
      "   9.60200000e-01  9.60200000e-01]\n",
      " [-9.99000000e+02 -9.99000000e+02 -9.99000000e+02 ... -9.99000000e+02\n",
      "  -9.99000000e+02 -9.99000000e+02]]\n",
      "E:\\rahul\\AMSER-E monthly emissivity\\Monthly_emiss_June2006/AMSER-E_monthly_emissivity_June200610.7 V.tif\n",
      "[[-9.99000000e+02 -9.99000000e+02 -9.99000000e+02 ... -9.99000000e+02\n",
      "  -9.99000000e+02 -9.99000000e+02]\n",
      " [-9.99000000e+02 -9.99000000e+02 -9.99000000e+02 ... -9.99000000e+02\n",
      "  -9.99000000e+02 -9.99000000e+02]\n",
      " [-9.99000000e+02 -9.99000000e+02 -9.99000000e+02 ... -9.99000000e+02\n",
      "  -9.99000000e+02 -9.99000000e+02]\n",
      " ...\n",
      " [ 7.76525000e-01  7.76525000e-01  7.76525000e-01 ...  8.14885714e-01\n",
      "   8.14885714e-01  8.14885714e-01]\n",
      " [ 7.88957143e-01  7.88957143e-01  7.88957143e-01 ...  7.88957143e-01\n",
      "   7.88957143e-01  7.88957143e-01]\n",
      " [-9.99000000e+02 -9.99000000e+02 -9.99000000e+02 ... -9.99000000e+02\n",
      "  -9.99000000e+02 -9.99000000e+02]]\n",
      "E:\\rahul\\AMSER-E monthly emissivity\\Monthly_emiss_June2006/AMSER-E_monthly_emissivity_June200610.7 H.tif\n",
      "[[-9.99000000e+02 -9.99000000e+02 -9.99000000e+02 ... -9.99000000e+02\n",
      "  -9.99000000e+02 -9.99000000e+02]\n",
      " [-9.99000000e+02 -9.99000000e+02 -9.99000000e+02 ... -9.99000000e+02\n",
      "  -9.99000000e+02 -9.99000000e+02]\n",
      " [-9.99000000e+02 -9.99000000e+02 -9.99000000e+02 ... -9.99000000e+02\n",
      "  -9.99000000e+02 -9.99000000e+02]\n",
      " ...\n",
      " [ 9.40550000e-01  9.40550000e-01  9.40550000e-01 ...  9.72300000e-01\n",
      "   9.72300000e-01  9.72300000e-01]\n",
      " [ 9.56057143e-01  9.56057143e-01  9.56057143e-01 ...  9.56057143e-01\n",
      "   9.56057143e-01  9.56057143e-01]\n",
      " [-9.99000000e+02 -9.99000000e+02 -9.99000000e+02 ... -9.99000000e+02\n",
      "  -9.99000000e+02 -9.99000000e+02]]\n",
      "E:\\rahul\\AMSER-E monthly emissivity\\Monthly_emiss_June2006/AMSER-E_monthly_emissivity_June200618.7 V.tif\n",
      "[[-9.99000000e+02 -9.99000000e+02 -9.99000000e+02 ... -9.99000000e+02\n",
      "  -9.99000000e+02 -9.99000000e+02]\n",
      " [-9.99000000e+02 -9.99000000e+02 -9.99000000e+02 ... -9.99000000e+02\n",
      "  -9.99000000e+02 -9.99000000e+02]\n",
      " [-9.99000000e+02 -9.99000000e+02 -9.99000000e+02 ... -9.99000000e+02\n",
      "  -9.99000000e+02 -9.99000000e+02]\n",
      " ...\n",
      " [ 7.97100000e-01  7.97100000e-01  7.97100000e-01 ...  8.32885714e-01\n",
      "   8.32885714e-01  8.32885714e-01]\n",
      " [ 8.06428571e-01  8.06428571e-01  8.06428571e-01 ...  8.06428571e-01\n",
      "   8.06428571e-01  8.06428571e-01]\n",
      " [-9.99000000e+02 -9.99000000e+02 -9.99000000e+02 ... -9.99000000e+02\n",
      "  -9.99000000e+02 -9.99000000e+02]]\n",
      "E:\\rahul\\AMSER-E monthly emissivity\\Monthly_emiss_June2006/AMSER-E_monthly_emissivity_June200618.7 H.tif\n",
      "[[-9.99000000e+02 -9.99000000e+02 -9.99000000e+02 ... -9.99000000e+02\n",
      "  -9.99000000e+02 -9.99000000e+02]\n",
      " [-9.99000000e+02 -9.99000000e+02 -9.99000000e+02 ... -9.99000000e+02\n",
      "  -9.99000000e+02 -9.99000000e+02]\n",
      " [-9.99000000e+02 -9.99000000e+02 -9.99000000e+02 ... -9.99000000e+02\n",
      "  -9.99000000e+02 -9.99000000e+02]\n",
      " ...\n",
      " [ 9.35950000e-01  9.35950000e-01  9.35950000e-01 ...  9.64685714e-01\n",
      "   9.64685714e-01  9.64685714e-01]\n",
      " [ 9.48971429e-01  9.48971429e-01  9.48971429e-01 ...  9.48971429e-01\n",
      "   9.48971429e-01  9.48971429e-01]\n",
      " [-9.99000000e+02 -9.99000000e+02 -9.99000000e+02 ... -9.99000000e+02\n",
      "  -9.99000000e+02 -9.99000000e+02]]\n",
      "E:\\rahul\\AMSER-E monthly emissivity\\Monthly_emiss_June2006/AMSER-E_monthly_emissivity_June200623.8 V.tif\n",
      "[[-9.99000000e+02 -9.99000000e+02 -9.99000000e+02 ... -9.99000000e+02\n",
      "  -9.99000000e+02 -9.99000000e+02]\n",
      " [-9.99000000e+02 -9.99000000e+02 -9.99000000e+02 ... -9.99000000e+02\n",
      "  -9.99000000e+02 -9.99000000e+02]\n",
      " [-9.99000000e+02 -9.99000000e+02 -9.99000000e+02 ... -9.99000000e+02\n",
      "  -9.99000000e+02 -9.99000000e+02]\n",
      " ...\n",
      " [ 7.91950000e-01  7.91950000e-01  7.91950000e-01 ...  8.24471429e-01\n",
      "   8.24471429e-01  8.24471429e-01]\n",
      " [ 7.98628571e-01  7.98628571e-01  7.98628571e-01 ...  7.98628571e-01\n",
      "   7.98628571e-01  7.98628571e-01]\n",
      " [-9.99000000e+02 -9.99000000e+02 -9.99000000e+02 ... -9.99000000e+02\n",
      "  -9.99000000e+02 -9.99000000e+02]]\n",
      "E:\\rahul\\AMSER-E monthly emissivity\\Monthly_emiss_June2006/AMSER-E_monthly_emissivity_June200623.8 H.tif\n",
      "[[-9.99000000e+02 -9.99000000e+02 -9.99000000e+02 ... -9.99000000e+02\n",
      "  -9.99000000e+02 -9.99000000e+02]\n",
      " [-9.99000000e+02 -9.99000000e+02 -9.99000000e+02 ... -9.99000000e+02\n",
      "  -9.99000000e+02 -9.99000000e+02]\n",
      " [-9.99000000e+02 -9.99000000e+02 -9.99000000e+02 ... -9.99000000e+02\n",
      "  -9.99000000e+02 -9.99000000e+02]\n",
      " ...\n",
      " [ 9.17550000e-01  9.17550000e-01  9.17550000e-01 ...  9.39542857e-01\n",
      "   9.39542857e-01  9.39542857e-01]\n",
      " [ 9.25871429e-01  9.25871429e-01  9.25871429e-01 ...  9.25871429e-01\n",
      "   9.25871429e-01  9.25871429e-01]\n",
      " [-9.99000000e+02 -9.99000000e+02 -9.99000000e+02 ... -9.99000000e+02\n",
      "  -9.99000000e+02 -9.99000000e+02]]\n",
      "E:\\rahul\\AMSER-E monthly emissivity\\Monthly_emiss_June2006/AMSER-E_monthly_emissivity_June200636.5 V.tif\n",
      "[[-9.99000000e+02 -9.99000000e+02 -9.99000000e+02 ... -9.99000000e+02\n",
      "  -9.99000000e+02 -9.99000000e+02]\n",
      " [-9.99000000e+02 -9.99000000e+02 -9.99000000e+02 ... -9.99000000e+02\n",
      "  -9.99000000e+02 -9.99000000e+02]\n",
      " [-9.99000000e+02 -9.99000000e+02 -9.99000000e+02 ... -9.99000000e+02\n",
      "  -9.99000000e+02 -9.99000000e+02]\n",
      " ...\n",
      " [ 7.86525000e-01  7.86525000e-01  7.86525000e-01 ...  8.06242857e-01\n",
      "   8.06242857e-01  8.06242857e-01]\n",
      " [ 7.93942857e-01  7.93942857e-01  7.93942857e-01 ...  7.93942857e-01\n",
      "   7.93942857e-01  7.93942857e-01]\n",
      " [-9.99000000e+02 -9.99000000e+02 -9.99000000e+02 ... -9.99000000e+02\n",
      "  -9.99000000e+02 -9.99000000e+02]]\n",
      "E:\\rahul\\AMSER-E monthly emissivity\\Monthly_emiss_June2006/AMSER-E_monthly_emissivity_June200636.5 H.tif\n",
      "[[-9.99000000e+02 -9.99000000e+02 -9.99000000e+02 ... -9.99000000e+02\n",
      "  -9.99000000e+02 -9.99000000e+02]\n",
      " [-9.99000000e+02 -9.99000000e+02 -9.99000000e+02 ... -9.99000000e+02\n",
      "  -9.99000000e+02 -9.99000000e+02]\n",
      " [-9.99000000e+02 -9.99000000e+02 -9.99000000e+02 ... -9.99000000e+02\n",
      "  -9.99000000e+02 -9.99000000e+02]\n",
      " ...\n",
      " [ 8.94500000e-01  8.94500000e-01  8.94500000e-01 ...  8.95828571e-01\n",
      "   8.95828571e-01  8.95828571e-01]\n",
      " [ 8.89100000e-01  8.89100000e-01  8.89100000e-01 ...  8.89100000e-01\n",
      "   8.89100000e-01  8.89100000e-01]\n",
      " [-9.99000000e+02 -9.99000000e+02 -9.99000000e+02 ... -9.99000000e+02\n",
      "  -9.99000000e+02 -9.99000000e+02]]\n",
      "E:\\rahul\\AMSER-E monthly emissivity\\Monthly_emiss_June2006/AMSER-E_monthly_emissivity_June200689.0 V.tif\n",
      "[[-9.99000000e+02 -9.99000000e+02 -9.99000000e+02 ... -9.99000000e+02\n",
      "  -9.99000000e+02 -9.99000000e+02]\n",
      " [-9.99000000e+02 -9.99000000e+02 -9.99000000e+02 ... -9.99000000e+02\n",
      "  -9.99000000e+02 -9.99000000e+02]\n",
      " [-9.99000000e+02 -9.99000000e+02 -9.99000000e+02 ... -9.99000000e+02\n",
      "  -9.99000000e+02 -9.99000000e+02]\n",
      " ...\n",
      " [ 8.05350000e-01  8.05350000e-01  8.05350000e-01 ...  8.09942857e-01\n",
      "   8.09942857e-01  8.09942857e-01]\n",
      " [ 8.02314286e-01  8.02314286e-01  8.02314286e-01 ...  8.02314286e-01\n",
      "   8.02314286e-01  8.02314286e-01]\n",
      " [-9.99000000e+02 -9.99000000e+02 -9.99000000e+02 ... -9.99000000e+02\n",
      "  -9.99000000e+02 -9.99000000e+02]]\n",
      "E:\\rahul\\AMSER-E monthly emissivity\\Monthly_emiss_June2006/AMSER-E_monthly_emissivity_June200689.0 H.tif\n"
     ]
    }
   ],
   "source": [
    "for i in range(len(subdata)):\n",
    "    emiss=gdal.Open(subdata[i][0])\n",
    "    emiss=emiss.ReadAsArray()\n",
    "    print(emiss)\n",
    "    output_proj=path+'AMSER-E_monthly_emissivity_June2006'+subdata[i][1][11:17] +'.tif'\n",
    "    print(output_proj)\n",
    "    VE=WriteImage(output_proj,emiss,projection,geotrans) \n",
    "    VE=None"
   ]
  },
  {
   "cell_type": "code",
   "execution_count": null,
   "id": "577a6c2c",
   "metadata": {},
   "outputs": [],
   "source": []
  },
  {
   "cell_type": "code",
   "execution_count": null,
   "id": "8e865c47",
   "metadata": {},
   "outputs": [],
   "source": []
  },
  {
   "cell_type": "code",
   "execution_count": null,
   "id": "73b37238",
   "metadata": {},
   "outputs": [],
   "source": []
  }
 ],
 "metadata": {
  "kernelspec": {
   "display_name": "Python 3",
   "language": "python",
   "name": "python3"
  },
  "language_info": {
   "codemirror_mode": {
    "name": "ipython",
    "version": 3
   },
   "file_extension": ".py",
   "mimetype": "text/x-python",
   "name": "python",
   "nbconvert_exporter": "python",
   "pygments_lexer": "ipython3",
   "version": "3.8.8"
  },
  "varInspector": {
   "cols": {
    "lenName": 16,
    "lenType": 16,
    "lenVar": 40
   },
   "kernels_config": {
    "python": {
     "delete_cmd_postfix": "",
     "delete_cmd_prefix": "del ",
     "library": "var_list.py",
     "varRefreshCmd": "print(var_dic_list())"
    },
    "r": {
     "delete_cmd_postfix": ") ",
     "delete_cmd_prefix": "rm(",
     "library": "var_list.r",
     "varRefreshCmd": "cat(var_dic_list()) "
    }
   },
   "types_to_exclude": [
    "module",
    "function",
    "builtin_function_or_method",
    "instance",
    "_Feature"
   ],
   "window_display": false
  }
 },
 "nbformat": 4,
 "nbformat_minor": 5
}
