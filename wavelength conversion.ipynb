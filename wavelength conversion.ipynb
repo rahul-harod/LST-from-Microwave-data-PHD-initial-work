{
 "cells": [
  {
   "cell_type": "code",
   "execution_count": 14,
   "id": "65e6ecea",
   "metadata": {},
   "outputs": [],
   "source": [
    "import numpy as np"
   ]
  },
  {
   "cell_type": "code",
   "execution_count": 9,
   "id": "cc8e1b9f",
   "metadata": {
    "scrolled": true
   },
   "outputs": [],
   "source": [
    "# Wavenumber cm-1\n",
    "def wavelen(n1,n2=3.0):\n",
    "    \n",
    "\n",
    "\n",
    "\n",
    "    # conversion\n",
    "    c1=1/n1\n",
    "    c2=1/n2\n",
    "    G1=30/c1\n",
    "    G2=30/c2\n",
    "\n",
    "    print(\"wavelenght: \",c1 ,\"cm    \",c1*10000, \"micrometer\",   G1, \"GHz\");\n",
    "    print(\"wavelenght: \",c2 ,\"cm    \",c2*10000, \"micrometer\",   G2, \"GHz\");\n",
    "    return G1"
   ]
  },
  {
   "cell_type": "code",
   "execution_count": 18,
   "id": "fddb8e07",
   "metadata": {},
   "outputs": [
    {
     "name": "stdout",
     "output_type": "stream",
     "text": [
      "wavelenght:  10.0 cm     100000.0 micrometer 3.0 GHz\n",
      "wavelenght:  0.3333333333333333 cm     3333.333333333333 micrometer 90.0 GHz\n",
      "3.0\n",
      "wavelenght:  6.666666666666666 cm     66666.66666666666 micrometer 4.5 GHz\n",
      "wavelenght:  0.3333333333333333 cm     3333.333333333333 micrometer 90.0 GHz\n",
      "4.5\n",
      "wavelenght:  4.999999999999999 cm     49999.99999999999 micrometer 6.000000000000001 GHz\n",
      "wavelenght:  0.3333333333333333 cm     3333.333333333333 micrometer 90.0 GHz\n",
      "6.000000000000001\n",
      "wavelenght:  3.999999999999999 cm     39999.99999999999 micrometer 7.500000000000002 GHz\n",
      "wavelenght:  0.3333333333333333 cm     3333.333333333333 micrometer 90.0 GHz\n",
      "7.500000000000002\n",
      "wavelenght:  3.333333333333333 cm     33333.33333333333 micrometer 9.0 GHz\n",
      "wavelenght:  0.3333333333333333 cm     3333.333333333333 micrometer 90.0 GHz\n",
      "9.0\n",
      "wavelenght:  2.8571428571428563 cm     28571.42857142856 micrometer 10.500000000000004 GHz\n",
      "wavelenght:  0.3333333333333333 cm     3333.333333333333 micrometer 90.0 GHz\n",
      "10.500000000000004\n",
      "wavelenght:  2.499999999999999 cm     24999.999999999993 micrometer 12.000000000000004 GHz\n",
      "wavelenght:  0.3333333333333333 cm     3333.333333333333 micrometer 90.0 GHz\n",
      "12.000000000000004\n",
      "wavelenght:  2.222222222222222 cm     22222.22222222222 micrometer 13.500000000000002 GHz\n",
      "wavelenght:  0.3333333333333333 cm     3333.333333333333 micrometer 90.0 GHz\n",
      "13.500000000000002\n",
      "wavelenght:  1.9999999999999996 cm     19999.999999999996 micrometer 15.000000000000004 GHz\n",
      "wavelenght:  0.3333333333333333 cm     3333.333333333333 micrometer 90.0 GHz\n",
      "15.000000000000004\n",
      "wavelenght:  1.8181818181818177 cm     18181.818181818177 micrometer 16.500000000000004 GHz\n",
      "wavelenght:  0.3333333333333333 cm     3333.333333333333 micrometer 90.0 GHz\n",
      "16.500000000000004\n",
      "wavelenght:  1.666666666666666 cm     16666.66666666666 micrometer 18.000000000000007 GHz\n",
      "wavelenght:  0.3333333333333333 cm     3333.333333333333 micrometer 90.0 GHz\n",
      "18.000000000000007\n",
      "wavelenght:  1.538461538461538 cm     15384.615384615381 micrometer 19.500000000000004 GHz\n",
      "wavelenght:  0.3333333333333333 cm     3333.333333333333 micrometer 90.0 GHz\n",
      "19.500000000000004\n",
      "wavelenght:  1.4285714285714282 cm     14285.71428571428 micrometer 21.000000000000007 GHz\n",
      "wavelenght:  0.3333333333333333 cm     3333.333333333333 micrometer 90.0 GHz\n",
      "21.000000000000007\n",
      "wavelenght:  1.333333333333333 cm     13333.33333333333 micrometer 22.500000000000004 GHz\n",
      "wavelenght:  0.3333333333333333 cm     3333.333333333333 micrometer 90.0 GHz\n",
      "22.500000000000004\n",
      "wavelenght:  1.2499999999999998 cm     12499.999999999998 micrometer 24.000000000000004 GHz\n",
      "wavelenght:  0.3333333333333333 cm     3333.333333333333 micrometer 90.0 GHz\n",
      "24.000000000000004\n",
      "wavelenght:  1.176470588235294 cm     11764.705882352939 micrometer 25.500000000000004 GHz\n",
      "wavelenght:  0.3333333333333333 cm     3333.333333333333 micrometer 90.0 GHz\n",
      "25.500000000000004\n",
      "wavelenght:  1.1111111111111107 cm     11111.111111111108 micrometer 27.00000000000001 GHz\n",
      "wavelenght:  0.3333333333333333 cm     3333.333333333333 micrometer 90.0 GHz\n",
      "27.00000000000001\n",
      "wavelenght:  1.0526315789473681 cm     10526.315789473681 micrometer 28.500000000000007 GHz\n",
      "wavelenght:  0.3333333333333333 cm     3333.333333333333 micrometer 90.0 GHz\n",
      "28.500000000000007\n",
      "wavelenght:  0.9999999999999996 cm     9999.999999999996 micrometer 30.000000000000014 GHz\n",
      "wavelenght:  0.3333333333333333 cm     3333.333333333333 micrometer 90.0 GHz\n",
      "30.000000000000014\n",
      "wavelenght:  0.9523809523809521 cm     9523.809523809521 micrometer 31.50000000000001 GHz\n",
      "wavelenght:  0.3333333333333333 cm     3333.333333333333 micrometer 90.0 GHz\n",
      "31.50000000000001\n",
      "wavelenght:  0.9090909090909086 cm     9090.909090909086 micrometer 33.000000000000014 GHz\n",
      "wavelenght:  0.3333333333333333 cm     3333.333333333333 micrometer 90.0 GHz\n",
      "33.000000000000014\n",
      "wavelenght:  0.8695652173913041 cm     8695.65217391304 micrometer 34.50000000000001 GHz\n",
      "wavelenght:  0.3333333333333333 cm     3333.333333333333 micrometer 90.0 GHz\n",
      "34.50000000000001\n",
      "wavelenght:  0.833333333333333 cm     8333.33333333333 micrometer 36.000000000000014 GHz\n",
      "wavelenght:  0.3333333333333333 cm     3333.333333333333 micrometer 90.0 GHz\n",
      "36.000000000000014\n",
      "wavelenght:  0.7999999999999997 cm     7999.999999999997 micrometer 37.500000000000014 GHz\n",
      "wavelenght:  0.3333333333333333 cm     3333.333333333333 micrometer 90.0 GHz\n",
      "37.500000000000014\n",
      "wavelenght:  0.7692307692307689 cm     7692.30769230769 micrometer 39.000000000000014 GHz\n",
      "wavelenght:  0.3333333333333333 cm     3333.333333333333 micrometer 90.0 GHz\n",
      "39.000000000000014\n",
      "wavelenght:  0.7407407407407405 cm     7407.407407407405 micrometer 40.500000000000014 GHz\n",
      "wavelenght:  0.3333333333333333 cm     3333.333333333333 micrometer 90.0 GHz\n",
      "40.500000000000014\n",
      "wavelenght:  0.714285714285714 cm     7142.8571428571395 micrometer 42.00000000000002 GHz\n",
      "wavelenght:  0.3333333333333333 cm     3333.333333333333 micrometer 90.0 GHz\n",
      "42.00000000000002\n",
      "wavelenght:  0.6896551724137928 cm     6896.551724137928 micrometer 43.50000000000002 GHz\n",
      "wavelenght:  0.3333333333333333 cm     3333.333333333333 micrometer 90.0 GHz\n",
      "43.50000000000002\n",
      "wavelenght:  0.6666666666666665 cm     6666.666666666665 micrometer 45.00000000000001 GHz\n",
      "wavelenght:  0.3333333333333333 cm     3333.333333333333 micrometer 90.0 GHz\n",
      "45.00000000000001\n",
      "wavelenght:  0.6451612903225804 cm     6451.612903225804 micrometer 46.500000000000014 GHz\n",
      "wavelenght:  0.3333333333333333 cm     3333.333333333333 micrometer 90.0 GHz\n",
      "46.500000000000014\n",
      "wavelenght:  0.6249999999999998 cm     6249.999999999998 micrometer 48.000000000000014 GHz\n",
      "wavelenght:  0.3333333333333333 cm     3333.333333333333 micrometer 90.0 GHz\n",
      "48.000000000000014\n",
      "wavelenght:  0.6060606060606059 cm     6060.606060606058 micrometer 49.500000000000014 GHz\n",
      "wavelenght:  0.3333333333333333 cm     3333.333333333333 micrometer 90.0 GHz\n",
      "49.500000000000014\n",
      "wavelenght:  0.5882352941176469 cm     5882.352941176468 micrometer 51.000000000000014 GHz\n",
      "wavelenght:  0.3333333333333333 cm     3333.333333333333 micrometer 90.0 GHz\n",
      "51.000000000000014\n",
      "wavelenght:  0.5714285714285712 cm     5714.285714285712 micrometer 52.50000000000002 GHz\n",
      "wavelenght:  0.3333333333333333 cm     3333.333333333333 micrometer 90.0 GHz\n",
      "52.50000000000002\n",
      "wavelenght:  0.5555555555555554 cm     5555.555555555554 micrometer 54.00000000000002 GHz\n",
      "wavelenght:  0.3333333333333333 cm     3333.333333333333 micrometer 90.0 GHz\n",
      "54.00000000000002\n",
      "wavelenght:  0.5405405405405403 cm     5405.405405405403 micrometer 55.50000000000002 GHz\n",
      "wavelenght:  0.3333333333333333 cm     3333.333333333333 micrometer 90.0 GHz\n",
      "55.50000000000002\n",
      "wavelenght:  0.526315789473684 cm     5263.15789473684 micrometer 57.00000000000003 GHz\n",
      "wavelenght:  0.3333333333333333 cm     3333.333333333333 micrometer 90.0 GHz\n",
      "57.00000000000003\n",
      "wavelenght:  0.5128205128205127 cm     5128.205128205127 micrometer 58.50000000000002 GHz\n",
      "wavelenght:  0.3333333333333333 cm     3333.333333333333 micrometer 90.0 GHz\n",
      "58.50000000000002\n",
      "wavelenght:  0.4999999999999999 cm     4999.999999999999 micrometer 60.000000000000014 GHz\n",
      "wavelenght:  0.3333333333333333 cm     3333.333333333333 micrometer 90.0 GHz\n",
      "60.000000000000014\n",
      "wavelenght:  0.4878048780487803 cm     4878.048780487803 micrometer 61.50000000000002 GHz\n",
      "wavelenght:  0.3333333333333333 cm     3333.333333333333 micrometer 90.0 GHz\n",
      "61.50000000000002\n",
      "wavelenght:  0.47619047619047594 cm     4761.90476190476 micrometer 63.000000000000036 GHz\n",
      "wavelenght:  0.3333333333333333 cm     3333.333333333333 micrometer 90.0 GHz\n",
      "63.000000000000036\n",
      "wavelenght:  0.46511627906976727 cm     4651.162790697673 micrometer 64.50000000000003 GHz\n",
      "wavelenght:  0.3333333333333333 cm     3333.333333333333 micrometer 90.0 GHz\n",
      "64.50000000000003\n",
      "wavelenght:  0.4545454545454544 cm     4545.454545454544 micrometer 66.00000000000001 GHz\n",
      "wavelenght:  0.3333333333333333 cm     3333.333333333333 micrometer 90.0 GHz\n",
      "66.00000000000001\n",
      "wavelenght:  0.44444444444444425 cm     4444.4444444444425 micrometer 67.50000000000003 GHz\n",
      "wavelenght:  0.3333333333333333 cm     3333.333333333333 micrometer 90.0 GHz\n",
      "67.50000000000003\n",
      "wavelenght:  0.43478260869565205 cm     4347.82608695652 micrometer 69.00000000000001 GHz\n",
      "wavelenght:  0.3333333333333333 cm     3333.333333333333 micrometer 90.0 GHz\n",
      "69.00000000000001\n",
      "wavelenght:  0.42553191489361686 cm     4255.319148936169 micrometer 70.50000000000003 GHz\n",
      "wavelenght:  0.3333333333333333 cm     3333.333333333333 micrometer 90.0 GHz\n",
      "70.50000000000003\n",
      "wavelenght:  0.4166666666666665 cm     4166.666666666665 micrometer 72.00000000000003 GHz\n",
      "wavelenght:  0.3333333333333333 cm     3333.333333333333 micrometer 90.0 GHz\n",
      "72.00000000000003\n",
      "wavelenght:  0.4081632653061223 cm     4081.6326530612228 micrometer 73.50000000000003 GHz\n",
      "wavelenght:  0.3333333333333333 cm     3333.333333333333 micrometer 90.0 GHz\n",
      "73.50000000000003\n",
      "wavelenght:  0.39999999999999986 cm     3999.9999999999986 micrometer 75.00000000000003 GHz\n",
      "wavelenght:  0.3333333333333333 cm     3333.333333333333 micrometer 90.0 GHz\n",
      "75.00000000000003\n",
      "wavelenght:  0.3921568627450979 cm     3921.5686274509794 micrometer 76.50000000000003 GHz\n",
      "wavelenght:  0.3333333333333333 cm     3333.333333333333 micrometer 90.0 GHz\n",
      "76.50000000000003\n",
      "wavelenght:  0.38461538461538447 cm     3846.153846153845 micrometer 78.00000000000003 GHz\n",
      "wavelenght:  0.3333333333333333 cm     3333.333333333333 micrometer 90.0 GHz\n",
      "78.00000000000003\n",
      "wavelenght:  0.3773584905660376 cm     3773.584905660376 micrometer 79.50000000000003 GHz\n",
      "wavelenght:  0.3333333333333333 cm     3333.333333333333 micrometer 90.0 GHz\n",
      "79.50000000000003\n",
      "wavelenght:  0.37037037037037024 cm     3703.7037037037026 micrometer 81.00000000000003 GHz\n",
      "wavelenght:  0.3333333333333333 cm     3333.333333333333 micrometer 90.0 GHz\n",
      "81.00000000000003\n",
      "wavelenght:  0.36363636363636354 cm     3636.3636363636356 micrometer 82.50000000000003 GHz\n",
      "wavelenght:  0.3333333333333333 cm     3333.333333333333 micrometer 90.0 GHz\n",
      "82.50000000000003\n",
      "wavelenght:  0.357142857142857 cm     3571.4285714285697 micrometer 84.00000000000004 GHz\n",
      "wavelenght:  0.3333333333333333 cm     3333.333333333333 micrometer 90.0 GHz\n",
      "84.00000000000004\n",
      "wavelenght:  0.350877192982456 cm     3508.77192982456 micrometer 85.50000000000003 GHz\n",
      "wavelenght:  0.3333333333333333 cm     3333.333333333333 micrometer 90.0 GHz\n",
      "85.50000000000003\n",
      "wavelenght:  0.34482758620689646 cm     3448.2758620689647 micrometer 87.00000000000003 GHz\n",
      "wavelenght:  0.3333333333333333 cm     3333.333333333333 micrometer 90.0 GHz\n",
      "87.00000000000003\n",
      "wavelenght:  0.3389830508474575 cm     3389.830508474575 micrometer 88.50000000000003 GHz\n",
      "wavelenght:  0.3333333333333333 cm     3333.333333333333 micrometer 90.0 GHz\n",
      "88.50000000000003\n"
     ]
    }
   ],
   "source": [
    "for n in np.arange(0.1,3.0,0.05):\n",
    "    print(wavelen(n))"
   ]
  },
  {
   "cell_type": "code",
   "execution_count": 24,
   "id": "5a70899f",
   "metadata": {},
   "outputs": [
    {
     "name": "stdout",
     "output_type": "stream",
     "text": [
      "89 GHz 0.33707865168539325 cm 3370.7865168539324 um 2.966666666666667 wavenumber(cm-1)\n"
     ]
    }
   ],
   "source": [
    "G=89\n",
    "c=30/G\n",
    "um=c*10000\n",
    "n=1/c\n",
    "\n",
    "print(G, \"GHz\",  c, \"cm\" , um, \"um\" , n, \"wavenumber(cm-1)\")"
   ]
  },
  {
   "cell_type": "markdown",
   "id": "836438ed",
   "metadata": {},
   "source": [
    "# Plancks law for MW"
   ]
  },
  {
   "cell_type": "code",
   "execution_count": 26,
   "id": "50114e22",
   "metadata": {},
   "outputs": [
    {
     "name": "stdout",
     "output_type": "stream",
     "text": [
      "radiance observed 3.70944e-11 W/cm^2/um\n"
     ]
    }
   ],
   "source": [
    "# T (kelvin) and Wavelenght(micron)\n",
    "T=280.0\n",
    "wavelength=5000.0\n",
    "# radiance W/cm2/um\n",
    "\n",
    "L=(82.8*T)/(wavelength**4)\n",
    "\n",
    "print(\"radiance observed\", L, \"W/cm^2/um\")"
   ]
  },
  {
   "cell_type": "code",
   "execution_count": 8,
   "id": "bf99a695",
   "metadata": {},
   "outputs": [
    {
     "name": "stdout",
     "output_type": "stream",
     "text": [
      "90.00000000000001  GHz\n"
     ]
    }
   ],
   "source": [
    "lamb=3333.333333333333;\n",
    "freq=3*10**5/lamb\n",
    "print(freq,\" GHz\")"
   ]
  },
  {
   "cell_type": "code",
   "execution_count": null,
   "id": "885c2873",
   "metadata": {},
   "outputs": [],
   "source": []
  }
 ],
 "metadata": {
  "kernelspec": {
   "display_name": "Python 3",
   "language": "python",
   "name": "python3"
  },
  "language_info": {
   "codemirror_mode": {
    "name": "ipython",
    "version": 3
   },
   "file_extension": ".py",
   "mimetype": "text/x-python",
   "name": "python",
   "nbconvert_exporter": "python",
   "pygments_lexer": "ipython3",
   "version": "3.8.8"
  }
 },
 "nbformat": 4,
 "nbformat_minor": 5
}
