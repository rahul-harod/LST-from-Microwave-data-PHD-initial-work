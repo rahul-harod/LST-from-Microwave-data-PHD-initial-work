{
 "cells": [
  {
   "cell_type": "code",
   "execution_count": 1,
   "id": "3ca709e1",
   "metadata": {},
   "outputs": [],
   "source": [
    "import json\n",
    "import numpy as np\n",
    "import os\n",
    "from copy import deepcopy\n"
   ]
  },
  {
   "cell_type": "code",
   "execution_count": 2,
   "id": "995d88e5",
   "metadata": {},
   "outputs": [],
   "source": [
    "f=open(r'E:\\reference_file\\UP_WELLING_INDORE.json')"
   ]
  },
  {
   "cell_type": "code",
   "execution_count": 3,
   "id": "d61255ee",
   "metadata": {},
   "outputs": [],
   "source": [
    "jsondata=f.read()\n",
    "obj=json.loads(jsondata)"
   ]
  },
  {
   "cell_type": "code",
   "execution_count": 4,
   "id": "19aa17d6",
   "metadata": {},
   "outputs": [
    {
     "data": {
      "text/plain": [
       "dict_keys(['NAME', 'DESCRIPTION', 'CASE', 'RTOPTIONS', 'ATMOSPHERE', 'AEROSOLS', 'GEOMETRY', 'SURFACE', 'SPECTRAL', 'FILEOPTIONS'])"
      ]
     },
     "execution_count": 4,
     "metadata": {},
     "output_type": "execute_result"
    }
   ],
   "source": [
    "obj['MODTRAN'][0]['MODTRANINPUT'].keys()"
   ]
  },
  {
   "cell_type": "code",
   "execution_count": 5,
   "id": "7f8358f5",
   "metadata": {},
   "outputs": [
    {
     "data": {
      "text/plain": [
       "'INDORE_UP_91'"
      ]
     },
     "execution_count": 5,
     "metadata": {},
     "output_type": "execute_result"
    }
   ],
   "source": [
    "# filename=\"Indore_\"+str(d)\n",
    "obj['MODTRAN'][0]['MODTRANINPUT']['NAME']"
   ]
  },
  {
   "cell_type": "code",
   "execution_count": 6,
   "id": "07c55d78",
   "metadata": {},
   "outputs": [
    {
     "data": {
      "text/plain": [
       "{'H1ALT': 100.0,\n",
       " 'H2ALT': 0.0001,\n",
       " 'OBSZEN': 127.0,\n",
       " 'IDAY': 91,\n",
       " 'IPARM': 1,\n",
       " 'PARM1': 24.059999465942383,\n",
       " 'PARM2': 277.42999267578125,\n",
       " 'GMTIME': 8.0}"
      ]
     },
     "execution_count": 6,
     "metadata": {},
     "output_type": "execute_result"
    }
   ],
   "source": [
    "obj['MODTRAN'][0]['MODTRANINPUT']['GEOMETRY']"
   ]
  },
  {
   "cell_type": "code",
   "execution_count": null,
   "id": "56bc5163",
   "metadata": {},
   "outputs": [],
   "source": []
  },
  {
   "cell_type": "code",
   "execution_count": 7,
   "id": "740f36fe",
   "metadata": {},
   "outputs": [
    {
     "data": {
      "text/plain": [
       "{'SURFTYPE': 'REFL_CONSTANT',\n",
       " 'NSURF': 1,\n",
       " 'SURREF': 0.0,\n",
       " 'TPTEMP': 0.0,\n",
       " 'AATEMP': 0.0,\n",
       " 'GNDALT': 0.0,\n",
       " 'SALBFL': ''}"
      ]
     },
     "execution_count": 7,
     "metadata": {},
     "output_type": "execute_result"
    }
   ],
   "source": [
    "obj['MODTRAN'][0]['MODTRANINPUT']['SURFACE']"
   ]
  },
  {
   "cell_type": "code",
   "execution_count": 8,
   "id": "eddc8ddb",
   "metadata": {},
   "outputs": [
    {
     "data": {
      "text/plain": [
       "{'V1': 3000.0,\n",
       " 'V2': 50000.0,\n",
       " 'DV': 100.0,\n",
       " 'FWHM': 50.001,\n",
       " 'YFLAG': 'R',\n",
       " 'XFLAG': 'M',\n",
       " 'FLAGS': 'MTRA  T',\n",
       " 'MLFLX': 21,\n",
       " 'BMNAME': 'LBL2013'}"
      ]
     },
     "execution_count": 8,
     "metadata": {},
     "output_type": "execute_result"
    }
   ],
   "source": [
    "obj['MODTRAN'][0]['MODTRANINPUT']['SPECTRAL']"
   ]
  },
  {
   "cell_type": "code",
   "execution_count": 9,
   "id": "ae6dbb87",
   "metadata": {},
   "outputs": [
    {
     "data": {
      "text/plain": [
       "{'NOFILE': 'FC_TAPE6ONLY', 'NOPRNT': 1, 'CSVPRNT': 'INDORE_UP_91.csv'}"
      ]
     },
     "execution_count": 9,
     "metadata": {},
     "output_type": "execute_result"
    }
   ],
   "source": [
    "obj['MODTRAN'][0]['MODTRANINPUT']['FILEOPTIONS']"
   ]
  },
  {
   "cell_type": "markdown",
   "id": "786accf6",
   "metadata": {},
   "source": [
    "# INPUT MODIFICATIONS"
   ]
  },
  {
   "cell_type": "code",
   "execution_count": 12,
   "id": "23ea9e1b",
   "metadata": {},
   "outputs": [],
   "source": [
    "# Geometry\n",
    "obj['MODTRAN'][0]['MODTRANINPUT']['GEOMETRY']['H1ALT']=100\n",
    "obj['MODTRAN'][0]['MODTRANINPUT']['GEOMETRY']['H2ALT']=0.0001\n",
    "obj['MODTRAN'][0]['MODTRANINPUT']['GEOMETRY']['OBSZEN']=125\n",
    "obj['MODTRAN'][0]['MODTRANINPUT']['GEOMETRY']['PARM1']=24.71\n",
    "obj['MODTRAN'][0]['MODTRANINPUT']['GEOMETRY']['PARM2']=275.76\n",
    "obj['MODTRAN'][0]['MODTRANINPUT']['GEOMETRY']['GMTIME']=8.0\n",
    "\n",
    "# Surface\n",
    "obj['MODTRAN'][0]['MODTRANINPUT']['SURFACE']['SURREF']=0.00\n"
   ]
  },
  {
   "cell_type": "code",
   "execution_count": 33,
   "id": "e4daf83b",
   "metadata": {},
   "outputs": [],
   "source": [
    "locationName='North_east_JUNE_1_10'"
   ]
  },
  {
   "cell_type": "code",
   "execution_count": 34,
   "id": "69d68259",
   "metadata": {
    "scrolled": true
   },
   "outputs": [
    {
     "name": "stdout",
     "output_type": "stream",
     "text": [
      "E:\\MODTRAN\\ATM_files\\North_east_JUNE_1_10\\_25.0__82.5__606_4Xd_.json\n",
      "E:\\MODTRAN\\ATM_files\\North_east_JUNE_1_10\\_25.0__82.5__610_4Xd_.json\n",
      "E:\\MODTRAN\\ATM_files\\North_east_JUNE_1_10\\_25.0__82.5__614_4Xd_.json\n",
      "E:\\MODTRAN\\ATM_files\\North_east_JUNE_1_10\\_25.0__82.5__618_4Xd_.json\n",
      "E:\\MODTRAN\\ATM_files\\North_east_JUNE_1_10\\_25.0__82.5__622_4Xd_.json\n",
      "E:\\MODTRAN\\ATM_files\\North_east_JUNE_1_10\\_25.0__82.5__626_4Xd_.json\n",
      "E:\\MODTRAN\\ATM_files\\North_east_JUNE_1_10\\_25.0__82.5__630_4Xd_.json\n",
      "E:\\MODTRAN\\ATM_files\\North_east_JUNE_1_10\\_25.0__82.5__634_4Xd_.json\n",
      "E:\\MODTRAN\\ATM_files\\North_east_JUNE_1_10\\_25.0__82.5__638_4Xd_.json\n",
      "E:\\MODTRAN\\ATM_files\\North_east_JUNE_1_10\\_25.0__82.5__642_4Xd_.json\n"
     ]
    }
   ],
   "source": [
    "# Atmospheric files\n",
    "atmpath=\"E:\\MODTRAN\\ATM_files\\\\\" +locationName+'\\\\'\n",
    "atm=[]\n",
    "for root, dirs, files in os.walk(atmpath):\n",
    "    for name in files:\n",
    "        filepath=atmpath+name\n",
    "        print(filepath)\n",
    "        atm.append(filepath)"
   ]
  },
  {
   "cell_type": "code",
   "execution_count": 35,
   "id": "883b09be",
   "metadata": {},
   "outputs": [],
   "source": [
    "#  Save json file\n",
    "outputfile='E:\\MODINPUT\\\\'+locationName+'_upwell.json'\n",
    "def write_json(data,filename=outputfile):\n",
    "    with open(filename,'w') as f:\n",
    "        json.dump(data,f,indent=1)"
   ]
  },
  {
   "cell_type": "code",
   "execution_count": 36,
   "id": "72883fdc",
   "metadata": {},
   "outputs": [],
   "source": [
    "empty=open('E:/reference_file/EMPTY_file.json','r')\n",
    "empty=empty.read()\n",
    "MODFILE=json.loads(empty)\n",
    "MODFILE['MODTRAN']=[]\n",
    "\n",
    "for i in range(10):\n",
    "    \n",
    "#   atmospheric_profile generation\n",
    "    atmfile=open(str(atm[i]),'r')\n",
    "    atmdata=atmfile.read()\n",
    "    atmdata=json.loads(atmdata)\n",
    "    atmospheric_profile=atmdata['MODTRAN'][0]['MODTRANINPUT']['ATMOSPHERE']\n",
    "\n",
    "# MOD INPUT\n",
    "#     MODFILE['MODTRAN'][i]['MODTRANINPUT']=(obj['MODTRAN'][0]['MODTRANINPUT'])\n",
    "    doy=1+i\n",
    "    filename=locationName+\"_up_\"+str(doy)\n",
    "    obj['MODTRAN'][0]['MODTRANINPUT']['NAME']=filename\n",
    "    obj['MODTRAN'][0]['MODTRANINPUT']['GEOMETRY']['IDAY']=doy\n",
    "    obj['MODTRAN'][0]['MODTRANINPUT']['ATMOSPHERE']=atmospheric_profile\n",
    "        # Atmospheric unit\n",
    "    obj['MODTRAN'][0]['MODTRANINPUT']['ATMOSPHERE'][\"H2OUNIT\"]='g'\n",
    "    obj['MODTRAN'][0]['MODTRANINPUT']['ATMOSPHERE'][\"O3UNIT\"]='g'\n",
    "    obj['MODTRAN'][0]['MODTRANINPUT']['FILEOPTIONS']['CSVPRNT']=filename+'.csv'\n",
    "    a=obj['MODTRAN'][0]\n",
    "    MODFILE['MODTRAN'].append(deepcopy(a));\n",
    "    a=None\n",
    "\n",
    "# save\n",
    "write_json(MODFILE)"
   ]
  },
  {
   "cell_type": "code",
   "execution_count": 37,
   "id": "e47ce62f",
   "metadata": {},
   "outputs": [
    {
     "data": {
      "text/plain": [
       "['E:\\\\MODTRAN\\\\ATM_files\\\\North_east_JUNE_1_10\\\\_25.0__82.5__606_4Xd_.json',\n",
       " 'E:\\\\MODTRAN\\\\ATM_files\\\\North_east_JUNE_1_10\\\\_25.0__82.5__610_4Xd_.json',\n",
       " 'E:\\\\MODTRAN\\\\ATM_files\\\\North_east_JUNE_1_10\\\\_25.0__82.5__614_4Xd_.json',\n",
       " 'E:\\\\MODTRAN\\\\ATM_files\\\\North_east_JUNE_1_10\\\\_25.0__82.5__618_4Xd_.json',\n",
       " 'E:\\\\MODTRAN\\\\ATM_files\\\\North_east_JUNE_1_10\\\\_25.0__82.5__622_4Xd_.json',\n",
       " 'E:\\\\MODTRAN\\\\ATM_files\\\\North_east_JUNE_1_10\\\\_25.0__82.5__626_4Xd_.json',\n",
       " 'E:\\\\MODTRAN\\\\ATM_files\\\\North_east_JUNE_1_10\\\\_25.0__82.5__630_4Xd_.json',\n",
       " 'E:\\\\MODTRAN\\\\ATM_files\\\\North_east_JUNE_1_10\\\\_25.0__82.5__634_4Xd_.json',\n",
       " 'E:\\\\MODTRAN\\\\ATM_files\\\\North_east_JUNE_1_10\\\\_25.0__82.5__638_4Xd_.json',\n",
       " 'E:\\\\MODTRAN\\\\ATM_files\\\\North_east_JUNE_1_10\\\\_25.0__82.5__642_4Xd_.json']"
      ]
     },
     "execution_count": 37,
     "metadata": {},
     "output_type": "execute_result"
    }
   ],
   "source": [
    "atm"
   ]
  },
  {
   "cell_type": "code",
   "execution_count": null,
   "id": "6671a700",
   "metadata": {},
   "outputs": [],
   "source": []
  },
  {
   "cell_type": "code",
   "execution_count": null,
   "id": "98194358",
   "metadata": {},
   "outputs": [],
   "source": []
  }
 ],
 "metadata": {
  "kernelspec": {
   "display_name": "Python 3",
   "language": "python",
   "name": "python3"
  },
  "language_info": {
   "codemirror_mode": {
    "name": "ipython",
    "version": 3
   },
   "file_extension": ".py",
   "mimetype": "text/x-python",
   "name": "python",
   "nbconvert_exporter": "python",
   "pygments_lexer": "ipython3",
   "version": "3.8.12"
  }
 },
 "nbformat": 4,
 "nbformat_minor": 5
}
