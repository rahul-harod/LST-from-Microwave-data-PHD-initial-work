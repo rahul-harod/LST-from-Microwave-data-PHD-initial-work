{
 "cells": [
  {
   "cell_type": "code",
   "execution_count": 1,
   "id": "6b162441",
   "metadata": {
    "ExecuteTime": {
     "end_time": "2021-07-15T13:10:54.972509Z",
     "start_time": "2021-07-15T13:10:54.435704Z"
    }
   },
   "outputs": [],
   "source": [
    "import pandas as pd\n"
   ]
  },
  {
   "cell_type": "code",
   "execution_count": 29,
   "id": "4cdea40f",
   "metadata": {
    "ExecuteTime": {
     "end_time": "2021-07-15T17:59:19.831575Z",
     "start_time": "2021-07-15T17:59:19.212779Z"
    }
   },
   "outputs": [
    {
     "data": {
      "text/plain": [
       "['Chakdaha_WB',\n",
       " 'Chilika_odisha',\n",
       " 'dehradun',\n",
       " 'Hoshangabad',\n",
       " 'Kutch',\n",
       " 'Narayangarh',\n",
       " 'Jaisalmer']"
      ]
     },
     "execution_count": 29,
     "metadata": {},
     "output_type": "execute_result"
    }
   ],
   "source": [
    "\n",
    "data=pd.ExcelFile('E:/Selection_data/Ground LST.xlsx')\n",
    "names=data.sheet_names\n",
    "names"
   ]
  },
  {
   "cell_type": "code",
   "execution_count": 34,
   "id": "a1cb776d",
   "metadata": {
    "ExecuteTime": {
     "end_time": "2021-07-15T18:20:59.268884Z",
     "start_time": "2021-07-15T18:20:55.689333Z"
    }
   },
   "outputs": [
    {
     "name": "stderr",
     "output_type": "stream",
     "text": [
      "C:\\ProgramData\\Anaconda3\\lib\\site-packages\\xlsxwriter\\workbook.py:338: UserWarning: Calling close() on already closed file.\n",
      "  warn(\"Calling close() on already closed file.\")\n"
     ]
    }
   ],
   "source": [
    "path=r'E:/Selection_data/Merged_LST.xlsx'\n",
    "writer = pd.ExcelWriter(path, engine = 'xlsxwriter')\n",
    "\n",
    "for i in range(len(names)):\n",
    "    d1=pd.read_excel('E:/Selection_data/Ground LST.xlsx',i)\n",
    "    d2=pd.read_excel('E:/Selection_data/MYD11C1_actual.xlsx',i)\n",
    "    d1['Date']=pd.to_datetime(d1['Date'])\n",
    "    d1['Time'] = pd.to_datetime(d1['Time'],format= '%H:%M:%S' ).dt.time\n",
    "    d2['Date']=pd.to_datetime(d2['Date'])\n",
    "    d2['Time'] = pd.to_datetime(d2['Time'],format= '%H:%M:%S' ).dt.time\n",
    "    result = pd.merge(d1, d2, on=[\"Date\", \"Time\"])\n",
    "    result.to_excel(writer, sheet_name = names[i])\n",
    "writer.save()\n",
    "writer.close()"
   ]
  }
 ],
 "metadata": {
  "kernelspec": {
   "display_name": "Python 3",
   "language": "python",
   "name": "python3"
  },
  "language_info": {
   "codemirror_mode": {
    "name": "ipython",
    "version": 3
   },
   "file_extension": ".py",
   "mimetype": "text/x-python",
   "name": "python",
   "nbconvert_exporter": "python",
   "pygments_lexer": "ipython3",
   "version": "3.8.8"
  },
  "varInspector": {
   "cols": {
    "lenName": 16,
    "lenType": 16,
    "lenVar": 40
   },
   "kernels_config": {
    "python": {
     "delete_cmd_postfix": "",
     "delete_cmd_prefix": "del ",
     "library": "var_list.py",
     "varRefreshCmd": "print(var_dic_list())"
    },
    "r": {
     "delete_cmd_postfix": ") ",
     "delete_cmd_prefix": "rm(",
     "library": "var_list.r",
     "varRefreshCmd": "cat(var_dic_list()) "
    }
   },
   "types_to_exclude": [
    "module",
    "function",
    "builtin_function_or_method",
    "instance",
    "_Feature"
   ],
   "window_display": false
  }
 },
 "nbformat": 4,
 "nbformat_minor": 5
}
