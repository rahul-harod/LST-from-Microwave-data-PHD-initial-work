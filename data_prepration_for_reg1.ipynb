{
 "cells": [
  {
   "cell_type": "code",
   "execution_count": 1,
   "id": "151384f0",
   "metadata": {
    "ExecuteTime": {
     "end_time": "2021-06-29T18:57:15.242995Z",
     "start_time": "2021-06-29T18:57:14.631630Z"
    }
   },
   "outputs": [],
   "source": [
    "import os\n",
    "import numpy as np\n",
    "import pandas as pd\n",
    "import matplotlib.pyplot as plt\n",
    "from osgeo import gdal"
   ]
  },
  {
   "cell_type": "code",
   "execution_count": 42,
   "id": "8ef0a5ac",
   "metadata": {
    "ExecuteTime": {
     "end_time": "2021-06-29T20:00:11.446316Z",
     "start_time": "2021-06-29T20:00:11.431939Z"
    }
   },
   "outputs": [],
   "source": [
    "\n",
    "folder=r'E:\\rahul\\processed_data\\BT_10V'\n",
    "BT_PATH=[]\n",
    "for root, dirs, files in os.walk(folder):\n",
    "    for names in files:\n",
    "        full_path=os.path.join(root,names)\n",
    "        BT_PATH.append(full_path)\n",
    "        \n",
    "Emiss_PATH=[]\n",
    "folder=r'E:/rahul/processed_data/Derived_emissivity_10GHzV'\n",
    "for root, dirs, files in os.walk(folder):\n",
    "    for names in files:\n",
    "        full_path=os.path.join(root,names)\n",
    "        Emiss_PATH.append(full_path)"
   ]
  },
  {
   "cell_type": "code",
   "execution_count": 43,
   "id": "577b98b4",
   "metadata": {
    "ExecuteTime": {
     "end_time": "2021-06-29T20:01:59.774837Z",
     "start_time": "2021-06-29T20:01:59.743060Z"
    }
   },
   "outputs": [],
   "source": [
    "BT=[]\n",
    "EMISS=[]\n",
    "for i in range(30):\n",
    "    BT_10V=gdal.Open(BT_PATH[i])\n",
    "    BT_10V=(BT_10V.ReadAsArray().astype('float64'))/10\n",
    "    BT_10V[BT_10V<=100.0]=np.nan\n",
    "    BT_10V[BT_10V>=500.0]=np.nan\n",
    "    BT.append((BT_10V[48:65,26:52]).reshape(-1))\n",
    "    \n",
    "    EM_10V=gdal.Open(Emiss_PATH[i])\n",
    "    EM_10V=EM_10V.ReadAsArray()\n",
    "    EMISS.append((EM_10V[48:65,26:52]).reshape(-1))"
   ]
  },
  {
   "cell_type": "code",
   "execution_count": 44,
   "id": "f073b007",
   "metadata": {
    "ExecuteTime": {
     "end_time": "2021-06-29T20:03:05.555810Z",
     "start_time": "2021-06-29T20:03:05.524366Z"
    }
   },
   "outputs": [],
   "source": [
    "df=pd.DataFrame(columns=[\"BT_10V\",\"EMISSIVTY_10V\"])\n",
    "for i in range(len(BT)):\n",
    "    df1=pd.DataFrame({\"BT_10V\":BT[i],\"EMISSIVTY_10V\":EMISS[i]})\n",
    "    df=df.append(df1,ignore_index=True)"
   ]
  },
  {
   "cell_type": "code",
   "execution_count": 48,
   "id": "52b4a38b",
   "metadata": {
    "ExecuteTime": {
     "end_time": "2021-06-29T20:07:04.506389Z",
     "start_time": "2021-06-29T20:07:04.477607Z"
    }
   },
   "outputs": [],
   "source": [
    "df.dropna(inplace=True)\n",
    "df.reset_index(drop=True, inplace=True)"
   ]
  },
  {
   "cell_type": "code",
   "execution_count": 49,
   "id": "452731e3",
   "metadata": {
    "ExecuteTime": {
     "end_time": "2021-06-29T20:07:08.133816Z",
     "start_time": "2021-06-29T20:07:08.116266Z"
    }
   },
   "outputs": [
    {
     "data": {
      "text/html": [
       "<div>\n",
       "<style scoped>\n",
       "    .dataframe tbody tr th:only-of-type {\n",
       "        vertical-align: middle;\n",
       "    }\n",
       "\n",
       "    .dataframe tbody tr th {\n",
       "        vertical-align: top;\n",
       "    }\n",
       "\n",
       "    .dataframe thead th {\n",
       "        text-align: right;\n",
       "    }\n",
       "</style>\n",
       "<table border=\"1\" class=\"dataframe\">\n",
       "  <thead>\n",
       "    <tr style=\"text-align: right;\">\n",
       "      <th></th>\n",
       "      <th>BT_10V</th>\n",
       "      <th>EMISSIVTY_10V</th>\n",
       "    </tr>\n",
       "  </thead>\n",
       "  <tbody>\n",
       "    <tr>\n",
       "      <th>0</th>\n",
       "      <td>296.4</td>\n",
       "      <td>0.980172</td>\n",
       "    </tr>\n",
       "    <tr>\n",
       "      <th>1</th>\n",
       "      <td>299.6</td>\n",
       "      <td>0.935128</td>\n",
       "    </tr>\n",
       "    <tr>\n",
       "      <th>2</th>\n",
       "      <td>297.8</td>\n",
       "      <td>0.928925</td>\n",
       "    </tr>\n",
       "    <tr>\n",
       "      <th>3</th>\n",
       "      <td>299.5</td>\n",
       "      <td>0.926591</td>\n",
       "    </tr>\n",
       "    <tr>\n",
       "      <th>4</th>\n",
       "      <td>300.6</td>\n",
       "      <td>0.929281</td>\n",
       "    </tr>\n",
       "    <tr>\n",
       "      <th>...</th>\n",
       "      <td>...</td>\n",
       "      <td>...</td>\n",
       "    </tr>\n",
       "    <tr>\n",
       "      <th>7473</th>\n",
       "      <td>298.9</td>\n",
       "      <td>0.944020</td>\n",
       "    </tr>\n",
       "    <tr>\n",
       "      <th>7474</th>\n",
       "      <td>298.9</td>\n",
       "      <td>0.938160</td>\n",
       "    </tr>\n",
       "    <tr>\n",
       "      <th>7475</th>\n",
       "      <td>300.1</td>\n",
       "      <td>0.939591</td>\n",
       "    </tr>\n",
       "    <tr>\n",
       "      <th>7476</th>\n",
       "      <td>301.1</td>\n",
       "      <td>0.946329</td>\n",
       "    </tr>\n",
       "    <tr>\n",
       "      <th>7477</th>\n",
       "      <td>301.9</td>\n",
       "      <td>0.946929</td>\n",
       "    </tr>\n",
       "  </tbody>\n",
       "</table>\n",
       "<p>7478 rows × 2 columns</p>\n",
       "</div>"
      ],
      "text/plain": [
       "      BT_10V  EMISSIVTY_10V\n",
       "0      296.4       0.980172\n",
       "1      299.6       0.935128\n",
       "2      297.8       0.928925\n",
       "3      299.5       0.926591\n",
       "4      300.6       0.929281\n",
       "...      ...            ...\n",
       "7473   298.9       0.944020\n",
       "7474   298.9       0.938160\n",
       "7475   300.1       0.939591\n",
       "7476   301.1       0.946329\n",
       "7477   301.9       0.946929\n",
       "\n",
       "[7478 rows x 2 columns]"
      ]
     },
     "execution_count": 49,
     "metadata": {},
     "output_type": "execute_result"
    }
   ],
   "source": [
    "df"
   ]
  },
  {
   "cell_type": "code",
   "execution_count": 50,
   "id": "cd27369f",
   "metadata": {
    "ExecuteTime": {
     "end_time": "2021-06-29T20:09:39.155086Z",
     "start_time": "2021-06-29T20:09:39.119926Z"
    }
   },
   "outputs": [],
   "source": [
    "df.to_csv('E:/rahul/processed_data/10VGHZdata.csv')"
   ]
  },
  {
   "cell_type": "code",
   "execution_count": null,
   "id": "0a026ebd",
   "metadata": {},
   "outputs": [],
   "source": []
  }
 ],
 "metadata": {
  "kernelspec": {
   "display_name": "Python 3",
   "language": "python",
   "name": "python3"
  },
  "language_info": {
   "codemirror_mode": {
    "name": "ipython",
    "version": 3
   },
   "file_extension": ".py",
   "mimetype": "text/x-python",
   "name": "python",
   "nbconvert_exporter": "python",
   "pygments_lexer": "ipython3",
   "version": "3.8.8"
  },
  "varInspector": {
   "cols": {
    "lenName": 16,
    "lenType": 16,
    "lenVar": 40
   },
   "kernels_config": {
    "python": {
     "delete_cmd_postfix": "",
     "delete_cmd_prefix": "del ",
     "library": "var_list.py",
     "varRefreshCmd": "print(var_dic_list())"
    },
    "r": {
     "delete_cmd_postfix": ") ",
     "delete_cmd_prefix": "rm(",
     "library": "var_list.r",
     "varRefreshCmd": "cat(var_dic_list()) "
    }
   },
   "types_to_exclude": [
    "module",
    "function",
    "builtin_function_or_method",
    "instance",
    "_Feature"
   ],
   "window_display": false
  }
 },
 "nbformat": 4,
 "nbformat_minor": 5
}
