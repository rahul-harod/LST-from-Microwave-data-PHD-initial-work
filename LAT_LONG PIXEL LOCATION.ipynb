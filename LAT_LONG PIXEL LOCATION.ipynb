{
 "cells": [
  {
   "cell_type": "markdown",
   "id": "2ae6fbaa",
   "metadata": {},
   "source": [
    "# row column number based on location"
   ]
  },
  {
   "cell_type": "code",
   "execution_count": 1,
   "id": "24ea100f",
   "metadata": {},
   "outputs": [],
   "source": [
    "import numpy as np"
   ]
  },
  {
   "cell_type": "code",
   "execution_count": 2,
   "id": "6ee1bf7c",
   "metadata": {},
   "outputs": [],
   "source": [
    "# top right corner location\n",
    "# top_lat=37.0\n",
    "# top_lon=68.25\n",
    "# resolution=0.25\n",
    "\n",
    "# lat=[74.75,77.00]\n",
    "# lon=[21.50,23.75]\n",
    "# top_row=int((top_lat-lat[1])/resolution)\n",
    "# botm_row=int((top_lat-lat[0])/resolution)\n",
    "# left_col=int((lon[0]-top_lon)/resolution)\n",
    "# right_col=int((lon[1]-top_lon)/resolution)"
   ]
  },
  {
   "cell_type": "code",
   "execution_count": 3,
   "id": "2eba6a21",
   "metadata": {},
   "outputs": [
    {
     "name": "stdout",
     "output_type": "stream",
     "text": [
      "row [44, 54]\n",
      "column [58, 68]\n"
     ]
    }
   ],
   "source": [
    "# top right corner location\n",
    "top_lat=37.0\n",
    "top_lon=68.25\n",
    "resolution=0.25\n",
    "# bufffer of 1.25 degree or 5 pixels\n",
    "# Rectangle lat lon\n",
    "# Indore\n",
    "location=[84.24,24.71]\n",
    "# # Aurangabad4\n",
    "# location=[75.35,19.90]\n",
    "# # Harihar\n",
    "# location=[75.78,14.58]\n",
    "\n",
    "\n",
    "topleftPoint=[location[0]-resolution*5,location[1]+resolution*5]\n",
    "col=int((topleftPoint[0]-top_lon)/0.25)\n",
    "row=int((top_lat-topleftPoint[1])/0.25)\n",
    "print('row',[row,row+10])\n",
    "print('column',[col,col+10])"
   ]
  },
  {
   "cell_type": "code",
   "execution_count": 20,
   "id": "9a5286c6",
   "metadata": {},
   "outputs": [
    {
     "name": "stdout",
     "output_type": "stream",
     "text": [
      "[[2 3 4]\n",
      " [7 8 9]]\n"
     ]
    }
   ],
   "source": [
    "arr = np.array([[1, 2, 3, 4, 5], [6, 7, 8, 9, 10],[6, 7, 8, 9, 10],[6, 7, 8, 9, 10]])\n",
    "\n",
    "print(arr[0:2, 1:4])\n"
   ]
  },
  {
   "cell_type": "code",
   "execution_count": 10,
   "id": "c131a258",
   "metadata": {},
   "outputs": [
    {
     "data": {
      "text/plain": [
       "array([[2],\n",
       "       [5]])"
      ]
     },
     "execution_count": 10,
     "metadata": {},
     "output_type": "execute_result"
    }
   ],
   "source": []
  },
  {
   "cell_type": "code",
   "execution_count": null,
   "id": "2ff100c0",
   "metadata": {},
   "outputs": [],
   "source": []
  }
 ],
 "metadata": {
  "kernelspec": {
   "display_name": "py38",
   "language": "python",
   "name": "py38"
  },
  "language_info": {
   "codemirror_mode": {
    "name": "ipython",
    "version": 3
   },
   "file_extension": ".py",
   "mimetype": "text/x-python",
   "name": "python",
   "nbconvert_exporter": "python",
   "pygments_lexer": "ipython3",
   "version": "3.8.12"
  }
 },
 "nbformat": 4,
 "nbformat_minor": 5
}
