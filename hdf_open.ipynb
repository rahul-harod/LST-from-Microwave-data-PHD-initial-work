{
 "cells": [
  {
   "cell_type": "code",
   "execution_count": 2,
   "id": "0c4c4b9c",
   "metadata": {
    "ExecuteTime": {
     "end_time": "2021-06-21T22:16:23.712754Z",
     "start_time": "2021-06-21T22:16:23.584134Z"
    }
   },
   "outputs": [],
   "source": [
    "import os\n",
    "import matplotlib.pyplot as plt\n",
    "from osgeo import gdal\n",
    "import numpy as np\n",
    "import pandas as pd"
   ]
  },
  {
   "cell_type": "code",
   "execution_count": 3,
   "id": "9080dba7",
   "metadata": {
    "ExecuteTime": {
     "end_time": "2021-06-21T22:16:58.149089Z",
     "start_time": "2021-06-21T22:16:58.144046Z"
    }
   },
   "outputs": [],
   "source": [
    "path=r\"E:\\CREST-AMSR-E-Emissivity-Monthly-200604-V1.hdf\""
   ]
  },
  {
   "cell_type": "code",
   "execution_count": 4,
   "id": "46e16e7e",
   "metadata": {
    "ExecuteTime": {
     "end_time": "2021-06-21T22:17:01.509011Z",
     "start_time": "2021-06-21T22:17:01.487952Z"
    }
   },
   "outputs": [],
   "source": [
    "modis_pre = gdal.Open(path)"
   ]
  },
  {
   "cell_type": "code",
   "execution_count": 5,
   "id": "2ffbd4cd",
   "metadata": {
    "ExecuteTime": {
     "end_time": "2021-06-21T22:17:02.601829Z",
     "start_time": "2021-06-21T22:17:02.583610Z"
    }
   },
   "outputs": [
    {
     "data": {
      "text/plain": [
       "[('HDF4_SDS:UNKNOWN:\"E:\\\\CREST-AMSR-E-Emissivity-Monthly-200604-V1.hdf\":0',\n",
       "  '[720x1440] 6.9  V (64-bit floating-point)'),\n",
       " ('HDF4_SDS:UNKNOWN:\"E:\\\\CREST-AMSR-E-Emissivity-Monthly-200604-V1.hdf\":1',\n",
       "  '[720x1440] 6.9  H (64-bit floating-point)'),\n",
       " ('HDF4_SDS:UNKNOWN:\"E:\\\\CREST-AMSR-E-Emissivity-Monthly-200604-V1.hdf\":2',\n",
       "  '[720x1440] 10.7 V (64-bit floating-point)'),\n",
       " ('HDF4_SDS:UNKNOWN:\"E:\\\\CREST-AMSR-E-Emissivity-Monthly-200604-V1.hdf\":3',\n",
       "  '[720x1440] 10.7 H (64-bit floating-point)'),\n",
       " ('HDF4_SDS:UNKNOWN:\"E:\\\\CREST-AMSR-E-Emissivity-Monthly-200604-V1.hdf\":4',\n",
       "  '[720x1440] 18.7 V (64-bit floating-point)'),\n",
       " ('HDF4_SDS:UNKNOWN:\"E:\\\\CREST-AMSR-E-Emissivity-Monthly-200604-V1.hdf\":5',\n",
       "  '[720x1440] 18.7 H (64-bit floating-point)'),\n",
       " ('HDF4_SDS:UNKNOWN:\"E:\\\\CREST-AMSR-E-Emissivity-Monthly-200604-V1.hdf\":6',\n",
       "  '[720x1440] 23.8 V (64-bit floating-point)'),\n",
       " ('HDF4_SDS:UNKNOWN:\"E:\\\\CREST-AMSR-E-Emissivity-Monthly-200604-V1.hdf\":7',\n",
       "  '[720x1440] 23.8 H (64-bit floating-point)'),\n",
       " ('HDF4_SDS:UNKNOWN:\"E:\\\\CREST-AMSR-E-Emissivity-Monthly-200604-V1.hdf\":8',\n",
       "  '[720x1440] 36.5 V (64-bit floating-point)'),\n",
       " ('HDF4_SDS:UNKNOWN:\"E:\\\\CREST-AMSR-E-Emissivity-Monthly-200604-V1.hdf\":9',\n",
       "  '[720x1440] 36.5 H (64-bit floating-point)'),\n",
       " ('HDF4_SDS:UNKNOWN:\"E:\\\\CREST-AMSR-E-Emissivity-Monthly-200604-V1.hdf\":10',\n",
       "  '[720x1440] 89.0 V (64-bit floating-point)'),\n",
       " ('HDF4_SDS:UNKNOWN:\"E:\\\\CREST-AMSR-E-Emissivity-Monthly-200604-V1.hdf\":11',\n",
       "  '[720x1440] 89.0 H (64-bit floating-point)')]"
      ]
     },
     "execution_count": 5,
     "metadata": {},
     "output_type": "execute_result"
    }
   ],
   "source": [
    "modis_pre.GetSubDatasets()"
   ]
  },
  {
   "cell_type": "code",
   "execution_count": 50,
   "id": "d9d44b44",
   "metadata": {
    "ExecuteTime": {
     "end_time": "2021-06-20T01:48:38.838523Z",
     "start_time": "2021-06-20T01:48:38.818577Z"
    }
   },
   "outputs": [
    {
     "data": {
      "text/plain": [
       "('HDF4_EOS:EOS_GRID:\"E:\\\\AMSR_E_L3_SeaIce12km_V15_20020817.hdf\":NpPolarGrid12km:SI_12km_NH_18V_ASC',\n",
       " '[896x608] SI_12km_NH_18V_ASC NpPolarGrid12km (16-bit integer)')"
      ]
     },
     "execution_count": 50,
     "metadata": {},
     "output_type": "execute_result"
    }
   ],
   "source": [
    "modis_pre.GetSubDatasets()[0]"
   ]
  },
  {
   "cell_type": "code",
   "execution_count": 6,
   "id": "f4d494e5",
   "metadata": {
    "ExecuteTime": {
     "end_time": "2021-06-21T22:17:57.633533Z",
     "start_time": "2021-06-21T22:17:57.619570Z"
    }
   },
   "outputs": [],
   "source": [
    "d=gdal.Open('HDF4_SDS:UNKNOWN:\"E:\\\\CREST-AMSR-E-Emissivity-Monthly-200604-V1.hdf\":0')\n",
    "d.GetProjection()"
   ]
  },
  {
   "cell_type": "code",
   "execution_count": 15,
   "id": "f68dd019",
   "metadata": {
    "ExecuteTime": {
     "end_time": "2021-06-21T23:08:39.805130Z",
     "start_time": "2021-06-21T23:08:39.776406Z"
    },
    "scrolled": true
   },
   "outputs": [],
   "source": [
    "data=d.ReadAsArray()"
   ]
  },
  {
   "cell_type": "code",
   "execution_count": 16,
   "id": "75b8d9c0",
   "metadata": {
    "ExecuteTime": {
     "end_time": "2021-06-21T23:08:46.382710Z",
     "start_time": "2021-06-21T23:08:46.363655Z"
    }
   },
   "outputs": [
    {
     "data": {
      "text/plain": [
       "array([[-9.99000000e+02, -9.99000000e+02, -9.99000000e+02, ...,\n",
       "        -9.99000000e+02, -9.99000000e+02, -9.99000000e+02],\n",
       "       [-9.99000000e+02, -9.99000000e+02, -9.99000000e+02, ...,\n",
       "        -9.99000000e+02, -9.99000000e+02, -9.99000000e+02],\n",
       "       [-9.99000000e+02, -9.99000000e+02, -9.99000000e+02, ...,\n",
       "        -9.99000000e+02, -9.99000000e+02, -9.99000000e+02],\n",
       "       ...,\n",
       "       [ 9.51542857e-01,  9.51542857e-01,  9.51542857e-01, ...,\n",
       "         9.48863636e-01,  9.48863636e-01,  9.48863636e-01],\n",
       "       [ 9.50822222e-01,  9.50822222e-01,  9.50822222e-01, ...,\n",
       "         9.50822222e-01,  9.50822222e-01,  9.50822222e-01],\n",
       "       [-9.99000000e+02, -9.99000000e+02, -9.99000000e+02, ...,\n",
       "        -9.99000000e+02, -9.99000000e+02, -9.99000000e+02]])"
      ]
     },
     "execution_count": 16,
     "metadata": {},
     "output_type": "execute_result"
    }
   ],
   "source": [
    "data"
   ]
  },
  {
   "cell_type": "code",
   "execution_count": 14,
   "id": "af5daa4c",
   "metadata": {
    "ExecuteTime": {
     "end_time": "2021-06-21T23:07:33.961831Z",
     "start_time": "2021-06-21T23:07:33.953856Z"
    }
   },
   "outputs": [
    {
     "data": {
      "text/plain": [
       "(0.0, 1.0, 0.0, 0.0, 0.0, 1.0)"
      ]
     },
     "execution_count": 14,
     "metadata": {},
     "output_type": "execute_result"
    }
   ],
   "source": [
    "d.GetGeoTransform()"
   ]
  },
  {
   "cell_type": "code",
   "execution_count": 20,
   "id": "0f90eb80",
   "metadata": {
    "ExecuteTime": {
     "end_time": "2021-06-21T23:16:11.587168Z",
     "start_time": "2021-06-21T23:16:11.568167Z"
    }
   },
   "outputs": [],
   "source": [
    "p=gdal.Open(r'E:\\\\MYD11C1.A2006091.006.2015286220745_MODIS_CMG_3MIN_LST.tif')\n",
    "projection=p.GetProjection()\n",
    "geotrans=p.GetGeoTransform()"
   ]
  },
  {
   "cell_type": "code",
   "execution_count": 21,
   "id": "8b185bc8",
   "metadata": {
    "ExecuteTime": {
     "end_time": "2021-06-21T23:16:12.215676Z",
     "start_time": "2021-06-21T23:16:12.194946Z"
    }
   },
   "outputs": [],
   "source": [
    "def WriteImage(outpath,image,proj,geo):\n",
    "    ds=None\n",
    "    driver=gdal.GetDriverByName(\"GTiff\")\n",
    "    ds=driver.Create(outpath,image.shape[1],image.shape[0], 1,gdal.GDT_Float32)\n",
    "    ds.SetProjection(proj)\n",
    "    ds.SetGeoTransform(geo)\n",
    "    ds.GetRasterBand(1).WriteArray(image)\n",
    "    return ds"
   ]
  },
  {
   "cell_type": "code",
   "execution_count": 24,
   "id": "783aca5a",
   "metadata": {
    "ExecuteTime": {
     "end_time": "2021-06-21T23:18:07.322141Z",
     "start_time": "2021-06-21T23:18:07.239686Z"
    }
   },
   "outputs": [],
   "source": [
    "VE=WriteImage(r\"E:\\projected_emiss.tif\",data,projection,geotrans)\n",
    "t=gdal.Warp(r\"E:\\resample.tif\",VE,\n",
    "         xRes=0.25,yRes=0.25,\n",
    "          resampleAlg=gdal.GRA_Average\n",
    "         )"
   ]
  },
  {
   "cell_type": "code",
   "execution_count": 23,
   "id": "54015e2c",
   "metadata": {
    "ExecuteTime": {
     "end_time": "2021-06-21T23:17:21.955418Z",
     "start_time": "2021-06-21T23:17:21.933961Z"
    }
   },
   "outputs": [
    {
     "data": {
      "text/plain": [
       "1440"
      ]
     },
     "execution_count": 23,
     "metadata": {},
     "output_type": "execute_result"
    }
   ],
   "source": []
  },
  {
   "cell_type": "code",
   "execution_count": 9,
   "id": "b377517c",
   "metadata": {
    "ExecuteTime": {
     "end_time": "2021-06-21T23:04:42.526286Z",
     "start_time": "2021-06-21T23:04:42.503530Z"
    }
   },
   "outputs": [],
   "source": [
    "projected=gdal.Warp(\"E:\\\\new_projected.tif\",d,\n",
    "         dstSRS=proj,\n",
    "         )"
   ]
  }
 ],
 "metadata": {
  "kernelspec": {
   "display_name": "Python 3",
   "language": "python",
   "name": "python3"
  },
  "language_info": {
   "codemirror_mode": {
    "name": "ipython",
    "version": 3
   },
   "file_extension": ".py",
   "mimetype": "text/x-python",
   "name": "python",
   "nbconvert_exporter": "python",
   "pygments_lexer": "ipython3",
   "version": "3.8.8"
  },
  "varInspector": {
   "cols": {
    "lenName": 16,
    "lenType": 16,
    "lenVar": 40
   },
   "kernels_config": {
    "python": {
     "delete_cmd_postfix": "",
     "delete_cmd_prefix": "del ",
     "library": "var_list.py",
     "varRefreshCmd": "print(var_dic_list())"
    },
    "r": {
     "delete_cmd_postfix": ") ",
     "delete_cmd_prefix": "rm(",
     "library": "var_list.r",
     "varRefreshCmd": "cat(var_dic_list()) "
    }
   },
   "types_to_exclude": [
    "module",
    "function",
    "builtin_function_or_method",
    "instance",
    "_Feature"
   ],
   "window_display": false
  }
 },
 "nbformat": 4,
 "nbformat_minor": 5
}
