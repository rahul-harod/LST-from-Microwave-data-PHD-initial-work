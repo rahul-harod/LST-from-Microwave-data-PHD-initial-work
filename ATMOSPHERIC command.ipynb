{
 "cells": [
  {
   "cell_type": "code",
   "execution_count": 1,
   "id": "a926e063",
   "metadata": {},
   "outputs": [],
   "source": [
    "import numpy as np\n",
    "import pandas as pd\n"
   ]
  },
  {
   "cell_type": "code",
   "execution_count": 2,
   "id": "221a35e7",
   "metadata": {},
   "outputs": [],
   "source": [
    "# lat=[22.70,19.90,14.58];\n",
    "# lon=[75.86,75.35,75.78];\n",
    "\n",
    "# North east\n",
    "lat=[24.71]\n",
    "lon=[84.54]"
   ]
  },
  {
   "cell_type": "code",
   "execution_count": 7,
   "id": "2777af64",
   "metadata": {},
   "outputs": [
    {
     "data": {
      "text/plain": [
       "'sndtp5.exe -noaa_d -lat_n 24.71 -long_e 84.54 -time 8.00 -day June 1 –json && sndtp5.exe -noaa_d -lat_n 24.71 -long_e 84.54 -time 8.00 -day June 2 –json && sndtp5.exe -noaa_d -lat_n 24.71 -long_e 84.54 -time 8.00 -day June 3 –json && sndtp5.exe -noaa_d -lat_n 24.71 -long_e 84.54 -time 8.00 -day June 4 –json && sndtp5.exe -noaa_d -lat_n 24.71 -long_e 84.54 -time 8.00 -day June 5 –json && sndtp5.exe -noaa_d -lat_n 24.71 -long_e 84.54 -time 8.00 -day June 6 –json && sndtp5.exe -noaa_d -lat_n 24.71 -long_e 84.54 -time 8.00 -day June 7 –json && sndtp5.exe -noaa_d -lat_n 24.71 -long_e 84.54 -time 8.00 -day June 8 –json && sndtp5.exe -noaa_d -lat_n 24.71 -long_e 84.54 -time 8.00 -day June 9 –json && sndtp5.exe -noaa_d -lat_n 24.71 -long_e 84.54 -time 8.00 -day June 10 –json '"
      ]
     },
     "execution_count": 7,
     "metadata": {},
     "output_type": "execute_result"
    }
   ],
   "source": [
    "indore=''\n",
    "j=0\n",
    "for i in range(1,11):\n",
    "    indore+=\"sndtp5.exe -noaa_d -lat_n \"+str(lat[j])+ \" -long_e \"+ str(lon[j])+ \" -time 8.00 -day June \"+  str(i)+ \" –json && \"\n",
    "indore[:-3]"
   ]
  },
  {
   "cell_type": "code",
   "execution_count": 4,
   "id": "30ce7e66",
   "metadata": {},
   "outputs": [
    {
     "ename": "IndexError",
     "evalue": "list index out of range",
     "output_type": "error",
     "traceback": [
      "\u001b[1;31m---------------------------------------------------------------------------\u001b[0m",
      "\u001b[1;31mIndexError\u001b[0m                                Traceback (most recent call last)",
      "\u001b[1;32m<ipython-input-4-499f3b0d40f5>\u001b[0m in \u001b[0;36m<module>\u001b[1;34m\u001b[0m\n\u001b[0;32m      2\u001b[0m \u001b[0mj\u001b[0m\u001b[1;33m=\u001b[0m\u001b[1;36m1\u001b[0m\u001b[1;33m\u001b[0m\u001b[1;33m\u001b[0m\u001b[0m\n\u001b[0;32m      3\u001b[0m \u001b[1;32mfor\u001b[0m \u001b[0mi\u001b[0m \u001b[1;32min\u001b[0m \u001b[0mrange\u001b[0m\u001b[1;33m(\u001b[0m\u001b[1;36m1\u001b[0m\u001b[1;33m,\u001b[0m\u001b[1;36m11\u001b[0m\u001b[1;33m)\u001b[0m\u001b[1;33m:\u001b[0m\u001b[1;33m\u001b[0m\u001b[1;33m\u001b[0m\u001b[0m\n\u001b[1;32m----> 4\u001b[1;33m     \u001b[0maurangabad\u001b[0m\u001b[1;33m+=\u001b[0m\u001b[1;34m\"sndtp5.exe -noaa_d -lat_n \"\u001b[0m\u001b[1;33m+\u001b[0m\u001b[0mstr\u001b[0m\u001b[1;33m(\u001b[0m\u001b[0mlat\u001b[0m\u001b[1;33m[\u001b[0m\u001b[0mj\u001b[0m\u001b[1;33m]\u001b[0m\u001b[1;33m)\u001b[0m\u001b[1;33m+\u001b[0m \u001b[1;34m\" -long_e \"\u001b[0m\u001b[1;33m+\u001b[0m \u001b[0mstr\u001b[0m\u001b[1;33m(\u001b[0m\u001b[0mlon\u001b[0m\u001b[1;33m[\u001b[0m\u001b[0mj\u001b[0m\u001b[1;33m]\u001b[0m\u001b[1;33m)\u001b[0m\u001b[1;33m+\u001b[0m \u001b[1;34m\" -time 8.00 -day APRIL \"\u001b[0m\u001b[1;33m+\u001b[0m  \u001b[0mstr\u001b[0m\u001b[1;33m(\u001b[0m\u001b[0mi\u001b[0m\u001b[1;33m)\u001b[0m\u001b[1;33m+\u001b[0m \u001b[1;34m\" –json && \"\u001b[0m\u001b[1;33m\u001b[0m\u001b[1;33m\u001b[0m\u001b[0m\n\u001b[0m\u001b[0;32m      5\u001b[0m \u001b[1;33m\u001b[0m\u001b[0m\n\u001b[0;32m      6\u001b[0m \u001b[0maurangabad\u001b[0m\u001b[1;33m[\u001b[0m\u001b[1;33m:\u001b[0m\u001b[1;33m-\u001b[0m\u001b[1;36m3\u001b[0m\u001b[1;33m]\u001b[0m\u001b[1;33m\u001b[0m\u001b[1;33m\u001b[0m\u001b[0m\n",
      "\u001b[1;31mIndexError\u001b[0m: list index out of range"
     ]
    }
   ],
   "source": [
    "aurangabad=''\n",
    "j=1\n",
    "for i in range(1,11):\n",
    "    aurangabad+=\"sndtp5.exe -noaa_d -lat_n \"+str(lat[j])+ \" -long_e \"+ str(lon[j])+ \" -time 8.00 -day APRIL \"+  str(i)+ \" –json && \"\n",
    "    \n",
    "aurangabad[:-3]"
   ]
  },
  {
   "cell_type": "code",
   "execution_count": 20,
   "id": "8efbedba",
   "metadata": {},
   "outputs": [
    {
     "data": {
      "text/plain": [
       "'sndtp5.exe -noaa_d -lat_n 14.58 -long_e 75.78 -time 8.00 -day APRIL 1 –json && sndtp5.exe -noaa_d -lat_n 14.58 -long_e 75.78 -time 8.00 -day APRIL 2 –json && sndtp5.exe -noaa_d -lat_n 14.58 -long_e 75.78 -time 8.00 -day APRIL 3 –json && sndtp5.exe -noaa_d -lat_n 14.58 -long_e 75.78 -time 8.00 -day APRIL 4 –json && sndtp5.exe -noaa_d -lat_n 14.58 -long_e 75.78 -time 8.00 -day APRIL 5 –json && sndtp5.exe -noaa_d -lat_n 14.58 -long_e 75.78 -time 8.00 -day APRIL 6 –json && sndtp5.exe -noaa_d -lat_n 14.58 -long_e 75.78 -time 8.00 -day APRIL 7 –json && sndtp5.exe -noaa_d -lat_n 14.58 -long_e 75.78 -time 8.00 -day APRIL 8 –json && sndtp5.exe -noaa_d -lat_n 14.58 -long_e 75.78 -time 8.00 -day APRIL 9 –json && sndtp5.exe -noaa_d -lat_n 14.58 -long_e 75.78 -time 8.00 -day APRIL 10 –json '"
      ]
     },
     "execution_count": 20,
     "metadata": {},
     "output_type": "execute_result"
    }
   ],
   "source": [
    "harihar=''\n",
    "j=2\n",
    "for i in range(1,11):\n",
    "    harihar+=\"sndtp5.exe -noaa_d -lat_n \"+str(lat[j])+ \" -long_e \"+ str(lon[j])+ \" -time 8.00 -day APRIL \"+  str(i)+ \" –json && \"\n",
    "    \n",
    "harihar[:-3]"
   ]
  },
  {
   "cell_type": "code",
   "execution_count": null,
   "id": "7e2cf94e",
   "metadata": {},
   "outputs": [],
   "source": []
  },
  {
   "cell_type": "code",
   "execution_count": null,
   "id": "0a71ca5b",
   "metadata": {},
   "outputs": [],
   "source": []
  }
 ],
 "metadata": {
  "kernelspec": {
   "display_name": "Python 3",
   "language": "python",
   "name": "python3"
  },
  "language_info": {
   "codemirror_mode": {
    "name": "ipython",
    "version": 3
   },
   "file_extension": ".py",
   "mimetype": "text/x-python",
   "name": "python",
   "nbconvert_exporter": "python",
   "pygments_lexer": "ipython3",
   "version": "3.8.12"
  }
 },
 "nbformat": 4,
 "nbformat_minor": 5
}
