{
 "cells": [
  {
   "cell_type": "code",
   "execution_count": 1,
   "id": "29c62aa6",
   "metadata": {},
   "outputs": [],
   "source": [
    "import numpy as np\n",
    "import matplotlib.pyplot as plt\n",
    "from osgeo import gdal\n",
    "import pandas as pd\n",
    "import os"
   ]
  },
  {
   "cell_type": "code",
   "execution_count": 9,
   "id": "2e4ec0eb",
   "metadata": {},
   "outputs": [
    {
     "name": "stdout",
     "output_type": "stream",
     "text": [
      "E:23sept/LST_error/LST_error_June_10_B06_9V.tif\n",
      "E:23sept/LST_error/LST_error_June_10_B10_7V.tif\n",
      "E:23sept/LST_error/LST_error_June_10_B18_7V.tif\n",
      "E:23sept/LST_error/LST_error_June_10_B36_5V.tif\n",
      "E:23sept/LST_error/LST_error_June_10_B89_0V.tif\n",
      "E:23sept/LST_error/LST_error_June_1_B06_9V.tif\n",
      "E:23sept/LST_error/LST_error_June_1_B10_7V.tif\n",
      "E:23sept/LST_error/LST_error_June_1_B18_7V.tif\n",
      "E:23sept/LST_error/LST_error_June_1_B36_5V.tif\n",
      "E:23sept/LST_error/LST_error_June_1_B89_0V.tif\n",
      "E:23sept/LST_error/LST_error_June_2_B06_9V.tif\n",
      "E:23sept/LST_error/LST_error_June_2_B10_7V.tif\n",
      "E:23sept/LST_error/LST_error_June_2_B18_7V.tif\n",
      "E:23sept/LST_error/LST_error_June_2_B36_5V.tif\n",
      "E:23sept/LST_error/LST_error_June_2_B89_0V.tif\n",
      "E:23sept/LST_error/LST_error_June_3_B06_9V.tif\n",
      "E:23sept/LST_error/LST_error_June_3_B10_7V.tif\n",
      "E:23sept/LST_error/LST_error_June_3_B18_7V.tif\n",
      "E:23sept/LST_error/LST_error_June_3_B36_5V.tif\n",
      "E:23sept/LST_error/LST_error_June_3_B89_0V.tif\n",
      "E:23sept/LST_error/LST_error_June_4_B06_9V.tif\n",
      "E:23sept/LST_error/LST_error_June_4_B10_7V.tif\n",
      "E:23sept/LST_error/LST_error_June_4_B18_7V.tif\n",
      "E:23sept/LST_error/LST_error_June_4_B36_5V.tif\n",
      "E:23sept/LST_error/LST_error_June_4_B89_0V.tif\n",
      "E:23sept/LST_error/LST_error_June_5_B06_9V.tif\n",
      "E:23sept/LST_error/LST_error_June_5_B10_7V.tif\n",
      "E:23sept/LST_error/LST_error_June_5_B18_7V.tif\n",
      "E:23sept/LST_error/LST_error_June_5_B36_5V.tif\n",
      "E:23sept/LST_error/LST_error_June_5_B89_0V.tif\n",
      "E:23sept/LST_error/LST_error_June_6_B06_9V.tif\n",
      "E:23sept/LST_error/LST_error_June_6_B10_7V.tif\n",
      "E:23sept/LST_error/LST_error_June_6_B18_7V.tif\n",
      "E:23sept/LST_error/LST_error_June_6_B36_5V.tif\n",
      "E:23sept/LST_error/LST_error_June_6_B89_0V.tif\n",
      "E:23sept/LST_error/LST_error_June_7_B06_9V.tif\n",
      "E:23sept/LST_error/LST_error_June_7_B10_7V.tif\n",
      "E:23sept/LST_error/LST_error_June_7_B18_7V.tif\n",
      "E:23sept/LST_error/LST_error_June_7_B36_5V.tif\n",
      "E:23sept/LST_error/LST_error_June_7_B89_0V.tif\n",
      "E:23sept/LST_error/LST_error_June_8_B06_9V.tif\n",
      "E:23sept/LST_error/LST_error_June_8_B10_7V.tif\n",
      "E:23sept/LST_error/LST_error_June_8_B18_7V.tif\n",
      "E:23sept/LST_error/LST_error_June_8_B36_5V.tif\n",
      "E:23sept/LST_error/LST_error_June_8_B89_0V.tif\n",
      "E:23sept/LST_error/LST_error_June_9_B06_9V.tif\n",
      "E:23sept/LST_error/LST_error_June_9_B10_7V.tif\n",
      "E:23sept/LST_error/LST_error_June_9_B18_7V.tif\n",
      "E:23sept/LST_error/LST_error_June_9_B36_5V.tif\n",
      "E:23sept/LST_error/LST_error_June_9_B89_0V.tif\n"
     ]
    }
   ],
   "source": [
    "folder_error=r'E:23sept/LST_error/'\n",
    "E_path=[]\n",
    "file_name=[]\n",
    "for root, dirs, files in os.walk(folder_error):\n",
    "    for names in files:\n",
    "        if 'June' in names:\n",
    "            full_path=folder_error+names\n",
    "            E_path.append(full_path)\n",
    "            file_name.append(names)\n",
    "            print(full_path)"
   ]
  },
  {
   "cell_type": "code",
   "execution_count": 5,
   "id": "37281d19",
   "metadata": {},
   "outputs": [
    {
     "data": {
      "text/plain": [
       "'error_April_10_B06_9V'"
      ]
     },
     "execution_count": 5,
     "metadata": {},
     "output_type": "execute_result"
    }
   ],
   "source": [
    "file_name[0][4:-4]"
   ]
  },
  {
   "cell_type": "code",
   "execution_count": 10,
   "id": "0dbc1747",
   "metadata": {},
   "outputs": [],
   "source": [
    "# define subplots\n",
    "fig, axs = plt.subplots(10,5,figsize=(15,15));\n",
    "number=0;\n",
    "for i in range(10):\n",
    "    for j in range(5):\n",
    "        fig.tight_layout()\n",
    "        data=gdal.Open(E_path[number])\n",
    "        data=data.ReadAsArray()\n",
    "        \n",
    "#         North_east clip\n",
    "#         data=data[row1:row2,col1:col2]\n",
    "        data=data[44:55,58:69]\n",
    "        pos=axs[i,j].imshow(data,cmap = 'tab10',vmin=-10,vmax=10);\n",
    "        fig.colorbar(pos, ax = axs[i,j])\n",
    "        axs[i,j].set_title('LST '+file_name[number][4:-4]);\n",
    "        number+=1;\n",
    "        \n",
    "fig.savefig(r'E:23sept/Error_plot/June_LST_error.jpeg',dpi=300)"
   ]
  },
  {
   "cell_type": "code",
   "execution_count": null,
   "id": "c19e71f4",
   "metadata": {},
   "outputs": [],
   "source": []
  },
  {
   "cell_type": "code",
   "execution_count": null,
   "id": "cd3f04cb",
   "metadata": {},
   "outputs": [],
   "source": []
  },
  {
   "cell_type": "code",
   "execution_count": null,
   "id": "f3885d3e",
   "metadata": {},
   "outputs": [],
   "source": []
  },
  {
   "cell_type": "code",
   "execution_count": null,
   "id": "ac7d83ea",
   "metadata": {},
   "outputs": [],
   "source": []
  }
 ],
 "metadata": {
  "kernelspec": {
   "display_name": "py38",
   "language": "python",
   "name": "py38"
  },
  "language_info": {
   "codemirror_mode": {
    "name": "ipython",
    "version": 3
   },
   "file_extension": ".py",
   "mimetype": "text/x-python",
   "name": "python",
   "nbconvert_exporter": "python",
   "pygments_lexer": "ipython3",
   "version": "3.8.12"
  }
 },
 "nbformat": 4,
 "nbformat_minor": 5
}
